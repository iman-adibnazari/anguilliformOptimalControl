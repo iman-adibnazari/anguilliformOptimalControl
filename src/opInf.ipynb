{
 "cells": [
  {
   "attachments": {},
   "cell_type": "markdown",
   "metadata": {},
   "source": [
    "This notebook generates a single linear model using the operator inference methodology\n"
   ]
  },
  {
   "cell_type": "code",
   "execution_count": 1,
   "metadata": {},
   "outputs": [],
   "source": [
    "#!/usr/bin/env python\n",
    "# -*- coding: utf-8 -*-\n",
    "import numpy as np\n",
    "from sklearn.decomposition import TruncatedSVD\n",
    "from scipy.sparse import csr_matrix\n",
    "from sklearn.utils.extmath import randomized_svd\n",
    " \n",
    "import os\n",
    "import matplotlib.pyplot as plt\n",
    "import matplotlib as mpl\n",
    "from matplotlib.animation import FuncAnimation\n",
    "from dotenv import dotenv_values \n",
    "from moviepy.editor import VideoClip\n",
    "from moviepy.video.io.bindings import mplfig_to_npimage\n",
    "\n",
    "import opinf\n",
    "\n",
    "config = dotenv_values(\".env\")\n"
   ]
  },
  {
   "cell_type": "code",
   "execution_count": 22,
   "metadata": {},
   "outputs": [],
   "source": [
    "# Read in data and build data matrices\n",
    "filepath = config[\"currentDirectory\"] + \"data/processedData/processedData_policySeed_0.npz\"\n",
    "\n",
    "Ndata = 50 # number of timesteps worth of data to grab from each file\n",
    "Nepisodes = 1 # number of episodes worth of data to aggregate into each data matrix\n",
    "\n",
    "with np.load(filepath) as data:\n",
    "    stateData = data['stateData']\n",
    "    inputData = data['inputData']\n",
    "    centerlineData = data['centerlineData']\n",
    "\n",
    "# Center state and centerline data\n",
    "stateOffset = stateData[0,:]\n",
    "stateData = stateData-stateOffset\n",
    "\n",
    "centerlineOffset = centerlineData[0,:]\n",
    "centerlineData = centerlineData-centerlineOffset\n",
    "\n",
    "# Build data matrices\n",
    "X = np.transpose(stateData[0:Ndata,:])\n",
    "Xprime = np.transpose(stateData[1:Ndata+1,:])\n",
    "Upsilon = np.transpose(inputData[0:Ndata,:])\n",
    "Y = np.transpose(centerlineData[0:Ndata,:])\n",
    "\n",
    "n = X.shape[0] # size of state space \n",
    "l = Upsilon.shape[0] # number of inputs\n",
    "m = Y.shape[0] # number of outputs\n",
    "\n",
    "\n",
    "# Preallocate data matrices\n",
    "X = np.zeros((n,Ndata*Nepisodes))\n",
    "Xprime = np.zeros((n,Ndata*Nepisodes))\n",
    "Upsilon = np.zeros((l,Ndata*Nepisodes))\n",
    "Y = np.zeros((m,Ndata*Nepisodes))\n",
    "\n",
    "\n",
    "# Read in data and build aggregate data matrices\n",
    "for i in range(Nepisodes):\n",
    "    filepath = config[\"currentDirectory\"] + \"data/processedData/processedData_policySeed_\" + str(i) + \".npz\"\n",
    "    with np.load(filepath) as data:\n",
    "        stateData = data['stateData']\n",
    "        inputData = data['inputData']\n",
    "        centerlineData = data['centerlineData']\n",
    "\n",
    "    # Center state and centerline data\n",
    "    stateOffset = stateData[0,:]\n",
    "    stateData = stateData-stateOffset\n",
    "\n",
    "    centerlineOffset = centerlineData[0,:]\n",
    "    centerlineData = centerlineData-centerlineOffset\n",
    "\n",
    "    # Build data matrices\n",
    "    X[:,i*Ndata:(i+1)*Ndata] = np.transpose(stateData[0:Ndata,:])\n",
    "    Xprime[:,i*Ndata:(i+1)*Ndata] = np.transpose(stateData[1:Ndata+1,:])\n",
    "    Upsilon[:,i*Ndata:(i+1)*Ndata] = np.transpose(inputData[0:Ndata,:])\n",
    "    Y[:,i*Ndata:(i+1)*Ndata] = np.transpose(centerlineData[0:Ndata,:])\n"
   ]
  },
  {
   "cell_type": "code",
   "execution_count": 26,
   "metadata": {},
   "outputs": [
    {
     "data": {
      "text/plain": [
       "1.3403436645683958e+60"
      ]
     },
     "execution_count": 26,
     "metadata": {},
     "output_type": "execute_result"
    }
   ],
   "source": [
    "dt = 0.0005 # timestep size\n",
    "t = np.arange(0,20*dt,dt) # time vector\n",
    "Q = X\n",
    "basis = opinf.pre.PODBasis().fit(Q, r=20)                # Construct the low-dimensional basis.\n",
    "Qdot = opinf.pre.ddt(Q, dt, order=6)                    # Calculate the time derivative matrix.\n",
    "rom = opinf.DiscreteOpInfROM(modelform=\"AB\")           # Define the model structure.\n",
    "solver = opinf.lstsq.L2Solver(regularizer=1e-2)         # Select a least-squares solver with regularization.\n",
    "rom.fit(basis, Q, Qdot, Upsilon,solver=solver)                  # Construct the ROM by solving the operator inference.\n",
    "# Simulate the learned model over the time domain.\n",
    "Q_ROM = rom.predict(Q[:, 0],20,Upsilon[:,0:19])\n",
    "# Compute the error of the ROM prediction.\n",
    "absolute_error, relative_error = opinf.post.Lp_error(Q[:,0:20], Q_ROM, t=t, p=1)\n",
    "absolute_error\n"
   ]
  },
  {
   "cell_type": "code",
   "execution_count": 12,
   "metadata": {},
   "outputs": [
    {
     "data": {
      "text/plain": [
       "array([[ -268834.49457355,  -803831.45498628,   565334.18255761,\n",
       "         -706422.40559257],\n",
       "       [-1363572.8387595 ,  -590206.64117397,  -458711.71276678,\n",
       "         -170554.23839449],\n",
       "       [  258814.14400407,  1080943.48804534,   758290.55362688,\n",
       "         -512281.29888121],\n",
       "       [ 1405026.10199712, -1479580.32677803,   600806.20139383,\n",
       "          162755.35624767],\n",
       "       [ -741806.22304977,   229807.42993998,   344593.37609173,\n",
       "          372023.74018352]])"
      ]
     },
     "execution_count": 12,
     "metadata": {},
     "output_type": "execute_result"
    }
   ],
   "source": [
    "rom.B_.entries"
   ]
  },
  {
   "cell_type": "code",
   "execution_count": null,
   "metadata": {},
   "outputs": [],
   "source": [
    "# Form snapshot matrices for DMD\n",
    "\n",
    "Omega = np.concatenate([X,Upsilon],axis=0)\n",
    "\n",
    "n = X.shape[0] # size of state space \n",
    "l = Upsilon.shape[0] # number of inputs\n",
    "m = Y.shape[0] # number of outputs"
   ]
  },
  {
   "cell_type": "code",
   "execution_count": null,
   "metadata": {},
   "outputs": [],
   "source": [
    "# Decompose snapshot matrices using truncated SVD algorithm\n",
    "p = 1000# Truncation value for input space\n",
    "r = 100 # Truncation value for output space\n",
    "\n",
    "U_tilde,Sigma_tilde,Vh_tilde = randomized_svd(Omega, n_components=p)\n",
    "Sigma_tilde = np.diag(Sigma_tilde)\n",
    "U_hat, Sigma_hat, V_hat = randomized_svd(Xprime, n_components=r)\n",
    "Sigma_hat = np.diag(Sigma_hat)\n",
    "\n"
   ]
  },
  {
   "cell_type": "code",
   "execution_count": null,
   "metadata": {},
   "outputs": [],
   "source": [
    "# Compute system state evolution matrices\n",
    "U_tilde_1 = U_tilde[0:n,:]\n",
    "U_tilde_2 = U_tilde[n:,:]\n",
    "A_tilde = (U_hat.conj().T)@Xprime@(Vh_tilde.conj().T)@(np.linalg.inv(Sigma_tilde))@(U_tilde_1.conj().T)@U_hat\n",
    "B_tilde = (U_hat.conj().T)@Xprime@(Vh_tilde.conj().T)@(np.linalg.inv(Sigma_tilde))@(U_tilde_2.conj().T)"
   ]
  },
  {
   "cell_type": "code",
   "execution_count": null,
   "metadata": {},
   "outputs": [],
   "source": [
    "# #Simulate system state response\n",
    "# T = 100 # number of timesteps to simulate for \n",
    "# x_rs = np.zeros((r,T))\n",
    "# u_rs = Upsilon[:,0:T]\n",
    "# for i in range(1,T):\n",
    "#     x_rs[:,[i]] = A_tilde@x_rs[:,[i-1]] + B_tilde@u_rs[:,[i-1]]"
   ]
  },
  {
   "cell_type": "code",
   "execution_count": null,
   "metadata": {},
   "outputs": [],
   "source": [
    "# solve for output matrix from full order system\n",
    "ys = Y[:,0:10]\n",
    "X_PI = np.linalg.pinv(X[:,0:10])\n",
    "C = ys@X_PI\n",
    "# x_rs_PI = np.linalg.pinv(x_rs) \n",
    "# C_tilde = ys@x_rs_PI\n",
    "# C = np.round(C,decimals=2)"
   ]
  },
  {
   "attachments": {},
   "cell_type": "markdown",
   "metadata": {},
   "source": [
    "# Plotting Response to Test Set Data"
   ]
  },
  {
   "cell_type": "code",
   "execution_count": null,
   "metadata": {},
   "outputs": [],
   "source": [
    "#Simulate system output response with learning set\n",
    "T = 200 # number of timesteps to simulate for \n",
    "x_rs = np.zeros((r,T))\n",
    "y_rs = np.zeros((m,T))\n",
    "u_rs = Upsilon[:,0:T]\n",
    "for i in range(1,T):\n",
    "    x_rs[:,[i]] = A_tilde@x_rs[:,[i-1]] + B_tilde@u_rs[:,[i-1]]\n",
    "    y_rs[:,[i]] = C@U_hat@x_rs[:,[i]] # Compute output from FOM output matrix"
   ]
  },
  {
   "cell_type": "code",
   "execution_count": null,
   "metadata": {},
   "outputs": [],
   "source": [
    "#Plot\n",
    "plt.plot(range(T),Y[0,0:T], 'k-',lw=3)\n",
    "plt.plot(range(T),y_rs[0,:],'r--',lw=3)\n",
    "plt.legend(['Ground Truth','ROM model'])\n",
    "plt.xlabel('Timestep')\n",
    "plt.ylabel('x-Displacement of Centerline Point 0 [mm]')\n",
    "\n",
    "plt.show()\n",
    "\n",
    "\n",
    "# Plot first state values using projection matrix transpose\n",
    "x_hat = U_hat@x_rs\n",
    "plt.plot(range(T),X[0,0:T], 'k-',lw=3)\n",
    "plt.plot(range(T),x_hat[0,:],'r--',lw=3)\n",
    "plt.legend(['Ground Truth','ROM model'])\n",
    "plt.xlabel('Timestep')\n",
    "plt.ylabel('x-Displacement of Meshpoint 0 [mm]')\n",
    "plt.show()"
   ]
  },
  {
   "attachments": {},
   "cell_type": "markdown",
   "metadata": {},
   "source": [
    "# Verification\n"
   ]
  },
  {
   "cell_type": "code",
   "execution_count": null,
   "metadata": {},
   "outputs": [],
   "source": [
    "# Read in verification data\n",
    "# Read in data \n",
    "testFilepath = config[\"currentDirectory\"] + \"data/processedData/processedData_policySeed_49.npz\"\n",
    "\n",
    "with np.load(testFilepath) as data:\n",
    "    stateData = data['stateData']\n",
    "    inputData = data['inputData']\n",
    "    centerlineData = data['centerlineData']\n",
    "\n",
    "# Center state and centerline data\n",
    "stateOffset = stateData[0,:]\n",
    "stateData = stateData-stateOffset\n",
    "\n",
    "centerlineOffset = centerlineData[0,:]\n",
    "centerlineData = centerlineData-centerlineOffset\n",
    "\n",
    "# Build data matrices\n",
    "X_test = np.transpose(stateData[0:Ndata,:])\n",
    "Xprime_test = np.transpose(stateData[1:Ndata+1,:])\n",
    "Upsilon_test = np.transpose(inputData[0:Ndata,:])\n",
    "Y_test = np.transpose(centerlineData[0:Ndata,:])\n"
   ]
  },
  {
   "cell_type": "code",
   "execution_count": null,
   "metadata": {},
   "outputs": [],
   "source": [
    "##### Verification on test data set #######\n",
    "T = 200# number of timesteps to simulate for \n",
    "x_rs = np.zeros((r,T))\n",
    "y_rs = np.zeros((m,T))\n",
    "u_rs = Upsilon_test[:,0:T]\n",
    "for i in range(1,T):\n",
    "    x_rs[:,[i]] = A_tilde@x_rs[:,[i-1]] + B_tilde@u_rs[:,[i-1]]\n",
    "    y_rs[:,[i]] = C@U_hat@x_rs[:,[i]] # Compute output from FOM output matrix\n"
   ]
  },
  {
   "cell_type": "code",
   "execution_count": null,
   "metadata": {},
   "outputs": [],
   "source": [
    "#Plot\n",
    "outputIndex = 0\n",
    "plt.plot(range(T),Y_test[outputIndex,0:T], 'k-',lw=3)\n",
    "plt.plot(range(T),y_rs[outputIndex,:],'r--',lw=3)\n",
    "plt.legend(['Ground Truth','ROM model'])\n",
    "plt.xlabel('Timestep')\n",
    "plt.ylabel('x-Displacement of Centerline Point 0 [mm]')\n",
    "plt.show()\n",
    "\n",
    "# Plot first state values using projection matrix transpose\n",
    "x_hat = U_hat@x_rs\n",
    "plt.plot(range(T),X_test[outputIndex,0:T], 'k-',lw=3)\n",
    "plt.plot(range(T),x_hat[outputIndex,:],'r--',lw=3)\n",
    "plt.legend(['Ground Truth','ROM model'])\n",
    "plt.xlabel('Timestep')\n",
    "plt.ylabel(f'x-Displacement of Meshpoint {outputIndex} [mm]')\n",
    "plt.show()\n"
   ]
  },
  {
   "attachments": {},
   "cell_type": "markdown",
   "metadata": {},
   "source": [
    "# Generate Animation"
   ]
  },
  {
   "cell_type": "code",
   "execution_count": null,
   "metadata": {},
   "outputs": [],
   "source": [
    "# configure video to be saved\n",
    "savePath = config[\"currentDirectory\"] +\"data/visualizations/\" \n",
    "# files = dir_list = os.listdir(filepath)\n",
    "numFrames = 200#np.size(files) \n",
    "# Setup figure for plotting data\n",
    "fig = plt.figure()\n",
    "gs = mpl.gridspec.GridSpec(2,2,wspace=0.25,hspace=0.25)\n",
    "# ax = fig.add_subplot(gs[0,:],projection='3d')\n",
    "ax = fig.add_subplot(gs[0,:])\n",
    "ax1=fig.add_subplot(gs[1,0])\n",
    "ax2=fig.add_subplot(gs[1,1])\n",
    "fps = 40\n",
    "duration = numFrames/fps\n",
    "\n",
    "\n",
    "\n",
    "xlim_max = 300\n",
    "xlim_min = -250 \n",
    "zlim_max = 50\n",
    "zlim_min = 0\n",
    "\n",
    "\n",
    "ulim_max = 0.2\n",
    "ulim_min = -0.2\n",
    "\n",
    "def animate(t):\n",
    "    global Upsilon\n",
    "    global Y\n",
    "    global X\n",
    "    inputData = Upsilon.T\n",
    "    centerlineData = Y.T + centerlineOffset\n",
    "    centerlineData_test = Y_test.T + centerlineOffset\n",
    "\n",
    "    i = int(round(t*fps))\n",
    "\n",
    "    # Read in data from files\n",
    "    centerline_frame_groundTruth =np.reshape(centerlineData_test[i,:],(-1,3))\n",
    "    centerline_frame_ROM = np.reshape(np.squeeze(y_rs[:,i])+np.squeeze(centerlineData_test[0,:]),(-1,3))\n",
    "    # print(i)\n",
    "    xs_groundTruth = centerline_frame_groundTruth[:,0]\n",
    "    zs_groundTruth = centerline_frame_groundTruth[:,2]\n",
    "\n",
    "    xs_ROM = centerline_frame_ROM[:,0]\n",
    "    zs_ROM = centerline_frame_ROM[:,2]\n",
    "\n",
    "\n",
    "    # plot centerline data \n",
    "    ax.clear()\n",
    "    ax.scatter(xs_groundTruth, zs_groundTruth, marker='o',color='black')\n",
    "    ax.scatter(xs_ROM, zs_ROM, marker='o',color='red')\n",
    "    \n",
    "    ax.set_xlabel(\"x [mm]\")\n",
    "    ax.set_ylabel(\"z [mm]\")\n",
    "    # ax.set_ylabel(\"y [mm]\")\n",
    "    # ax.set_zlabel(\"z [mm]\")\n",
    "    ax.set_xlim(xlim_min,xlim_max)\n",
    "    # ax.set_zlim(zlim_min,zlim_max)\n",
    "    ax.set_ylim(zlim_min,zlim_max)\n",
    "\n",
    "    # ax.view_init(0, -90, 0)\n",
    "\n",
    "\n",
    "    # Plot segment 0 pressures \n",
    "    ax1.clear()\n",
    "    ax1.plot(inputData[0:i+1,0], inputData[0:i+1,1],color = 'blue')\n",
    "    ax1.scatter(inputData[i+1,0], inputData[i+1,1], marker='o',color = 'red')\n",
    "    ax1.set_xlim(ulim_min,ulim_max)\n",
    "    # ax.set_zlim(zlim_min,zlim_max)\n",
    "    ax1.set_ylim(ulim_min,ulim_max)\n",
    "\n",
    "    # Plot segment 1 pressures\n",
    "    ax2.clear()\n",
    "    ax2.plot(inputData[0:i+1,2], inputData[0:i+1,3],color = 'blue')\n",
    "    ax2.scatter(inputData[i+1,2], inputData[i+1,3], marker='o',color = 'red')\n",
    "    ax2.set_xlim(ulim_min,ulim_max)\n",
    "    # ax.set_zlim(zlim_min,zlim_max)\n",
    "    ax2.set_ylim(ulim_min,ulim_max)\n",
    "\n",
    "    # fig.savefig(savePath+i.__str__()+\".png\")\n",
    "    # plt.show(block=True)\n",
    "    # returning numpy image\n",
    "    return mplfig_to_npimage(fig)\n",
    "\n",
    "\n",
    "# # run the animation\n",
    "# ani = FuncAnimation(fig, animate, frames=100, interval=100, repeat=False)\n",
    "\n",
    "# plt.show()\n",
    "\n",
    "# Save video\n",
    "animation = VideoClip(animate, duration = duration)\n",
    "animation.write_gif(savePath + \"verification1.gif\",fps=fps)\n",
    "\n"
   ]
  },
  {
   "cell_type": "code",
   "execution_count": null,
   "metadata": {},
   "outputs": [],
   "source": []
  }
 ],
 "metadata": {
  "kernelspec": {
   "display_name": "Python 3",
   "language": "python",
   "name": "python3"
  },
  "language_info": {
   "codemirror_mode": {
    "name": "ipython",
    "version": 3
   },
   "file_extension": ".py",
   "mimetype": "text/x-python",
   "name": "python",
   "nbconvert_exporter": "python",
   "pygments_lexer": "ipython3",
   "version": "3.8.10"
  },
  "orig_nbformat": 4,
  "vscode": {
   "interpreter": {
    "hash": "31f2aee4e71d21fbe5cf8b01ff0e069b9275f58929596ceb00d14d90e3e16cd6"
   }
  }
 },
 "nbformat": 4,
 "nbformat_minor": 2
}
