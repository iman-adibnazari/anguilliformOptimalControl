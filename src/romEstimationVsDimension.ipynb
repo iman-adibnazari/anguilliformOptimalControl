{
 "cells": [
  {
   "cell_type": "code",
   "execution_count": null,
   "metadata": {},
   "outputs": [],
   "source": [
    "#!/usr/bin/env python\n",
    "# -*- coding: utf-8 -*-\n",
    "import numpy as np\n",
    "from sklearn.decomposition import TruncatedSVD\n",
    "from scipy.sparse import csr_matrix\n",
    "from sklearn.utils.extmath import randomized_svd\n",
    " \n",
    "import os\n",
    "import matplotlib.pyplot as plt\n",
    "import matplotlib as mpl\n",
    "from matplotlib.animation import FuncAnimation\n",
    "from dotenv import dotenv_values \n",
    "from moviepy.editor import VideoClip\n",
    "from moviepy.video.io.bindings import mplfig_to_npimage\n",
    "import scipy.io\n",
    "from scipy.signal import cont2discrete\n",
    "import pyvista as pv\n",
    "import h5py\n",
    "import mat73\n",
    "import dask.array as da\n",
    "from dask.distributed import Client, LocalCluster\n",
    "import opinf\n",
    "config = dotenv_values(\".env\")\n",
    "from util import *\n"
   ]
  },
  {
   "cell_type": "code",
   "execution_count": null,
   "metadata": {},
   "outputs": [],
   "source": [
    "####### Set up dask cluster #######\n",
    "# Setup Dask client\n",
    "# cluster = LocalCluster() # Launches a scheduler and workers locally\n",
    "# client = Client(cluster) # Connect to distributed cluster and override default\n",
    "client = Client('tcp://127.0.0.1:8786')\n",
    "client.cluster\n",
    "\n",
    "####### # Set up hyperparameters for all ROMs  #######\n",
    "n_timesteps = 2000 # Number of timesteps to pull from each episode\n",
    "dt = 0.001\n",
    "n_train = 3 # Number of training episodes\n",
    "n_test = 7 # Number of testing episodes\n",
    "ns_ROM = np.arange(2,200,2) # Dimensions of ROM state space\n"
   ]
  },
  {
   "cell_type": "code",
   "execution_count": null,
   "metadata": {},
   "outputs": [],
   "source": [
    "####### Set up filepaths #######\n",
    "# Setup filepaths for reading data \n",
    "filepath = config[\"currentDirectory\"] + \"data/archivedDataSets/FullAssembly_Constrained_FullSetForRAL_goodMatParams/\"\n",
    "romDir = config[\"currentDirectory\"] + \"data/archivedDataSets/FullAssembly_Constrained_FullSetForRAL_goodMatParams/ROMs/\""
   ]
  },
  {
   "cell_type": "code",
   "execution_count": null,
   "metadata": {},
   "outputs": [],
   "source": [
    "####### Load in data #######\n",
    "print(\"Loading in data...\")\n",
    "# Read in all training data \n",
    "data = h5py.File(filepath+ \"fullDataSet.hdf5\", 'r')\n",
    "X_fom = da.from_array(data[\"stateData\"], chunks=(4096, 4096,1))\n",
    "# X_fom = X_fom[:,:,0:n_train]\n",
    "U_fom = da.from_array(data[\"inputData\"], chunks=(4096, 4096,1))\n",
    "# U_fom = U_fom[:,:,0:n_train]\n",
    "Y_fom = da.from_array(data[\"reducedCenterlineData\"], chunks=(4096, 4096,1))\n",
    "# Y_fom = Y_fom[:,:,0:n_train]\n",
    "x0 = data[\"stateData\"][:,0,0]\n",
    "y0 = data[\"reducedCenterlineData\"][:,0,0]\n",
    "n = X_fom.shape[0]\n",
    "l = U_fom.shape[0]\n",
    "m = Y_fom.shape[0]\n"
   ]
  },
  {
   "cell_type": "code",
   "execution_count": null,
   "metadata": {},
   "outputs": [],
   "source": [
    "# Initialize arrays for storing RMS estimation errors \n",
    "num_ROMs = len(ns_ROM)\n",
    "num_trials = n_test\n",
    "rms_errors_era_ol = np.zeros((num_ROMs, num_trials))\n",
    "rms_errors_dmdc_ol = np.zeros((num_ROMs, num_trials))"
   ]
  },
  {
   "cell_type": "code",
   "execution_count": null,
   "metadata": {},
   "outputs": [],
   "source": [
    "# iterate over all ROM dimensions\n",
    "for n_ROM in num_ROMs:\n",
    "    # Load in ROM models\n",
    "    era_file = romDir + \"eraROM_\" + str(n_ROM)+\"_dim_\" +str(n_train)+\"train\" +\".npz\"\n",
    "    dmd_file = romDir + \"dmdcSystemMatrices_\" + str(n_ROM)+\"_dim_\" +str(n_train)+\"train\" + \".npz\"\n",
    "    eraData = np.load(era_file)\n",
    "    dmdcData = np.load(dmd_file)\n",
    "    A_era = eraData[\"A_era\"]\n",
    "    B_era = eraData[\"B_era\"]\n",
    "    C_era = eraData[\"C_era\"]\n",
    "    D_era = eraData[\"D_era\"]\n",
    "    x0_era = eraData[\"x0_era\"]\n",
    "    y0_era = eraData[\"y0_era\"]\n",
    "    A_dmdc = dmdcData[\"A_dmdc\"]\n",
    "    B_dmdc = dmdcData[\"B_dmdc\"]\n",
    "    C_dmdc = dmdcData[\"C_dmdc\"]\n",
    "    D_dmdc = dmdcData[\"D_dmdc\"]\n",
    "    x0_dmdc = dmdcData[\"x0_dmdc\"]\n",
    "    y0_dmdc = dmdcData[\"y0_dmdc\"]\n",
    "    basis_dmdc = dmdcData[\"basis_dmdc\"]\n",
    "    # Initialize array for holding output estimates over time\n",
    "    Y_era_ol = np.zeros((m, n_timesteps, num_trials))\n",
    "    Y_dmdc_ol = np.zeros((m, n_timesteps, num_trials))\n",
    "    # Initialize array for holding state estimates over time\n",
    "    X_era_ol = np.zeros((n_ROM, n_timesteps, num_trials))\n",
    "    X_dmdc_ol = np.zeros((n_ROM, n_timesteps, num_trials))\n",
    "    # Iterate over all testing episodes, solving for open loop estimates\n",
    "    "
   ]
  }
 ],
 "metadata": {
  "language_info": {
   "name": "python"
  }
 },
 "nbformat": 4,
 "nbformat_minor": 2
}
