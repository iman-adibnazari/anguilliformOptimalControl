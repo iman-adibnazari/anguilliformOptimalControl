{
 "cells": [
  {
   "attachments": {},
   "cell_type": "markdown",
   "metadata": {},
   "source": [
    "This notebook generates a single linear model using the combined OKID and ERA algorithms\n"
   ]
  },
  {
   "cell_type": "code",
   "execution_count": 1,
   "metadata": {},
   "outputs": [],
   "source": [
    "#!/usr/bin/env python\n",
    "# -*- coding: utf-8 -*-\n",
    "import numpy as np\n",
    "import os\n",
    "import matplotlib.pyplot as plt\n",
    "import matplotlib as mpl\n",
    "from matplotlib.animation import FuncAnimation\n",
    "from dotenv import dotenv_values \n",
    "from moviepy.editor import VideoClip\n",
    "from moviepy.video.io.bindings import mplfig_to_npimage\n",
    "\n",
    "config = dotenv_values(\".env\")\n"
   ]
  },
  {
   "cell_type": "code",
   "execution_count": 2,
   "metadata": {},
   "outputs": [],
   "source": [
    "# Read in data \n",
    "filepath = config[\"currentDirectory\"] + \"data/processedData/cleanedArrays.npz\"\n",
    "\n",
    "with np.load(filepath) as data:\n",
    "    stateData = data['stateData']\n",
    "    inputData = data['inputData']\n",
    "    centerlineData = data['centerlineData']\n"
   ]
  },
  {
   "cell_type": "code",
   "execution_count": 3,
   "metadata": {},
   "outputs": [],
   "source": [
    "# Subtract initial state from everything to shift states to origin\n",
    "stateData_centered = stateData-stateData[0,:]\n",
    "centerlineData_centered = centerlineData-centerlineData[0,:]\n",
    "\n",
    "# Reshape data \n",
    "centerlineData_centeredT = np.transpose(centerlineData_centered) \n",
    "inputDataT = np.transpose(inputData) "
   ]
  },
  {
   "cell_type": "code",
   "execution_count": 4,
   "metadata": {},
   "outputs": [],
   "source": [
    "####### OKID #########\n",
    "\n",
    "# Form data matrices for OKID\n",
    "YY = centerlineData_centeredT\n",
    "UU_size = (inputDataT.shape[0]*inputDataT.shape[1],inputDataT.shape[1])\n",
    "UU = np.zeros(UU_size)\n",
    "\n",
    "for i in range(inputDataT.shape[1]):\n",
    "    startRow = inputDataT.shape[0]*i \n",
    "    endRow = inputDataT.shape[0]*(i+1)\n",
    "    UU[startRow:endRow,i:]=inputDataT[:,0:(inputDataT.shape[1]-i)]\n",
    " \n",
    "# compute pseudoinverse of input matrix\n",
    "UU_pinv = np.linalg.pinv(UU)\n",
    "# Solve for impulse response  \n",
    "IR = np.matmul(YY,UU_pinv)\n"
   ]
  },
  {
   "attachments": {},
   "cell_type": "markdown",
   "metadata": {},
   "source": [
    "## ERA"
   ]
  },
  {
   "cell_type": "code",
   "execution_count": 5,
   "metadata": {},
   "outputs": [],
   "source": [
    "####### ERA ########## \n",
    "numInputs = 4\n",
    "numOutputs = centerlineData[0,:].size\n",
    "m = numInputs\n",
    "p = numOutputs\n",
    "\n",
    "# Form Hankel matrix for ERA \n",
    "N = 500 # num of timesteps to include in hankel matrix\n",
    "H_size = (numOutputs*N,numInputs*N)\n",
    "\n",
    "H  = np.zeros(H_size)\n",
    "Hprime = np.zeros(H_size)\n",
    "for i in range(N):\n",
    "    startRow = numOutputs*i \n",
    "    endRow = numOutputs*(i+1)\n",
    "    H[startRow:endRow,:]=IR[:,numInputs*(1+i):numInputs*(1+i+N)]\n",
    "    Hprime[startRow:endRow,:]=IR[:,numInputs*(2+i):numInputs*(2+i+N)]\n",
    "\n",
    "\n",
    "\n"
   ]
  },
  {
   "cell_type": "code",
   "execution_count": 6,
   "metadata": {},
   "outputs": [],
   "source": [
    "# Get singular value decomposition of H matrix\n",
    "U, Sigma, Vh = np.linalg.svd(H, full_matrices=False)"
   ]
  },
  {
   "cell_type": "code",
   "execution_count": null,
   "metadata": {},
   "outputs": [],
   "source": [
    "# Plot sigmas to get the appropriate r\n",
    "plt.plot(Sigma,'k-',lw=3) \n",
    "plt.xlabel(r\"$i$\", fontsize=12, family=\"serif\") \n",
    "plt.ylabel(r\"$\\Sigma_i$\", fontsize=12, family=\"serif\")\n",
    "plt.show()"
   ]
  },
  {
   "cell_type": "code",
   "execution_count": null,
   "metadata": {},
   "outputs": [],
   "source": [
    "#Truncate svd\n",
    "r = 200\n",
    "U_tilde = U[:,0:r]\n",
    "Sigma_tilde = np.diag(Sigma[0:r])\n",
    "Vh_tilde = Vh[0:r,:]\n"
   ]
  },
  {
   "cell_type": "code",
   "execution_count": null,
   "metadata": {},
   "outputs": [],
   "source": [
    "# Solve for system matrices \n",
    "Sigma_tilde_is = np.linalg.inv(np.sqrt(Sigma_tilde)) # inverse squareroot of sigma matrix\n",
    "Sigma_tilde_sqrt = np.sqrt(Sigma_tilde)\n",
    "\n",
    "\n",
    "Em = np.concatenate([np.eye(m),np.zeros((m*(N-1),m))],axis=0)\n",
    "Ep = np.concatenate([np.eye(p),np.zeros((p*(N-1),p))],axis=0)\n",
    "\n",
    "A_tilde = np.matmul(np.matmul(np.matmul(np.matmul(Sigma_tilde_is,np.transpose(U_tilde)),Hprime),np.transpose(Vh_tilde)),Sigma_tilde_is)\n",
    "B_tilde = np.matmul(np.matmul(Sigma_tilde_sqrt,Vh_tilde),Em)\n",
    "C_tilde = np.matmul(np.transpose(Ep),np.matmul(U_tilde,Sigma_tilde_sqrt))\n",
    "D_tilde = IR[:,:numInputs]\n"
   ]
  },
  {
   "attachments": {},
   "cell_type": "markdown",
   "metadata": {},
   "source": [
    "## Verification"
   ]
  },
  {
   "cell_type": "code",
   "execution_count": null,
   "metadata": {},
   "outputs": [],
   "source": [
    "# Read in verification data\n",
    "# Read in data \n",
    "testFilepath = config[\"currentDirectory\"] + \"data/processedData/testSet.npz\"\n",
    "\n",
    "with np.load(testFilepath) as data:\n",
    "    stateData_test= data['stateData']\n",
    "    inputData_test = data['inputData']\n",
    "    centerlineData_test = data['centerlineData']\n",
    "# Subtract initial state from everything to shift states to origin\n",
    "stateData_test_centered = stateData_test-stateData_test[0,:]\n",
    "centerlineData_test_centered = centerlineData_test-centerlineData_test[0,:]\n",
    "\n",
    "# Reshape data \n",
    "centerlineData_test_centeredT = np.transpose(centerlineData_test_centered) \n",
    "inputData_testT = np.transpose(inputData_test) \n"
   ]
  },
  {
   "cell_type": "code",
   "execution_count": null,
   "metadata": {},
   "outputs": [],
   "source": [
    "##### Verification on test data set #######\n",
    "timesteps = 1000\n",
    "xs = np.zeros((r,timesteps))\n",
    "us = inputData_testT[:,:timesteps]\n",
    "ys = np.zeros((numOutputs,timesteps))\n",
    "#\n",
    "for i in range(timesteps-1):\n",
    "    x = np.reshape(xs[:,i],(r,1))\n",
    "    u = np.reshape(us[:,i],(numInputs,1))\n",
    "    xs[:,i+1] = np.squeeze(np.matmul(A_tilde,x) + np.matmul(B_tilde,u))\n",
    "    ys[:,i+1] = np.squeeze(np.matmul(C_tilde,x) + np.matmul(D_tilde,u))"
   ]
  },
  {
   "cell_type": "code",
   "execution_count": null,
   "metadata": {},
   "outputs": [],
   "source": [
    "plt.plot(range(timesteps),centerlineData_test_centeredT[0,0:timesteps], 'k-',lw=3)\n",
    "plt.plot(range(timesteps),ys[0,:],'r--',lw=3)\n",
    "plt.legend(['Ground Truth','ROM model'])\n",
    "plt.xlabel('Timestep')\n",
    "plt.ylabel('x-Displacement of Centerline Point 0 [mm]')\n",
    "\n",
    "plt.show()\n"
   ]
  },
  {
   "cell_type": "code",
   "execution_count": null,
   "metadata": {},
   "outputs": [],
   "source": [
    "##### Verification on learning data set #######\n",
    "timesteps = 1000\n",
    "xs = np.zeros((r,timesteps))\n",
    "us = inputDataT[:,:timesteps]\n",
    "ys = np.zeros((numOutputs,timesteps))\n",
    "#\n",
    "for i in range(timesteps-1):\n",
    "    x = np.reshape(xs[:,i],(r,1))\n",
    "    u = np.reshape(us[:,i],(numInputs,1))\n",
    "    xs[:,i+1] = np.squeeze(np.matmul(A_tilde,x) + np.matmul(B_tilde,u))\n",
    "    ys[:,i+1] = np.squeeze(np.matmul(C_tilde,x) + np.matmul(D_tilde,u))\n",
    "\n",
    "\n",
    "plt.plot(range(timesteps),centerlineData_centeredT[0,0:timesteps], 'k-',lw=3)\n",
    "plt.plot(range(timesteps),ys[0,:],'r--',lw=3)\n",
    "plt.legend(['Ground Truth','ROM Prediction'])\n",
    "plt.xlabel('Timestep')\n",
    "plt.ylabel('x-Displacement of Centerline Point 0 [mm]')\n",
    "\n",
    "plt.show(block=True)\n",
    "\n",
    "ys_uncentered= ys\n"
   ]
  },
  {
   "attachments": {},
   "cell_type": "markdown",
   "metadata": {},
   "source": [
    "Generate animation\n"
   ]
  },
  {
   "cell_type": "code",
   "execution_count": null,
   "metadata": {},
   "outputs": [],
   "source": [
    "# configure video to be saved\n",
    "savePath = config[\"currentDirectory\"] +\"data/visualizations/\" \n",
    "# files = dir_list = os.listdir(filepath)\n",
    "numFrames = 1000#np.size(files) \n",
    "# Setup figure for plotting data\n",
    "fig = plt.figure()\n",
    "gs = mpl.gridspec.GridSpec(2,2,wspace=0.25,hspace=0.25)\n",
    "# ax = fig.add_subplot(gs[0,:],projection='3d')\n",
    "ax = fig.add_subplot(gs[0,:])\n",
    "ax1=fig.add_subplot(gs[1,0])\n",
    "ax2=fig.add_subplot(gs[1,1])\n",
    "fps = 40\n",
    "duration = numFrames/fps\n",
    "\n",
    "\n",
    "\n",
    "xlim_max = 300\n",
    "xlim_min = -250 \n",
    "zlim_max = 50\n",
    "zlim_min = -50\n",
    "\n",
    "\n",
    "ulim_max = 0.2\n",
    "ulim_min = -0.2\n",
    "\n",
    "def animate(t):\n",
    "    global inputData \n",
    "    global centerlineData\n",
    "    global centerlineData_test \n",
    "\n",
    "    i = int(round(t*fps))\n",
    "\n",
    "    # Read in data from files\n",
    "    centerline_frame_groundTruth =np.reshape(centerlineData_test[i,:],(-1,3))\n",
    "    centerline_frame_ROM = np.reshape(np.squeeze(ys[:,i])+np.squeeze(centerlineData_test[0,:]),(-1,3))\n",
    "    # print(i)\n",
    "    xs_groundTruth = centerline_frame_groundTruth[:,0]\n",
    "    zs_groundTruth = centerline_frame_groundTruth[:,2]\n",
    "\n",
    "    xs_ROM = centerline_frame_ROM[:,0]\n",
    "    zs_ROM = centerline_frame_ROM[:,2]\n",
    "\n",
    "\n",
    "    # plot centerline data \n",
    "    ax.clear()\n",
    "    ax.scatter(xs_groundTruth, zs_groundTruth, marker='o',color='black')\n",
    "    ax.scatter(xs_ROM, zs_ROM, marker='o',color='red')\n",
    "    \n",
    "    ax.set_xlabel(\"x [mm]\")\n",
    "    ax.set_ylabel(\"z [mm]\")\n",
    "    # ax.set_ylabel(\"y [mm]\")\n",
    "    # ax.set_zlabel(\"z [mm]\")\n",
    "    ax.set_xlim(xlim_min,xlim_max)\n",
    "    # ax.set_zlim(zlim_min,zlim_max)\n",
    "    ax.set_ylim(zlim_min,zlim_max)\n",
    "\n",
    "    # ax.view_init(0, -90, 0)\n",
    "\n",
    "\n",
    "    # Plot segment 0 pressures \n",
    "    ax1.clear()\n",
    "    ax1.plot(inputData[0:i+1,0], inputData[0:i+1,1],color = 'blue')\n",
    "    ax1.scatter(inputData[i+1,0], inputData[i+1,1], marker='o',color = 'red')\n",
    "    ax1.set_xlim(ulim_min,ulim_max)\n",
    "    # ax.set_zlim(zlim_min,zlim_max)\n",
    "    ax1.set_ylim(ulim_min,ulim_max)\n",
    "\n",
    "    # Plot segment 1 pressures\n",
    "    ax2.clear()\n",
    "    ax2.plot(inputData[0:i+1,2], inputData[0:i+1,3],color = 'blue')\n",
    "    ax2.scatter(inputData[i+1,2], inputData[i+1,3], marker='o',color = 'red')\n",
    "    ax2.set_xlim(ulim_min,ulim_max)\n",
    "    # ax.set_zlim(zlim_min,zlim_max)\n",
    "    ax2.set_ylim(ulim_min,ulim_max)\n",
    "\n",
    "    # fig.savefig(savePath+i.__str__()+\".png\")\n",
    "    # plt.show(block=True)\n",
    "    # returning numpy image\n",
    "    return mplfig_to_npimage(fig)\n",
    "\n",
    "\n",
    "# # run the animation\n",
    "# ani = FuncAnimation(fig, animate, frames=100, interval=100, repeat=False)\n",
    "\n",
    "# plt.show()\n",
    "\n",
    "# Save video\n",
    "animation = VideoClip(animate, duration = duration)\n",
    "animation.write_gif(savePath + \"verification.gif\",fps=fps)\n",
    "\n"
   ]
  }
 ],
 "metadata": {
  "kernelspec": {
   "display_name": "Python 3",
   "language": "python",
   "name": "python3"
  },
  "language_info": {
   "codemirror_mode": {
    "name": "ipython",
    "version": 3
   },
   "file_extension": ".py",
   "mimetype": "text/x-python",
   "name": "python",
   "nbconvert_exporter": "python",
   "pygments_lexer": "ipython3",
   "version": "3.8.10"
  },
  "orig_nbformat": 4,
  "vscode": {
   "interpreter": {
    "hash": "31f2aee4e71d21fbe5cf8b01ff0e069b9275f58929596ceb00d14d90e3e16cd6"
   }
  }
 },
 "nbformat": 4,
 "nbformat_minor": 2
}
