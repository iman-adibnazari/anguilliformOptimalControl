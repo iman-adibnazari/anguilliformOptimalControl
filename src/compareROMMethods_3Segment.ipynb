{
 "cells": [
  {
   "attachments": {},
   "cell_type": "markdown",
   "metadata": {},
   "source": [
    "This notebook compares the accuracy of multiple data driven ROM methods on the 3 segment system"
   ]
  },
  {
   "cell_type": "code",
   "execution_count": 1,
   "metadata": {},
   "outputs": [],
   "source": [
    "#!/usr/bin/env python\n",
    "# -*- coding: utf-8 -*-\n",
    "import numpy as np\n",
    "from sklearn.decomposition import TruncatedSVD\n",
    "from scipy.sparse import csr_matrix\n",
    "from sklearn.utils.extmath import randomized_svd\n",
    " \n",
    "import os\n",
    "import matplotlib.pyplot as plt\n",
    "import matplotlib as mpl\n",
    "from matplotlib.animation import FuncAnimation\n",
    "from dotenv import dotenv_values \n",
    "from moviepy.editor import VideoClip\n",
    "from moviepy.video.io.bindings import mplfig_to_npimage\n",
    "import scipy.io\n",
    "from scipy.signal import cont2discrete\n",
    "import pyvista as pv\n",
    "import h5py\n",
    "import mat73\n",
    "import dask.array as da\n",
    "\n",
    "\n",
    "\n",
    "import opinf\n",
    "\n",
    "\n",
    "config = dotenv_values(\".env\")\n",
    "from util import *"
   ]
  },
  {
   "cell_type": "code",
   "execution_count": 2,
   "metadata": {},
   "outputs": [],
   "source": [
    "# Set up hyperparameters for all ROMs\n",
    "n_ROM = 12 # Dimensionality of state in ROM\n",
    "n_timesteps = 200 # Number of timesteps to pull from each episode\n",
    "n_train = 5 # Number of training episodes\n",
    "n_test = 25 # Number of testing episodes"
   ]
  },
  {
   "attachments": {},
   "cell_type": "markdown",
   "metadata": {},
   "source": [
    "# Read Data"
   ]
  },
  {
   "cell_type": "code",
   "execution_count": 3,
   "metadata": {},
   "outputs": [],
   "source": [
    "# Setup filepaths for reading data \n",
    "filepath = config[\"currentDirectory\"] + \"data/archivedDataSets/threeSegmentData200Timesteps/\"\n",
    "# Read in a single data file to get dimensions\n",
    "# data = np.load(filepath + \"processedData_policySeed_0.npz\")\n",
    "# n = data[\"stateData\"].shape[1] # number of states\n",
    "# l = data[\"inputData\"].shape[1] # number of inputs\n",
    "# m = data[\"reducedCenterlineData\"].shape[1] # number of centerline points\n",
    "# # initialize 3D matrices to hold data from all episodes\n",
    "# X_fom = np.zeros((n,n_timesteps,n_train+n_test))\n",
    "# U_fom = np.zeros((l,n_timesteps,n_train+n_test))\n",
    "# Y_fom = np.zeros((m,n_timesteps,n_train+n_test))\n",
    "# Xdot_fom = np.zeros((n,n_timesteps,n_train+n_test))\n",
    "\n"
   ]
  },
  {
   "cell_type": "code",
   "execution_count": 4,
   "metadata": {},
   "outputs": [
    {
     "name": "stdout",
     "output_type": "stream",
     "text": [
      "gothere\n",
      "gothere2\n",
      "gothere3\n",
      "Done\n"
     ]
    }
   ],
   "source": [
    "# Read in all data \n",
    "data = np.load(filepath+ \"processedDataSet.npz\")\n",
    "print(\"gothere\")\n",
    "X_fom = da.from_array(data[\"stateData\"], chunks=(data[\"stateData\"].shape[0],data[\"stateData\"].shape[1],1))\n",
    "U_fom = da.from_array(data[\"inputData\"], chunks=(data[\"inputData\"].shape[0],data[\"inputData\"].shape[1],1))\n",
    "Y_fom = da.from_array(data[\"reducedCenterlineData\"], chunks=(data[\"reducedCenterlineData\"].shape[0],data[\"reducedCenterlineData\"].shape[1],1))\n",
    "print(\"gothere2\")\n",
    "n = X_fom.shape[0]\n",
    "l = U_fom.shape[0]\n",
    "m = Y_fom.shape[0]\n",
    "print(\"gothere3\")\n",
    "# del data # free up memory\n",
    "# Collect initial condition offsets for each episode and center each episode\n",
    "X0 = da.zeros((n,n_train+n_test))\n",
    "Y0 = da.zeros((m,n_train+n_test))\n",
    "for i in range(n_train+n_test):\n",
    "    X0[:,i] = X_fom[:,0,i]\n",
    "    Y0[:,i] = Y_fom[:,0,i]\n",
    "    X_fom[:,:,i] = X_fom[:,:,i] - X0[:,i].reshape(-1,1)\n",
    "    Y_fom[:,:,i] = Y_fom[:,:,i] - Y0[:,i].reshape(-1,1)\n",
    "print(\"Done\")\n",
    "    "
   ]
  },
  {
   "cell_type": "code",
   "execution_count": 7,
   "metadata": {},
   "outputs": [
    {
     "data": {
      "text/plain": [
       "KeysView(<numpy.lib.npyio.NpzFile object at 0x7f8a61389f40>)"
      ]
     },
     "execution_count": 7,
     "metadata": {},
     "output_type": "execute_result"
    }
   ],
   "source": []
  },
  {
   "cell_type": "code",
   "execution_count": 9,
   "metadata": {},
   "outputs": [
    {
     "name": "stdout",
     "output_type": "stream",
     "text": [
      "Length of robot:  620.4809327651437\n"
     ]
    }
   ],
   "source": [
    "# Get length of robot from min and max of x coords\n",
    "xzCoords = Y0[:,0].reshape(-1,2)\n",
    "\n",
    "x_min = np.min(xzCoords[:,1])\n",
    "x_max = np.max(xzCoords[:,1])\n",
    "length = x_max - x_min\n",
    "print(\"Length of robot: \", length.compute())\n",
    "# Get z min and max\n",
    "z_min = np.min(xzCoords[:,1])\n",
    "z_max = np.max(xzCoords[:,1])\n"
   ]
  },
  {
   "cell_type": "code",
   "execution_count": 5,
   "metadata": {},
   "outputs": [
    {
     "name": "stdout",
     "output_type": "stream",
     "text": [
      "Shape of X_fom:  (226941, 200, 30)\n",
      "Shape of U_fom:  (6, 200, 30)\n",
      "Shape of Y_fom:  (40, 200, 30)\n"
     ]
    }
   ],
   "source": [
    "# Print shapes of data\n",
    "print(\"Shape of X_fom: \", X_fom.shape)\n",
    "print(\"Shape of U_fom: \", U_fom.shape)\n",
    "print(\"Shape of Y_fom: \", Y_fom.shape)"
   ]
  },
  {
   "attachments": {},
   "cell_type": "markdown",
   "metadata": {},
   "source": [
    "# Learn System Matrices for Each Method"
   ]
  },
  {
   "cell_type": "markdown",
   "metadata": {},
   "source": [
    "## SVD to find correct size of bases"
   ]
  },
  {
   "cell_type": "code",
   "execution_count": 11,
   "metadata": {},
   "outputs": [
    {
     "name": "stdout",
     "output_type": "stream",
     "text": [
      "(226941, 1000)\n"
     ]
    }
   ],
   "source": [
    "# Compute SVD of state training set to find size of reduced basis\n",
    "# Unroll the state training set into a matrix\n",
    "X_fom_train_da = da.hstack([X_fom[:,:,i] for i in range(n_train)])\n",
    "# Get shape of state training set\n",
    "print(X_fom_train_da.shape)\n",
    "# compute singular values of unrolled state training set\n",
    "U_fom_train_da, S_fom_train_da, V_fom_train_da = da.linalg.svd_compressed(X_fom_train_da, 200)  \n",
    "# Compute normalized singular values\n",
    "S_fom_train_norm = S_fom_train_da / da.sum(S_fom_train_da)\n",
    "S_fom_train_norm = S_fom_train_norm.compute()\n"
   ]
  },
  {
   "cell_type": "code",
   "execution_count": 12,
   "metadata": {},
   "outputs": [
    {
     "name": "stdout",
     "output_type": "stream",
     "text": [
      "[0.41640648 0.60253485 0.68691626 0.75384118 0.81044994 0.84445603\n",
      " 0.87078784 0.89371347 0.90911094 0.92266729 0.93224268 0.9394187\n",
      " 0.94561004 0.94999628 0.95380618 0.95733721 0.96033804 0.96311884\n",
      " 0.96557208 0.96789802 0.97004712 0.97211049 0.97375671 0.97523971\n",
      " 0.97668893 0.97806937 0.97939996 0.98066094 0.98169152 0.98269963\n",
      " 0.98364269 0.98451422 0.98532266 0.98608501 0.98677955 0.9874309\n",
      " 0.98805672 0.98864713 0.98919392 0.98971101 0.99020044 0.99067291\n",
      " 0.99110964 0.99151931 0.99190419 0.99228215 0.99261828 0.99293911\n",
      " 0.99324892 0.99353155 0.99379665 0.9940477  0.99428433 0.9945198\n",
      " 0.99474325 0.99495869 0.99516638 0.9953581  0.99554465 0.99572349\n",
      " 0.99588733 0.99603527 0.99617214 0.99630684 0.99643731 0.99656209\n",
      " 0.99668483 0.99679535 0.9969007  0.99700168 0.9971013  0.99720049\n",
      " 0.99729407 0.99738079 0.99746255 0.99754059 0.99761681 0.99768891\n",
      " 0.99776    0.9978307  0.99789966 0.99796383 0.99802656 0.99808757\n",
      " 0.99814563 0.99820053 0.99825364 0.99830467 0.99835516 0.99840447\n",
      " 0.99845198 0.99849748 0.99854059 0.99858254 0.99862282 0.99866209\n",
      " 0.99869927 0.99873577 0.99877189 0.99880665 0.99884056 0.99887342\n",
      " 0.99890496 0.99893559 0.99896571 0.99899485 0.99902254 0.99904999\n",
      " 0.99907666 0.99910292 0.9991288  0.99915312 0.99917717 0.99920079\n",
      " 0.99922359 0.99924606 0.99926811 0.99928975 0.99931079 0.99933031\n",
      " 0.99934936 0.99936768 0.99938563 0.99940276 0.99941953 0.99943618\n",
      " 0.99945242 0.9994683  0.99948349 0.99949833 0.99951281 0.99952703\n",
      " 0.99954076 0.99955393 0.99956687 0.99957967 0.99959213 0.99960416\n",
      " 0.99961584 0.99962739 0.99963853 0.99964959 0.9996604  0.99967099\n",
      " 0.99968128 0.99969141 0.99970146 0.99971097 0.99972033 0.99972944\n",
      " 0.99973847 0.99974723 0.99975583 0.99976409 0.99977218 0.99978016\n",
      " 0.99978798 0.99979569 0.9998033  0.99981083 0.99981814 0.99982529\n",
      " 0.99983238 0.99983916 0.99984581 0.99985224 0.99985849 0.99986461\n",
      " 0.99987056 0.99987646 0.99988222 0.99988791 0.99989346 0.99989879\n",
      " 0.99990407 0.99990924 0.99991427 0.99991919 0.99992403 0.99992866\n",
      " 0.99993314 0.99993756 0.9999419  0.99994602 0.99995011 0.9999541\n",
      " 0.99995802 0.99996177 0.99996543 0.999969   0.99997254 0.99997605\n",
      " 0.9999793  0.99998247 0.99998562 0.99998868 0.99999163 0.99999457\n",
      " 0.99999735 1.        ]\n"
     ]
    },
    {
     "data": {
      "image/png": "[encoded data removed]",
      "text/plain": [
       "<Figure size 1000x500 with 2 Axes>"
      ]
     },
     "metadata": {},
     "output_type": "display_data"
    },
    {
     "ename": "",
     "evalue": "",
     "output_type": "error",
     "traceback": [
      "\u001b[1;31mThe Kernel crashed while executing code in the the current cell or a previous cell. Please review the code in the cell(s) to identify a possible cause of the failure. Click <a href='https://aka.ms/vscodeJupyterKernelCrash'>here</a> for more info. View Jupyter <a href='command:jupyter.viewOutput'>log</a> for further details."
     ]
    }
   ],
   "source": [
    "# Plot normalized singular values and the cumulative sum of normalized singular values\n",
    "plt.figure(figsize=(10,5))\n",
    "plt.subplot(1,2,1)\n",
    "plt.plot(S_fom_train_norm)\n",
    "plt.title('Normalized singular values')\n",
    "plt.xlabel('Singular value index')\n",
    "plt.ylabel('Normalized singular value')\n",
    "plt.subplot(1,2,2)\n",
    "plt.plot(np.cumsum(S_fom_train_norm))\n",
    "plt.title('Cumulative sum of normalized singular values')\n",
    "plt.xlabel('Singular value index')\n",
    "plt.ylabel('Cumulative sum of normalized singular values')\n",
    "\n",
    "# print(np.cumsum(S_fom_train_norm))\n"
   ]
  },
  {
   "attachments": {},
   "cell_type": "markdown",
   "metadata": {},
   "source": [
    "## OKID + ERA "
   ]
  },
  {
   "attachments": {},
   "cell_type": "markdown",
   "metadata": {},
   "source": [
    "### Setup Data matrices  "
   ]
  },
  {
   "cell_type": "code",
   "execution_count": null,
   "metadata": {},
   "outputs": [],
   "source": [
    "# Grab input-output data from single episode \n",
    "U_era = U_fom[:,:,0]\n",
    "Y_era = Y_fom[:,:,0]\n",
    "# # Center output data around initial conditions\n",
    "# Y_offset_era = Y_era[:,0].reshape(-1,1)\n",
    "# Y_era = Y_era - Y_offset_era\n",
    "\n"
   ]
  },
  {
   "attachments": {},
   "cell_type": "markdown",
   "metadata": {},
   "source": [
    "### OKID Algorithm "
   ]
  },
  {
   "cell_type": "code",
   "execution_count": null,
   "metadata": {},
   "outputs": [],
   "source": [
    "YY = Y_era\n",
    "UU_size = (U_era.shape[0]*U_era.shape[1],U_era.shape[1])\n",
    "UU = np.zeros(UU_size)\n",
    "\n",
    "for i in range(U_era.shape[1]):\n",
    "    startRow = i*U_era.shape[0]\n",
    "    endRow = (i+1)*U_era.shape[0]\n",
    "    UU[startRow:endRow,i:] = U_era[:,0:(U_era.shape[1]-i)]\n",
    "\n",
    "# compute pseudoinverse of input matrix\n",
    "UU_pinv = np.linalg.pinv(UU)\n",
    "# Solve for impulse response  \n",
    "IR = np.matmul(YY,UU_pinv)\n"
   ]
  },
  {
   "attachments": {},
   "cell_type": "markdown",
   "metadata": {},
   "source": [
    "### Eigensystem Realization Algorithm"
   ]
  },
  {
   "cell_type": "code",
   "execution_count": null,
   "metadata": {},
   "outputs": [],
   "source": [
    "# Form Hankel matrix for ERA \n",
    "N = int(n_timesteps/2-1)\n",
    "H_size = (m*N,l*N)\n",
    "\n",
    "H = np.zeros(H_size)\n",
    "Hprime = np.zeros(H_size)\n",
    "\n",
    "for i in range(N):\n",
    "    startRow = m*i \n",
    "    endRow = m*(i+1)\n",
    "    H[startRow:endRow,:]=IR[:,l*(1+i):l*(1+i+N)]\n",
    "    Hprime[startRow:endRow,:]=IR[:,l*(2+i):l*(2+i+N)]\n"
   ]
  },
  {
   "cell_type": "code",
   "execution_count": null,
   "metadata": {},
   "outputs": [],
   "source": [
    "# Get SVD of Hankel matrix\n",
    "U, S, Vh = np.linalg.svd(H, full_matrices=False)"
   ]
  },
  {
   "cell_type": "code",
   "execution_count": null,
   "metadata": {},
   "outputs": [],
   "source": [
    "# Plot singular values to determine truncation point\n",
    "plt.figure()\n",
    "plt.semilogy(S)\n",
    "plt.title(\"Singular Values of Hankel Matrix\")\n",
    "plt.xlabel(\"Singular Value Index\")\n",
    "plt.ylabel(\"Singular Value\")"
   ]
  },
  {
   "cell_type": "code",
   "execution_count": null,
   "metadata": {},
   "outputs": [],
   "source": [
    "# Truncate SVD\n",
    "U = U[:,:n_ROM]\n",
    "S = np.diag(S[:n_ROM])\n",
    "Vh = Vh[:n_ROM,:]"
   ]
  },
  {
   "cell_type": "code",
   "execution_count": null,
   "metadata": {},
   "outputs": [],
   "source": [
    "# Solve for system matrices\n",
    "Sigma_tilde_is = np.linalg.inv(np.sqrt(S)) # inverse squareroot of sigma matrix\n",
    "Sigma_tilde_sqrt = np.sqrt(S) # squareroot of sigma matrix\n",
    "\n",
    "\n",
    "Em = np.concatenate([np.eye(l),np.zeros((l*(N-1),l))],axis=0)\n",
    "Ep = np.concatenate([np.eye(m),np.zeros((m*(N-1),m))],axis=0)\n",
    "\n",
    "A_era = np.matmul(np.matmul(np.matmul(np.matmul(Sigma_tilde_is,np.transpose(U)),Hprime),np.transpose(Vh)),Sigma_tilde_is)\n",
    "B_era = np.matmul(np.matmul(Sigma_tilde_sqrt,Vh),Em)\n",
    "C_era = np.matmul(np.transpose(Ep),np.matmul(U,Sigma_tilde_sqrt))\n",
    "D_era = IR[:,:l]\n"
   ]
  },
  {
   "cell_type": "code",
   "execution_count": null,
   "metadata": {},
   "outputs": [],
   "source": [
    "# clean up memory except for system matrices\n",
    "del U_era, Y_era, YY, UU, UU_pinv, IR, H, Hprime, U, S, Vh, Sigma_tilde_is, Sigma_tilde_sqrt, Em, Ep\n"
   ]
  },
  {
   "attachments": {},
   "cell_type": "markdown",
   "metadata": {},
   "source": [
    "## DMDc"
   ]
  },
  {
   "attachments": {},
   "cell_type": "markdown",
   "metadata": {},
   "source": [
    "### Setup Data Matrices"
   ]
  },
  {
   "cell_type": "code",
   "execution_count": null,
   "metadata": {},
   "outputs": [],
   "source": [
    "# Initialize data matrices for training and testing\n",
    "X_train = np.zeros((n,(n_timesteps-1)*n_train))\n",
    "Xprime_train = np.zeros((n,(n_timesteps-1)*n_train))\n",
    "Upsilon_train = np.zeros((l,(n_timesteps-1)*n_train))\n",
    "Y_train = np.zeros((m,(n_timesteps-1)*n_train))\n",
    "# Load in data from training episodes\n",
    "for i in range(n_train):\n",
    "    X_train[:,i*(n_timesteps-1):(i+1)*(n_timesteps-1)] = X_fom[:,:-1,i]\n",
    "    Xprime_train[:,i*(n_timesteps-1):(i+1)*(n_timesteps-1)] = X_fom[:,1:,i]\n",
    "    Upsilon_train[:,i*(n_timesteps-1):(i+1)*(n_timesteps-1)] = U_fom[:,:-1,i]\n",
    "    Y_train[:,i*(n_timesteps-1):(i+1)*(n_timesteps-1)] = Y_fom[:,:-1,i]\n"
   ]
  },
  {
   "cell_type": "code",
   "execution_count": null,
   "metadata": {},
   "outputs": [],
   "source": [
    "# Form snapshot matrices for DMDc\n",
    "Omega = np.concatenate([X_train,Upsilon_train],axis=0)\n"
   ]
  },
  {
   "attachments": {},
   "cell_type": "markdown",
   "metadata": {},
   "source": [
    "### Solve for Discrete Time System Matrices"
   ]
  },
  {
   "cell_type": "code",
   "execution_count": null,
   "metadata": {},
   "outputs": [],
   "source": [
    "# Decompose snapshot matrix using truncated SVD\n",
    "p_dmd = 1000\n",
    "r_dmd = n_ROM\n",
    "\n",
    "U_tilde,Sigma_tilde,Vh_tilde = randomized_svd(Omega, n_components=p_dmd)\n",
    "Sigma_tilde = np.diag(Sigma_tilde)\n",
    "U_hat, Sigma_hat, V_hat = randomized_svd(Xprime_train, n_components=r_dmd)\n",
    "Sigma_hat = np.diag(Sigma_hat)\n",
    "\n"
   ]
  },
  {
   "cell_type": "code",
   "execution_count": null,
   "metadata": {},
   "outputs": [],
   "source": [
    "# Compute system state evolution matrices\n",
    "U_tilde_1 = U_tilde[0:n,:]\n",
    "U_tilde_2 = U_tilde[n:,:]\n",
    "A_dmdc = (U_hat.conj().T)@Xprime_train@(Vh_tilde.conj().T)@(np.linalg.inv(Sigma_tilde))@(U_tilde_1.conj().T)@U_hat\n",
    "B_dmdc = (U_hat.conj().T)@Xprime_train@(Vh_tilde.conj().T)@(np.linalg.inv(Sigma_tilde))@(U_tilde_2.conj().T)"
   ]
  },
  {
   "cell_type": "code",
   "execution_count": null,
   "metadata": {},
   "outputs": [],
   "source": [
    "# Solve for system output matrix from full order system\n",
    "ys = Y_train[:,0:10]\n",
    "X_PI = np.linalg.pinv(X_train[:,0:10])\n",
    "C_dmdc = ys@X_PI"
   ]
  },
  {
   "cell_type": "code",
   "execution_count": null,
   "metadata": {},
   "outputs": [],
   "source": [
    "# Clean up memory except for system matrices\n",
    "del  Xprime_train, Upsilon_train, Omega, U_tilde, Sigma_tilde, Vh_tilde, Sigma_hat, V_hat, U_tilde_1, U_tilde_2, X_PI, ys"
   ]
  },
  {
   "attachments": {},
   "cell_type": "markdown",
   "metadata": {},
   "source": [
    "## OpInf"
   ]
  },
  {
   "attachments": {},
   "cell_type": "markdown",
   "metadata": {},
   "source": [
    "### Setup Data Matrices"
   ]
  },
  {
   "cell_type": "code",
   "execution_count": null,
   "metadata": {},
   "outputs": [],
   "source": [
    "# Simulation Parameters\n",
    "dt = 0.001\n",
    "t = np.arange(0,dt*n_timesteps,dt)\n"
   ]
  },
  {
   "cell_type": "code",
   "execution_count": null,
   "metadata": {},
   "outputs": [],
   "source": [
    "# Initialize data matrices for training and testing\n",
    "Q_train = np.zeros((n,(n_timesteps)*n_train))\n",
    "Qdot_train = np.zeros((n,(n_timesteps)*n_train))\n",
    "Upsilon_train = np.zeros((l,(n_timesteps)*n_train))\n",
    "Y_train = np.zeros((m,(n_timesteps)*n_train))\n",
    "# Load in data from training episodes\n",
    "for i in range(n_train):\n",
    "    Q_train[:,i*(n_timesteps):(i+1)*(n_timesteps)] = X_fom[:,:,i]\n",
    "    Qdot_train[:,i*(n_timesteps):(i+1)*(n_timesteps)] = opinf.pre.ddt(X_fom[:,:,i], dt, order=6) \n",
    "    Upsilon_train[:,i*(n_timesteps):(i+1)*(n_timesteps)] = U_fom[:,:,i]\n",
    "    Y_train[:,i*(n_timesteps):(i+1)*(n_timesteps)] = Y_fom[:,:,i]\n"
   ]
  },
  {
   "cell_type": "code",
   "execution_count": null,
   "metadata": {},
   "outputs": [],
   "source": [
    "# Setup OpInf Solver\n",
    "t = np.arange(0,dt*n_timesteps,dt)\n",
    "basis = opinf.pre.PODBasis().fit(Q_train,r=n_ROM) # fit basis to training data\n",
    "rom_opInf = opinf.DiscreteOpInfROM(modelform=\"AB\") \n",
    "solver = opinf.lstsq.L2Solver(regularizer=1e-2)         # Select a least-squares solver with regularization.\n",
    "rom_opInf.fit(basis, Q_train, Qdot_train, Upsilon_train,solver=solver)                  # Construct the ROM by solving the operator inference.\n"
   ]
  },
  {
   "cell_type": "code",
   "execution_count": null,
   "metadata": {},
   "outputs": [],
   "source": [
    "# Extract system matrices from OpInf ROM\n",
    "A_opInf = np.array(rom_opInf.A_.entries)\n",
    "B_opInf = np.array(rom_opInf.B_.entries)\n",
    "basis_opInf = np.array(basis.entries)\n"
   ]
  },
  {
   "cell_type": "code",
   "execution_count": null,
   "metadata": {},
   "outputs": [],
   "source": [
    "# Solve for system output matrix from full order system\n",
    "ys = Y_train[:,0:10]\n",
    "X_PI = np.linalg.pinv(X_train[:,0:10])\n",
    "C_opInf = ys@X_PI"
   ]
  },
  {
   "cell_type": "code",
   "execution_count": null,
   "metadata": {},
   "outputs": [],
   "source": [
    "# Clean up memory except for system matrices\n",
    "del Q_train, Qdot_train, Upsilon_train, Y_train, t, basis, rom_opInf, solver, X_PI, ys"
   ]
  },
  {
   "attachments": {},
   "cell_type": "markdown",
   "metadata": {},
   "source": [
    "## LOpInf"
   ]
  },
  {
   "cell_type": "code",
   "execution_count": null,
   "metadata": {},
   "outputs": [],
   "source": [
    "# Read in continuous time operators from file\n",
    "mat = scipy.io.loadmat(filepath+'lopinf_rom_r_6_operators.mat')\n",
    "Bhat_lopinf = mat['Bhat']\n",
    "Chat_lopinf = mat['Chat']\n",
    "Ehat_lopinf = mat['Ehat']\n",
    "Khat_lopinf = mat['Khat']\n",
    "Mhat_lopinf = mat['Mhat']\n",
    "# Form continuous time linear state space matrices\n",
    "A_lopinf_ct = np.block([\n",
    "    [np.zeros((n_ROM//2,n_ROM//2)),np.eye(n_ROM//2)],\n",
    "    [-Khat_lopinf, -Chat_lopinf]\n",
    "])\n",
    "B_lopinf_ct = np.block([\n",
    "    [np.zeros((n_ROM//2,l))],\n",
    "    [Bhat_lopinf]\n",
    "])\n",
    "C_lopinf_ct = np.block([\n",
    "    [Ehat_lopinf, np.zeros((m,n_ROM//2))]\n",
    "])\n",
    "D_lopinf_ct = np.zeros((m,l))\n",
    "# Convert continuous time operators to discrete time operators\n",
    "A_lopinf_dt = scipy.linalg.expm(A_lopinf_ct*dt)\n",
    "B_lopinf_dt = (A_lopinf_dt-np.eye(n_ROM))@np.linalg.inv(A_lopinf_ct)@B_lopinf_ct\n",
    "C_lopinf_dt = C_lopinf_ct\n",
    "D_lopinf_dt = D_lopinf_ct\n",
    "\n",
    "A_lopinf, B_lopinf, C_lopinf, D_lopinf, dt_lopinf = cont2discrete((A_lopinf_ct, B_lopinf_ct, C_lopinf_ct,D_lopinf_ct), dt, method='zoh')"
   ]
  },
  {
   "cell_type": "code",
   "execution_count": null,
   "metadata": {},
   "outputs": [],
   "source": [
    "# Print sizes of A matrices\n",
    "# print('A_dmdc: ', A_dmdc.shape)\n",
    "# print('A_opInf: ', A_opInf.shape)\n",
    "# print('A_lopinf: ', A_lopinf.shape)\n",
    "# Check if lopinf matrices are identical betweeen continuous and discrete time \n",
    "print(np.equal(C_lopinf_dt,C_lopinf).all())\n",
    "print(np.equal(D_lopinf_dt,D_lopinf).all())\n",
    "print(np.equal(A_lopinf_dt,A_lopinf).all())\n",
    "print(np.equal(B_lopinf_dt,B_lopinf).all())\n",
    "\n"
   ]
  },
  {
   "attachments": {},
   "cell_type": "markdown",
   "metadata": {},
   "source": [
    "# Save System Matrices for Control Experiments\n"
   ]
  },
  {
   "cell_type": "code",
   "execution_count": null,
   "metadata": {},
   "outputs": [],
   "source": [
    "# Save system matrices, projection mappings, and initial offset into file for later use\n",
    "np.savez(filepath+f\"romSystemMatrices_{n_ROM}dim_{n_train}train_{n_test}test.npz\", A_era=A_era, B_era=B_era, C_era=C_era, D_era=D_era, A_dmdc=A_dmdc, B_dmdc=B_dmdc, C_dmdc=C_dmdc@U_hat, basis_dmdc = U_hat, A_opInf=A_opInf, B_opInf=B_opInf, C_opInf=C_opInf@basis_opInf ,basis_opInf=basis_opInf,A_lopinf=A_lopinf_dt,B_lopinf=B_lopinf_dt,C_lopinf=C_lopinf_dt,D_lopinf = D_lopinf_dt, x0=X0[:,0])\n",
    "# save as .mat file\n",
    "scipy.io.savemat(filepath+f\"romSystemMatrices_{n_ROM}dim_{n_train}train_{n_test}test.mat\", mdict={'A_era': A_era, 'B_era': B_era, 'C_era': C_era, 'D_era': D_era, 'A_dmdc': A_dmdc, 'B_dmdc': B_dmdc, 'C_dmdc': C_dmdc@U_hat, 'basis_dmdc': U_hat, 'A_opInf': A_opInf, 'B_opInf': B_opInf, 'C_opInf': C_opInf@basis_opInf, 'basis_opInf': basis_opInf, 'A_lopinf': A_lopinf_dt, 'B_lopinf': B_lopinf_dt, 'C_lopinf': C_lopinf_dt, 'D_lopinf': D_lopinf_dt, 'x0': X0[:,0]})"
   ]
  },
  {
   "attachments": {},
   "cell_type": "markdown",
   "metadata": {},
   "source": [
    "# Verification Experiments"
   ]
  },
  {
   "attachments": {},
   "cell_type": "markdown",
   "metadata": {},
   "source": [
    "## Simulate System Responses from Training and Test Episodes"
   ]
  },
  {
   "attachments": {},
   "cell_type": "markdown",
   "metadata": {},
   "source": [
    "### OKID/ERA"
   ]
  },
  {
   "cell_type": "code",
   "execution_count": null,
   "metadata": {},
   "outputs": [],
   "source": [
    "# Initialize data matrices for training and testing responses\n",
    "X_hat_rom_era = np.zeros((n_ROM,n_timesteps,n_train+n_test))\n",
    "Y_hat_rom_era = np.zeros((m,n_timesteps,n_train+n_test))\n",
    "# Set initial conditions for each episode\n",
    "for i in range(n_train+n_test):\n",
    "    # Set initial states\n",
    "    X_hat_rom_era[:,[0],i] = np.zeros((n_ROM,1)) #X_fom[:,[0],i]\n",
    "    # Compute initial outputs for each episode\n",
    "    Y_hat_rom_era[:,[0],i] = C_era@X_hat_rom_era[:,[0],i] + D_era@U_fom[:,[0],i]\n"
   ]
  },
  {
   "cell_type": "code",
   "execution_count": null,
   "metadata": {},
   "outputs": [],
   "source": [
    "# Simulate ERA ROM for all episodes\n",
    "for i in range(n_train+n_test):\n",
    "    # Simulate ERA ROM\n",
    "    for j in range(n_timesteps-1):\n",
    "        X_hat_rom_era[:,[j+1],i] = A_era@X_hat_rom_era[:,[j],i] + B_era@U_fom[:,[j],i]\n",
    "        Y_hat_rom_era[:,[j+1],i] = C_era@X_hat_rom_era[:,[j+1],i] + D_era@U_fom[:,[j+1],i]\n"
   ]
  },
  {
   "cell_type": "code",
   "execution_count": null,
   "metadata": {},
   "outputs": [],
   "source": [
    "# Uncenter output data with initial conditions for each episode\n",
    "for i in range(n_train+n_test):\n",
    "    Y_hat_rom_era[:,:,i] = Y_hat_rom_era[:,:,i] + Y0[:,i].reshape(m,1)\n"
   ]
  },
  {
   "cell_type": "code",
   "execution_count": null,
   "metadata": {},
   "outputs": [],
   "source": [
    "# Clear some memory\n",
    "del X_hat_rom_era"
   ]
  },
  {
   "attachments": {},
   "cell_type": "markdown",
   "metadata": {},
   "source": [
    "### DMDc"
   ]
  },
  {
   "cell_type": "code",
   "execution_count": null,
   "metadata": {},
   "outputs": [],
   "source": [
    "# Initialize data matrices for training and testing responses\n",
    "X_hat_rom_dmdc = np.zeros((n_ROM,n_timesteps,n_train+n_test))\n",
    "X_hat_fom_dmdc = np.zeros((n,n_timesteps,n_train+n_test))\n",
    "Y_hat_rom_dmdc = np.zeros((m,n_timesteps,n_train+n_test))\n",
    "# Set initial conditions for each episode\n",
    "for i in range(n_train+n_test):\n",
    "    # Set initial states\n",
    "    X_hat_rom_dmdc[:,[0],i] = np.zeros((n_ROM,1)) #X_fom[:,[0],i]\n",
    "    X_hat_fom_dmdc[:,[0],i] = X_fom[:,[0],i]\n",
    "    # Compute initial outputs for each episode\n",
    "    Y_hat_rom_dmdc[:,[0],i] = C_dmdc@U_hat@X_hat_rom_dmdc[:,[0],i]"
   ]
  },
  {
   "cell_type": "code",
   "execution_count": null,
   "metadata": {},
   "outputs": [],
   "source": [
    "# Simulate DMDc ROM for all episodes\n",
    "for i in range(n_train+n_test):\n",
    "    # Simulate DMDc ROM\n",
    "    for j in range(n_timesteps-1):\n",
    "        X_hat_rom_dmdc[:,[j+1],i] = A_dmdc@X_hat_rom_dmdc[:,[j],i] + B_dmdc@U_fom[:,[j],i]\n",
    "        X_hat_fom_dmdc[:,[j+1],i] = U_hat@X_hat_rom_dmdc[:,[j+1],i] # Compute full order state from reduced order state\n",
    "        Y_hat_rom_dmdc[:,[j+1],i] = C_dmdc@U_hat@X_hat_rom_dmdc[:,[j+1],i]"
   ]
  },
  {
   "cell_type": "code",
   "execution_count": null,
   "metadata": {},
   "outputs": [],
   "source": [
    "# Uncenter FOM state and output data with initial conditions for each episode\n",
    "for i in range(n_train+n_test):\n",
    "    X_hat_fom_dmdc[:,:,i] = X_hat_fom_dmdc[:,:,i] + X0[:,i].reshape(n,1)\n",
    "    Y_hat_rom_dmdc[:,:,i] = Y_hat_rom_dmdc[:,:,i] + Y0[:,i].reshape(m,1)"
   ]
  },
  {
   "cell_type": "code",
   "execution_count": null,
   "metadata": {},
   "outputs": [],
   "source": [
    "# Clear some memory\n",
    "del X_hat_rom_dmdc, X_hat_fom_dmdc"
   ]
  },
  {
   "attachments": {},
   "cell_type": "markdown",
   "metadata": {},
   "source": [
    "### OpInf"
   ]
  },
  {
   "cell_type": "code",
   "execution_count": null,
   "metadata": {},
   "outputs": [],
   "source": [
    "# Initialize data matrices for training and testing responses\n",
    "X_hat_rom_opInf = np.zeros((n_ROM,n_timesteps,n_train+n_test))\n",
    "X_hat_fom_opInf = np.zeros((n,n_timesteps,n_train+n_test))\n",
    "Y_hat_rom_opInf = np.zeros((m,n_timesteps,n_train+n_test))\n",
    "# Set initial conditions for each episode\n",
    "for i in range(n_train+n_test):\n",
    "    # Set initial states\n",
    "    X_hat_rom_opInf[:,[0], i] = np.zeros((n_ROM,1)) #X_fom[:,[0],i]\n",
    "    X_hat_fom_opInf[:,[0], i] = X_fom[:,[0],i]\n",
    "    # Compute initial outputs for each episode\n",
    "    Y_hat_rom_opInf[:,[0], i] = C_opInf@X_hat_fom_opInf[:,[0],i]\n",
    "    "
   ]
  },
  {
   "cell_type": "code",
   "execution_count": null,
   "metadata": {},
   "outputs": [],
   "source": [
    "# Simulate OpInf ROM for all episodes\n",
    "for i in range(n_train+n_test):\n",
    "    # Simulate OpInf ROM\n",
    "    for j in range(n_timesteps-1):\n",
    "        X_hat_rom_opInf[:,[j+1], i] = A_opInf@X_hat_rom_opInf[:,[j], i] + B_opInf@U_fom[:,[j], i]\n",
    "        X_hat_fom_opInf[:,[j+1], i] = basis_opInf@X_hat_rom_opInf[:,[j+1],i] # Compute full order state from reduced order state\n",
    "        Y_hat_rom_opInf[:,[j+1], i] = C_opInf@X_hat_fom_opInf[:,[j+1],i]"
   ]
  },
  {
   "cell_type": "code",
   "execution_count": null,
   "metadata": {},
   "outputs": [],
   "source": [
    "# Clear some memory\n",
    "del X_hat_rom_opInf, X_hat_fom_opInf"
   ]
  },
  {
   "cell_type": "code",
   "execution_count": null,
   "metadata": {},
   "outputs": [],
   "source": [
    "# Uncenter FOM state and output data with initial conditions for each episode\n",
    "for i in range(n_train+n_test):\n",
    "    # X_hat_fom_opInf[:,:,i] = X_hat_fom_opInf[:,:,i] + X0[:,i].reshape(n,1)\n",
    "    Y_hat_rom_opInf[:,:,i] = Y_hat_rom_opInf[:,:,i] + Y0[:,i].reshape(m,1)"
   ]
  },
  {
   "attachments": {},
   "cell_type": "markdown",
   "metadata": {},
   "source": [
    "### LOpInf"
   ]
  },
  {
   "cell_type": "code",
   "execution_count": null,
   "metadata": {},
   "outputs": [],
   "source": [
    "# Read in data from LOpInf Trials\n",
    "\n",
    "mat = mat73.loadmat(filepath+'lopinf_rom_r_6.mat')\n",
    "# X_hat_rom_lopinf = mat['stateData_approx']\n",
    "Y_hat_rom_lopinf = mat['outputData_approx']\n"
   ]
  },
  {
   "cell_type": "code",
   "execution_count": null,
   "metadata": {},
   "outputs": [],
   "source": [
    "del mat"
   ]
  },
  {
   "cell_type": "code",
   "execution_count": null,
   "metadata": {},
   "outputs": [],
   "source": [
    "# Also generate outputs from LOpInf discrete time model\n",
    "# Initialize data matrices for training and testing responses\n",
    "X_hat_rom_lopinf_dt = np.zeros((n_ROM,n_timesteps,n_train+n_test))\n",
    "X_hat_fom_lopinf_dt = np.zeros((n,n_timesteps,n_train+n_test))\n",
    "Y_hat_rom_lopinf_dt = np.zeros((m,n_timesteps,n_train+n_test))\n",
    "# Set initial conditions for each episode\n",
    "for i in range(n_train+n_test):\n",
    "    # Set initial states\n",
    "    X_hat_rom_lopinf_dt[:,[0],i] = np.zeros((n_ROM,1)) #X_fom[:,[0],i]\n",
    "    # X_hat_fom_lopinf_dt[:,[0],i] = X_fom[:,[0],i]\n",
    "    # Compute initial outputs for each episode\n",
    "    Y_hat_rom_lopinf_dt[:,[0],i] = C_lopinf_dt@X_hat_rom_lopinf_dt[:,[0],i]\n"
   ]
  },
  {
   "cell_type": "code",
   "execution_count": null,
   "metadata": {},
   "outputs": [],
   "source": [
    "# Simulate LOpInf discrete time ROM for all episodes\n",
    "for i in range(n_train+n_test):\n",
    "    # Simulate LOpInf discrete time ROM\n",
    "    for j in range(n_timesteps-1):\n",
    "        X_hat_rom_lopinf_dt[:,[j+1],i] = A_lopinf_dt@X_hat_rom_lopinf_dt[:,[j],i] + B_lopinf_dt@U_fom[:,[j],i]\n",
    "        Y_hat_rom_lopinf_dt[:,[j+1],i] = C_lopinf_dt@X_hat_rom_lopinf_dt[:,[j+1],i]"
   ]
  },
  {
   "cell_type": "code",
   "execution_count": null,
   "metadata": {},
   "outputs": [],
   "source": [
    "# Uncenter FOM state and output data with initial conditions for each episode\n",
    "for i in range(n_train+n_test):\n",
    "    Y_hat_rom_lopinf_dt[:,:,i] = Y_hat_rom_lopinf_dt[:,:,i] + Y0[:,i].reshape(m,1)"
   ]
  },
  {
   "attachments": {},
   "cell_type": "markdown",
   "metadata": {},
   "source": [
    "### Uncenter Full Order Model"
   ]
  },
  {
   "attachments": {},
   "cell_type": "markdown",
   "metadata": {},
   "source": [
    "## Uncenter FOM\n"
   ]
  },
  {
   "cell_type": "code",
   "execution_count": null,
   "metadata": {},
   "outputs": [],
   "source": [
    "# Uncenter FOM state and output data with initial conditions for each episode\n",
    "for i in range(n_train+n_test):\n",
    "    X_fom[:,:,i] = X_fom[:,:,i] + X0[:,i].reshape(n,1)\n",
    "    Y_fom[:,:,i] = Y_fom[:,:,i] + Y0[:,i].reshape(m,1)\n",
    "    "
   ]
  },
  {
   "attachments": {},
   "cell_type": "markdown",
   "metadata": {},
   "source": [
    "## Response Visualizations"
   ]
  },
  {
   "cell_type": "code",
   "execution_count": null,
   "metadata": {},
   "outputs": [],
   "source": [
    "t = np.arange(0,dt*n_timesteps,dt)"
   ]
  },
  {
   "attachments": {},
   "cell_type": "markdown",
   "metadata": {},
   "source": [
    "### First Output Response"
   ]
  },
  {
   "attachments": {},
   "cell_type": "markdown",
   "metadata": {},
   "source": [
    "#### Training Set 1"
   ]
  },
  {
   "cell_type": "code",
   "execution_count": null,
   "metadata": {},
   "outputs": [],
   "source": [
    "# Plot first output from first training episode for all modelling methods\n",
    "plt.figure()\n",
    "plt.plot(t,Y_fom[0,:,0],'k',label='FOM',linewidth=6)\n",
    "plt.plot(t,Y_hat_rom_era[0,:,0],'r',label='ERA',linewidth=5)\n",
    "plt.plot(t,Y_hat_rom_dmdc[0,:,0],'b',label='DMDc',linewidth=5)\n",
    "#plt.plot(t,Y_hat_rom_opInf[0,:,0],'g',label='OpInf',linewidth=5)\n",
    "plt.plot(t,Y_hat_rom_lopinf[0,:,0],'m',label='LOpInf',linewidth=5)\n",
    "plt.plot(t,Y_hat_rom_lopinf_dt[0,:,0],'c',label='LOpInf DT',linewidth=5)\n",
    "legend = plt.legend(loc='upper right', shadow=False, fontsize='medium')\n",
    "plt.xlabel('Time (s)')\n",
    "plt.ylabel('Output')\n",
    "title = 'First Output from First Training Episode'\n",
    "plt.title(title)"
   ]
  },
  {
   "attachments": {},
   "cell_type": "markdown",
   "metadata": {},
   "source": [
    "#### Test Set 1"
   ]
  },
  {
   "cell_type": "code",
   "execution_count": null,
   "metadata": {},
   "outputs": [],
   "source": [
    "# Plot first output from first testing episode for all modelling methods\n",
    "plt.figure()\n",
    "plt.plot(t,Y_fom[0,:,n_train],'k',label='FOM',linewidth=5)\n",
    "plt.plot(t,Y_hat_rom_era[0,:,n_train],'r',label='ERA',linewidth=5)\n",
    "plt.plot(t,Y_hat_rom_dmdc[0,:,n_train],'b',label='DMDc',linewidth=5)\n",
    "# plt.plot(t,Y_hat_rom_opInf[0,:,n_train],'g',label='OpInf',linewidth=5)\n",
    "plt.plot(t,Y_hat_rom_lopinf[0,:,n_train],'m',label='LOpInf',linewidth=5)\n",
    "legend = plt.legend(loc='upper right', shadow=False, fontsize='medium')\n",
    "plt.xlabel('Time (s)')\n",
    "plt.ylabel('Output')\n",
    "title = 'First Output from First Testing Episode'\n",
    "plt.title(title)\n"
   ]
  },
  {
   "attachments": {},
   "cell_type": "markdown",
   "metadata": {},
   "source": [
    "### First state Response"
   ]
  },
  {
   "attachments": {},
   "cell_type": "markdown",
   "metadata": {},
   "source": [
    "#### First Training Episode"
   ]
  },
  {
   "cell_type": "code",
   "execution_count": null,
   "metadata": {},
   "outputs": [],
   "source": [
    "# Plot first state from first training episode for all modelling methods except ERA\n",
    "plt.figure()\n",
    "plt.plot(t,X_fom[0,:,0],'k',label='FOM',linewidth=5)\n",
    "plt.plot(t,X_hat_fom_dmdc[0,:,0],'b',label='DMDc',linewidth=5)\n",
    "# plt.plot(t,X_hat_fom_opInf[0,:,0],'g',label='OpInf',linewidth=5)\n",
    "# plt.plot(t,X_hat_rom_lopinf[0,:,0],'m',label='LOpInf',linewidth=5)\n",
    "legend = plt.legend(loc='upper right', shadow=False, fontsize='medium')\n",
    "plt.xlabel('Time (s)')\n",
    "plt.ylabel('State')\n",
    "title = 'First State from First Training Episode'\n",
    "plt.title(title)"
   ]
  },
  {
   "attachments": {},
   "cell_type": "markdown",
   "metadata": {},
   "source": [
    "#### First Test Episode"
   ]
  },
  {
   "cell_type": "code",
   "execution_count": null,
   "metadata": {},
   "outputs": [],
   "source": [
    "# Plot first state from first testing episode for all modelling methods except ERA\n",
    "plt.figure()\n",
    "plt.plot(t,X_fom[0,:,n_train],'k',label='FOM',linewidth=5)\n",
    "plt.plot(t,X_hat_fom_dmdc[0,:,n_train],'b',label='DMDc',linewidth=5)\n",
    "#plt.plot(t,X_hat_fom_opInf[0,:,n_train],'g',label='OpInf',linewidth=5)\n",
    "# plt.plot(t,X_hat_rom_lopinf[0,:,n_train],'m',label='LOpInf',linewidth=5)\n",
    "legend = plt.legend(loc='upper right', shadow=False, fontsize='medium')\n",
    "plt.xlabel('Time (s)')\n",
    "plt.ylabel('State')\n",
    "title = 'First State from First Testing Episode'\n",
    "plt.title(title)"
   ]
  },
  {
   "attachments": {},
   "cell_type": "markdown",
   "metadata": {},
   "source": [
    "### Centerline Videos"
   ]
  },
  {
   "cell_type": "code",
   "execution_count": null,
   "metadata": {},
   "outputs": [],
   "source": [
    "# Setup save path for videos\n",
    "video_path = config[\"currentDirectory\"] +\"data/videos/\"\n",
    "videoName_test = 'test_episode_3segment.mp4'\n",
    "videoName_train = 'train_episode_3segment.mp4'\n",
    "# Number of frames and playspeed for video\n",
    "numFrames = n_timesteps\n",
    "fps = 30\n",
    "duration = numFrames/fps\n",
    "# Axis limits for video\n",
    "xlim_max = 400\n",
    "xlim_min =  -300\n",
    "zlim_max = -165\n",
    "zlim_min = -315\n",
    "ulim_max = 0.2\n",
    "ulim_min = -0.2\n",
    "# # Parameters for centerline reduction \n",
    "# n_seg = 10 # number of discrete points to use for centerline\n",
    "# N_local = 20 # number of local points to use when averaging around each discrete point\n",
    "\n"
   ]
  },
  {
   "attachments": {},
   "cell_type": "markdown",
   "metadata": {},
   "source": [
    "#### Training Set 1"
   ]
  },
  {
   "attachments": {},
   "cell_type": "markdown",
   "metadata": {},
   "source": [
    "Generate animation of centerline motion using output data from all modelling methods for the first training set\n"
   ]
  },
  {
   "cell_type": "code",
   "execution_count": null,
   "metadata": {},
   "outputs": [],
   "source": [
    "# Set up figure\n",
    "fig, ax = plt.subplots()\n",
    "# Define animation callback\n",
    "def animate(t):\n",
    "    # Bring in global variables for output data of fom and each method\n",
    "    global Y_fom, Y_hat_rom_era, Y_hat_rom_dmdc, Y_hat_rom_opInf, Y_hat_rom_lopinf\n",
    "    # Get frame index\n",
    "    i = int(round(t*fps))\n",
    "    # Reshape centerline data for each method for the given timestep of the first training episode\n",
    "    centerline_fom = Y_fom[:,i,0].reshape(-1,2)\n",
    "    centerline_era = Y_hat_rom_era[:,i,0].reshape(-1,2)\n",
    "    centerline_dmdc = Y_hat_rom_dmdc[:,i,0].reshape(-1,2)\n",
    "    #centerline_opInf = Y_hat_rom_opInf[:,i,0].reshape(-1,2)\n",
    "    centerline_lopinf = Y_hat_rom_lopinf[:,i,0].reshape(-1,2)\n",
    "    # Compute reduced centerlines for each method\n",
    "    centerline_fom_red = centerline_fom\n",
    "    centerline_era_red = centerline_era\n",
    "    centerline_dmdc_red = centerline_dmdc\n",
    "    centerline_lopinf_red = centerline_lopinf\n",
    "    #centerline_opInf_red = reduceCenterline(n_seg,centerline_opInf,N_local)\n",
    "    # centerline_lopinf_red = reduceCenterline(n_seg,centerline_lopinf,N_local)\n",
    "    # Plot reduced centerlines\n",
    "    ax.clear()\n",
    "    ax.plot(centerline_fom_red[:,1],centerline_fom_red[:,0],'k',label='FOM',linewidth=5)\n",
    "    ax.plot(centerline_era_red[:,1],centerline_era_red[:,0],'r',label='ERA',linewidth=5)\n",
    "    ax.plot(centerline_dmdc_red[:,1],centerline_dmdc_red[:,0],'b',label='DMDc',linewidth=5)\n",
    "    #ax.plot(centerline_opInf_red[:,0],centerline_opInf_red[:,1],'g',label='OpInf',linewidth=5)\n",
    "    ax.plot(centerline_lopinf_red[:,1],centerline_lopinf_red[:,0],'m',label='LOpInf',linewidth=5)\n",
    "    ax.set_xlim(xlim_min,xlim_max)\n",
    "    ax.set_ylim(zlim_min,zlim_max)\n",
    "    ax.set_xlabel('x (mm)')\n",
    "    ax.set_ylabel('z (mm)')\n",
    "    ax.set_title('Centerline at timestep '+str(i))\n",
    "    legend = plt.legend(loc='upper right', shadow=False, fontsize='medium')\n",
    "    return mplfig_to_npimage(fig)\n",
    "\n",
    "animation = VideoClip(animate, duration=duration)\n",
    "animation.write_videofile(video_path+videoName_train, fps=fps)\n",
    "\n"
   ]
  },
  {
   "attachments": {},
   "cell_type": "markdown",
   "metadata": {},
   "source": [
    "#### Test Set 1"
   ]
  },
  {
   "cell_type": "code",
   "execution_count": null,
   "metadata": {},
   "outputs": [],
   "source": [
    "# Set up figure\n",
    "fig, ax = plt.subplots()\n",
    "# Define animation callback \n",
    "def animate(t):\n",
    "    # Bring in global variables for output data of fom and each method\n",
    "    global Y_fom, Y_hat_rom_era, Y_hat_rom_dmdc, Y_hat_rom_opInf, Y_hat_rom_lopinf\n",
    "    # Get frame index\n",
    "    i = int(round(t*fps))\n",
    "    # Reshape centerline data for each method for the given timestep of the first testing episode\n",
    "    centerline_fom = Y_fom[:,i,n_train].reshape(-1,2)\n",
    "    centerline_era = Y_hat_rom_era[:,i,n_train].reshape(-1,2)\n",
    "    centerline_dmdc = Y_hat_rom_dmdc[:,i,n_train].reshape(-1,2)\n",
    "    #centerline_opInf = Y_hat_rom_opInf[:,i,0].reshape(-1,2)\n",
    "    centerline_lopinf = Y_hat_rom_lopinf[:,i,n_train].reshape(-1,2)\n",
    "    # Compute reduced centerlines for each method\n",
    "    centerline_fom_red = centerline_fom\n",
    "    centerline_era_red = centerline_era\n",
    "    centerline_dmdc_red = centerline_dmdc\n",
    "    centerline_lopinf_red = centerline_lopinf\n",
    "    #centerline_opInf_red = reduceCenterline(n_seg,centerline_opInf,N_local)\n",
    "    # centerline_lopinf_red = reduceCenterline(n_seg,centerline_lopinf,N_local)\n",
    "    # Plot reduced centerlines\n",
    "    ax.clear()\n",
    "    ax.plot(centerline_fom_red[:,1],centerline_fom_red[:,0],'k',label='FOM',linewidth=5)\n",
    "    ax.plot(centerline_era_red[:,1],centerline_era_red[:,0],'r',label='ERA',linewidth=5)\n",
    "    ax.plot(centerline_dmdc_red[:,1],centerline_dmdc_red[:,0],'b',label='DMDc',linewidth=5)\n",
    "    #ax.plot(centerline_opInf_red[:,0],centerline_opInf_red[:,1],'g',label='OpInf',linewidth=5)\n",
    "    ax.plot(centerline_lopinf_red[:,1],centerline_lopinf_red[:,0],'m',label='LOpInf',linewidth=5)\n",
    "    ax.set_xlim(xlim_min,xlim_max)\n",
    "    ax.set_ylim(zlim_min,zlim_max)\n",
    "    ax.set_xlabel('x (mm)')\n",
    "    ax.set_ylabel('z (mm)')\n",
    "    ax.set_title('Centerline at timestep '+str(i))\n",
    "    legend = plt.legend(loc='upper right', shadow=False, fontsize='medium')\n",
    "    return mplfig_to_npimage(fig)\n",
    "\n",
    "animation = VideoClip(animate, duration=duration)\n",
    "animation.write_videofile(video_path+videoName_test, fps=fps)\n",
    "\n"
   ]
  },
  {
   "attachments": {},
   "cell_type": "markdown",
   "metadata": {},
   "source": [
    "## Relative Error Computations"
   ]
  },
  {
   "attachments": {},
   "cell_type": "markdown",
   "metadata": {},
   "source": [
    "### Relative Output Errors"
   ]
  },
  {
   "attachments": {},
   "cell_type": "markdown",
   "metadata": {},
   "source": [
    "#### Training Episodes"
   ]
  },
  {
   "cell_type": "code",
   "execution_count": null,
   "metadata": {},
   "outputs": [],
   "source": [
    "# Compute relative error in frobenius norm for all training episodes\n",
    "rel_err_era_train = np.zeros((n_train,1))\n",
    "rel_err_dmdc_train = np.zeros((n_train,1))\n",
    "rel_err_opInf_train = np.zeros((n_train,1))\n",
    "rel_err_lopinf_train = np.zeros((n_train,1))\n",
    "for i in range(n_train):\n",
    "    rel_err_era_train[i] = np.linalg.norm(Y_fom[:,:,i]-Y_hat_rom_era[:,:,i])/np.linalg.norm(Y_fom[:,:,i])\n",
    "    rel_err_dmdc_train[i] = np.linalg.norm(Y_fom[:,:,i]-Y_hat_rom_dmdc[:,:,i])/np.linalg.norm(Y_fom[:,:,i])\n",
    "    rel_err_opInf_train[i] = np.linalg.norm(Y_fom[:,:,i]-Y_hat_rom_opInf[:,:,i])/np.linalg.norm(Y_fom[:,:,i])\n",
    "    rel_err_lopinf_train[i] = np.linalg.norm(Y_fom[:,:,i]-Y_hat_rom_lopinf[:,:,i])/np.linalg.norm(Y_fom[:,:,i])"
   ]
  },
  {
   "attachments": {},
   "cell_type": "markdown",
   "metadata": {},
   "source": [
    "#### Test Episodes\n"
   ]
  },
  {
   "cell_type": "code",
   "execution_count": null,
   "metadata": {},
   "outputs": [],
   "source": [
    "# Compute relative error in frobenius norm for all testing episodes\n",
    "rel_err_era_test = np.zeros((n_test,1))\n",
    "rel_err_dmdc_test = np.zeros((n_test,1))\n",
    "rel_err_opInf_test = np.zeros((n_test,1))\n",
    "rel_err_lopinf_test = np.zeros((n_test,1))\n",
    "for i in range(n_test):\n",
    "    rel_err_era_test[i] = np.linalg.norm(Y_fom[:,:,i+n_train]-Y_hat_rom_era[:,:,i+n_train])/np.linalg.norm(Y_fom[:,:,i+n_train])\n",
    "    rel_err_dmdc_test[i] = np.linalg.norm(Y_fom[:,:,i+n_train]-Y_hat_rom_dmdc[:,:,i+n_train])/np.linalg.norm(Y_fom[:,:,i+n_train])\n",
    "    rel_err_opInf_test[i] = np.linalg.norm(Y_fom[:,:,i+n_train]-Y_hat_rom_opInf[:,:,i+n_train])/np.linalg.norm(Y_fom[:,:,i+n_train])\n",
    "    rel_err_lopinf_test[i] = np.linalg.norm(Y_fom[:,:,i+n_train]-Y_hat_rom_lopinf[:,:,i+n_train])/np.linalg.norm(Y_fom[:,:,i+n_train])"
   ]
  },
  {
   "cell_type": "code",
   "execution_count": null,
   "metadata": {},
   "outputs": [],
   "source": [
    "# Make bar plot with error bars for training and testing episodes for each method\n",
    "fig, ax = plt.subplots()\n",
    "ax.bar(np.arange(0,8,2)-0.45,[np.mean(rel_err_era_train),np.mean(rel_err_dmdc_train),np.mean(rel_err_opInf_train),np.mean(rel_err_lopinf_train)],yerr=[np.std(rel_err_era_train),np.std(rel_err_dmdc_train),np.std(rel_err_opInf_train),np.std(rel_err_lopinf_train)],color=['r','b','g','m'],align='center',alpha=0.5,ecolor='black',capsize=10)\n",
    "ax.bar(np.arange(0,8,2)+0.45,[np.mean(rel_err_era_test),np.mean(rel_err_dmdc_test),np.mean(rel_err_opInf_test),np.mean(rel_err_lopinf_test)],yerr=[np.std(rel_err_era_test),np.std(rel_err_dmdc_test),np.std(rel_err_opInf_test),np.std(rel_err_lopinf_test)],color=['r','b','g','m'],align='center',alpha=0.5,ecolor='black',capsize=10,hatch='//')\n",
    "ax.set_ylabel('Relative error')\n",
    "ax.set_xticks(np.arange(0,8,2))\n",
    "ax.set_xticklabels(['ERA','DMDc','OpInf','LOpInf'])\n",
    "ax.set_title('Relative output error for training and testing episodes')\n",
    "ax.yaxis.grid(True)\n",
    "ax.legend(['Training','Testing'])\n",
    "# plt.tight_layout()\n"
   ]
  },
  {
   "attachments": {},
   "cell_type": "markdown",
   "metadata": {},
   "source": [
    "### Relative State Errors"
   ]
  },
  {
   "cell_type": "code",
   "execution_count": null,
   "metadata": {},
   "outputs": [],
   "source": [
    "# Compute relative error in frobenius norm for all training episodes of full order states for each method except ERA\n",
    "rel_err_dmdc_train_full = np.zeros((n_train,1))\n",
    "rel_err_opInf_train_full = np.zeros((n_train,1))\n",
    "rel_err_lopinf_train_full = np.zeros((n_train,1))\n",
    "for i in range(n_train):\n",
    "    rel_err_dmdc_train_full[i] = np.linalg.norm(X_fom[:,:,i]-X_hat_fom_dmdc[:,:,i])/np.linalg.norm(X_fom[:,:,i])\n",
    "    rel_err_opInf_train_full[i] = np.linalg.norm(X_fom[:,:,i]-X_hat_fom_opInf[:,:,i])/np.linalg.norm(X_fom[:,:,i])\n",
    "    # rel_err_lopinf_train_full[i] = np.linalg.norm(X_fom[:,:,i]-X_hat_rom_lopinf[:,:,i])/np.linalg.norm(X_fom[:,:,i])\n",
    "    \n"
   ]
  },
  {
   "cell_type": "code",
   "execution_count": null,
   "metadata": {},
   "outputs": [],
   "source": [
    "# Compute relative error in frobenius norm for all testing episodes of full order states for each method except ERA\n",
    "rel_err_dmdc_test_full = np.zeros((n_test,1))\n",
    "rel_err_opInf_test_full = np.zeros((n_test,1))\n",
    "rel_err_lopinf_test_full = np.zeros((n_test,1))\n",
    "for i in range(n_test):\n",
    "    rel_err_dmdc_test_full[i] = np.linalg.norm(X_fom[:,:,i+n_train]-X_hat_fom_dmdc[:,:,i+n_train])/np.linalg.norm(X_fom[:,:,i+n_train])\n",
    "    rel_err_opInf_test_full[i] = np.linalg.norm(X_fom[:,:,i+n_train]-X_hat_fom_opInf[:,:,i+n_train])/np.linalg.norm(X_fom[:,:,i+n_train])\n",
    "    # rel_err_lopinf_test_full[i] = np.linalg.norm(X_fom[:,:,i+n_train]-X_hat_rom_lopinf[:,:,i+n_train])/np.linalg.norm(X_fom[:,:,i+n_train])\n",
    "\n"
   ]
  },
  {
   "cell_type": "code",
   "execution_count": null,
   "metadata": {},
   "outputs": [],
   "source": [
    "# Make bar plot with error bars for training and testing episodes for each method\n",
    "fig, ax = plt.subplots()\n",
    "ax.bar(np.arange(0,6,2)-0.45,[np.mean(rel_err_dmdc_train_full),np.mean(rel_err_opInf_train_full),np.mean(rel_err_lopinf_train_full)],yerr=[np.std(rel_err_dmdc_train_full),np.std(rel_err_opInf_train_full),np.std(rel_err_lopinf_train_full)],color=['b','g','m'],align='center',alpha=0.5,ecolor='black',capsize=10)\n",
    "ax.bar(np.arange(0,6,2)+0.45,[np.mean(rel_err_dmdc_test_full),np.mean(rel_err_opInf_test_full),np.mean(rel_err_lopinf_test_full)],yerr=[np.std(rel_err_dmdc_test_full),np.std(rel_err_opInf_test_full),np.std(rel_err_lopinf_test_full)],color=['b','g','m'],align='center',alpha=0.5,ecolor='black',capsize=10,hatch='//')\n",
    "ax.set_ylabel('Relative error')\n",
    "ax.set_xticks(np.arange(0,6,2))\n",
    "ax.set_xticklabels(['DMDc','OpInf','LOpInf'])\n",
    "ax.set_title('Relative full state error for training and testing episodes')\n",
    "ax.yaxis.grid(True)\n",
    "ax.legend(['Training','Testing'])\n",
    "# plt.tight_layout()\n",
    "\n"
   ]
  }
 ],
 "metadata": {
  "kernelspec": {
   "display_name": "Python 3",
   "language": "python",
   "name": "python3"
  },
  "language_info": {
   "codemirror_mode": {
    "name": "ipython",
    "version": 3
   },
   "file_extension": ".py",
   "mimetype": "text/x-python",
   "name": "python",
   "nbconvert_exporter": "python",
   "pygments_lexer": "ipython3",
   "version": "3.8.10"
  },
  "orig_nbformat": 4
 },
 "nbformat": 4,
 "nbformat_minor": 2
}
