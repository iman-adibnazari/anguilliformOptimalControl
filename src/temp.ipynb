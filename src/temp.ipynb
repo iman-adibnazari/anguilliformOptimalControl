{
 "cells": [
  {
   "cell_type": "markdown",
   "metadata": {},
   "source": [
    "# Generate LOpInf roms"
   ]
  },
  {
   "cell_type": "code",
   "execution_count": 1,
   "metadata": {},
   "outputs": [],
   "source": [
    "#!/usr/bin/env python\n",
    "# -*- coding: utf-8 -*-\n",
    "import numpy as np\n",
    "from sklearn.decomposition import TruncatedSVD\n",
    "from scipy.sparse import csr_matrix\n",
    "from sklearn.utils.extmath import randomized_svd\n",
    " \n",
    "import os\n",
    "import matplotlib.pyplot as plt\n",
    "import matplotlib as mpl\n",
    "from matplotlib.animation import FuncAnimation\n",
    "from dotenv import dotenv_values \n",
    "from moviepy.editor import VideoClip\n",
    "from moviepy.video.io.bindings import mplfig_to_npimage\n",
    "import scipy.io\n",
    "from scipy.signal import cont2discrete\n",
    "import pyvista as pv\n",
    "import h5py\n",
    "import mat73\n",
    "import dask.array as da\n",
    "from dask.distributed import Client, LocalCluster\n",
    "import opinf\n",
    "config = dotenv_values(\".env\")\n",
    "from util import *"
   ]
  },
  {
   "cell_type": "code",
   "execution_count": 2,
   "metadata": {},
   "outputs": [],
   "source": [
    "####### Set up dask cluster #######\n",
    "# Setup Dask client\n",
    "# cluster = LocalCluster() # Launches a scheduler and workers locally\n",
    "# client = Client(cluster) # Connect to distributed cluster and override default\n",
    "client = Client('tcp://127.0.0.1:8786')\n",
    "client.cluster\n",
    "\n",
    "####### # Set up hyperparameters for all ROMs  #######\n",
    "n_timesteps = 2000 # Number of timesteps to pull from each episode\n",
    "dt = 0.001\n",
    "n_train = 3 # Number of training episodes\n",
    "ns_ROM = np.arange(2,202,2) # Dimensions of ROM state space"
   ]
  },
  {
   "cell_type": "code",
   "execution_count": 3,
   "metadata": {},
   "outputs": [
    {
     "name": "stdout",
     "output_type": "stream",
     "text": [
      "Loading in data...\n",
      "Done loading in data.\n"
     ]
    }
   ],
   "source": [
    "####### Set up filepaths #######\n",
    "# Setup filepaths for reading data \n",
    "filepath = config[\"currentDirectory\"] + \"data/archivedDataSets/FullAssembly_Constrained_FullSetForRAL_goodMatParams/\"\n",
    "romDir = config[\"currentDirectory\"] + \"data/archivedDataSets/FullAssembly_Constrained_FullSetForRAL_goodMatParams/ROMs/\"\n",
    "\n",
    "####### Load in data #######\n",
    "print(\"Loading in data...\")\n",
    "# Read in all training data \n",
    "data = h5py.File(filepath+ \"fullDataSet.hdf5\", 'r')\n",
    "X_fom = da.from_array(data[\"stateData\"], chunks=(4096, 4096,1))\n",
    "X_fom = X_fom[:,:,0:n_train]\n",
    "U_fom = da.from_array(data[\"inputData\"], chunks=(4096, 4096,1))\n",
    "U_fom = U_fom[:,:,0:n_train]\n",
    "Y_fom = da.from_array(data[\"reducedCenterlineData\"], chunks=(4096, 4096,1))\n",
    "Y_fom = Y_fom[:,:,0:n_train]\n",
    "x0 = data[\"stateData\"][:,0,0]\n",
    "y0 = data[\"reducedCenterlineData\"][:,0,0]\n",
    "n = X_fom.shape[0]\n",
    "l = U_fom.shape[0]\n",
    "m = Y_fom.shape[0]\n",
    "# # Collect initial condition offsets for each episode and center each episode\n",
    "X0 = da.zeros((n,n_train))\n",
    "Y0 = da.zeros((m,n_train))\n",
    "for i in range(n_train):\n",
    "    X0[:,i] = X_fom[:,0,i]\n",
    "    Y0[:,i] = Y_fom[:,0,i]\n",
    "    X_fom[:,:,i] = X_fom[:,:,i] - X0[:,i].reshape(-1,1)\n",
    "    Y_fom[:,:,i] = Y_fom[:,:,i] - Y0[:,i].reshape(-1,1)\n",
    "print(\"Done loading in data.\")"
   ]
  },
  {
   "cell_type": "code",
   "execution_count": 4,
   "metadata": {},
   "outputs": [],
   "source": [
    "# Read in .mat file for LOpInf ROM\n",
    "lOpInfMats = scipy.io.loadmat(romDir + \"lopinf_rom_operators_shifted.mat\")\n",
    "lOpInfbases = scipy.io.loadmat(romDir+'lopinf_shifted_basis_nkt_3.mat')\n",
    "        \n"
   ]
  },
  {
   "cell_type": "code",
   "execution_count": 5,
   "metadata": {},
   "outputs": [],
   "source": [
    "nROMs_LOpInf = np.array([2,4,6,8,10])"
   ]
  },
  {
   "cell_type": "code",
   "execution_count": 6,
   "metadata": {},
   "outputs": [],
   "source": [
    "U_fom = U_fom.compute()\n",
    "for i in range(len(nROMs_LOpInf)):\n",
    "    n_ROM = nROMs_LOpInf[i]*2\n",
    "    # Grab matrices from .mat file\n",
    "    Bhat_lopinf = lOpInfMats['ROM_B'][0,i]\n",
    "    Chat_lopinf = lOpInfMats['ROM_C'][0,i]\n",
    "    Khat_lopinf = lOpInfMats['ROM_K'][0,i]\n",
    "    Mhat_lopinf = lOpInfMats['ROM_M'][0,i]\n",
    "    basis_lopinf = np.hstack((lOpInfbases['V'][:,:n_ROM//2],np.zeros((lOpInfbases['V'][:,:n_ROM//2].shape[0],n_ROM//2))))\n",
    "\n",
    "    # Form continuous time linear state transition matrices for LOpInf ROM\n",
    "    A_lopinf_ct = np.block([\n",
    "        [np.zeros((n_ROM//2,n_ROM//2)),np.eye(n_ROM//2)],\n",
    "        [-Khat_lopinf, -Chat_lopinf]\n",
    "    ])\n",
    "    B_lopinf_ct = np.block([\n",
    "        [np.zeros((n_ROM//2,l))],\n",
    "        [Bhat_lopinf]\n",
    "    ])\n",
    "    # Convert continuous time operators to discrete time operators\n",
    "    A_lopinf_dt = scipy.linalg.expm(A_lopinf_ct*dt)\n",
    "    B_lopinf_dt = (A_lopinf_dt-np.eye(n_ROM))@np.linalg.inv(A_lopinf_ct)@B_lopinf_ct\n",
    "\n",
    "    # Initialize matrices to hold states so that we can compute the output matrices\n",
    "    X_lopinf = np.zeros((n_ROM,n_timesteps,n_train))\n",
    "    # Simulate the LOpInf ROM for each episode\n",
    "    for j in range(n_train):\n",
    "        for k in range(n_timesteps):\n",
    "            X_lopinf[:,k,j] = A_lopinf_dt@X_lopinf[:,k-1,j] + B_lopinf_dt@U_fom[:,k,j]\n",
    "    # Compute the output matrices for the LOpInf ROM by projecting outputs onto states\n",
    "    C_lopinf_ct = Y_fom[:,:,0].compute()@np.linalg.pinv(X_lopinf[:,:,0])\n",
    "    # C_lopinf_ct = np.block([\n",
    "    #     [Ehat_lopinf, np.zeros((m,n_ROM//2))]\n",
    "    # ])\n",
    "    D_lopinf_ct = np.zeros((m,l))\n",
    "\n",
    "    C_lopinf_dt = C_lopinf_ct\n",
    "    D_lopinf_dt = D_lopinf_ct\n",
    "    # Save system matrices, projection mappings, and initial offset into file for later use\n",
    "    np.savez(romDir+f\"lopinfSystemMatrices_{n_ROM}dim_{n_train}train.npz\", A_lopinf=A_lopinf_dt, B_lopinf=B_lopinf_dt, C_lopinf=C_lopinf_dt, D_lopinf=D_lopinf_dt, x0=x0, y0=y0, basis_lopinf=basis_lopinf)\n",
    "    # save as .mat file\n",
    "    scipy.io.savemat(romDir+f\"lopinfSystemMatrices_{n_ROM}dim_{n_train}train.mat\", mdict={'A_lopinf': A_lopinf_dt, 'B_lopinf': B_lopinf_dt, 'C_lopinf': C_lopinf_dt, 'D_lopinf': D_lopinf_dt, 'x0': x0, 'y0': y0, 'basis_lopinf': basis_lopinf})\n"
   ]
  },
  {
   "cell_type": "code",
   "execution_count": 7,
   "metadata": {},
   "outputs": [
    {
     "data": {
      "text/plain": [
       "(40, 2000)"
      ]
     },
     "execution_count": 7,
     "metadata": {},
     "output_type": "execute_result"
    }
   ],
   "source": [
    "Y_fom[:,:,0].compute().shape"
   ]
  },
  {
   "cell_type": "code",
   "execution_count": 8,
   "metadata": {},
   "outputs": [
    {
     "data": {
      "text/plain": [
       "(20, 2000)"
      ]
     },
     "execution_count": 8,
     "metadata": {},
     "output_type": "execute_result"
    }
   ],
   "source": [
    "X_lopinf[:,:,0].shape"
   ]
  },
  {
   "cell_type": "code",
   "execution_count": 9,
   "metadata": {},
   "outputs": [
    {
     "data": {
      "text/plain": [
       "(2000, 20)"
      ]
     },
     "execution_count": 9,
     "metadata": {},
     "output_type": "execute_result"
    }
   ],
   "source": [
    "np.linalg.pinv(X_lopinf[:,:,0]).shape"
   ]
  }
 ],
 "metadata": {
  "kernelspec": {
   "display_name": "Python 3",
   "language": "python",
   "name": "python3"
  },
  "language_info": {
   "codemirror_mode": {
    "name": "ipython",
    "version": 3
   },
   "file_extension": ".py",
   "mimetype": "text/x-python",
   "name": "python",
   "nbconvert_exporter": "python",
   "pygments_lexer": "ipython3",
   "version": "3.8.10"
  }
 },
 "nbformat": 4,
 "nbformat_minor": 2
}
