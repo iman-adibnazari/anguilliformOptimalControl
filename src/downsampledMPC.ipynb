{
 "cells": [
  {
   "cell_type": "markdown",
   "metadata": {},
   "source": [
    "The goal of this notebook is to test out how downsampling system matrices affects MPC performance"
   ]
  },
  {
   "cell_type": "code",
   "execution_count": 1,
   "metadata": {},
   "outputs": [],
   "source": [
    "# Imports\n",
    "#!/usr/bin/env python\n",
    "# -*- coding: utf-8 -*-\n",
    "import numpy as np\n",
    "from sklearn.decomposition import TruncatedSVD\n",
    "from scipy.sparse import csr_matrix\n",
    "from sklearn.utils.extmath import randomized_svd\n",
    "\n",
    " \n",
    "import os\n",
    "import matplotlib.pyplot as plt\n",
    "import matplotlib as mpl\n",
    "from matplotlib.animation import FuncAnimation\n",
    "from dotenv import dotenv_values \n",
    "from moviepy.editor import VideoClip\n",
    "from moviepy.video.io.bindings import mplfig_to_npimage\n",
    "import scipy.io\n",
    "from scipy.signal import cont2discrete\n",
    "import pyvista as pv\n",
    "import h5py\n",
    "import mat73\n",
    "import dask.array as da\n",
    "from dask.distributed import Client, LocalCluster\n",
    "import opinf\n",
    "config = dotenv_values(\".env\")\n",
    "from util import *\n",
    "from scipy import signal\n",
    "\n",
    "from sympy import Matrix, init_printing\n",
    "init_printing()"
   ]
  },
  {
   "cell_type": "code",
   "execution_count": 2,
   "metadata": {},
   "outputs": [],
   "source": [
    "# Hyperparameters for simulation\n",
    "n = 4 # dimension of full order state\n",
    "l = 2 # dimension of input vector\n",
    "m = 1 # dimension of output vector\n",
    "\n",
    "n_timesteps = 500 # number of timesteps to simulate\n",
    "dt = 0.01 # timestep size\n",
    "\n",
    "\n"
   ]
  },
  {
   "cell_type": "code",
   "execution_count": 3,
   "metadata": {},
   "outputs": [],
   "source": [
    "# Make random linear system matrices with some sparsity where entries are drawn from normal distribution\n",
    "A = np.random.rand(n,n) - 1\n",
    "# A[np.abs(A<0.4)] = 0\n",
    "# A = A - np.diag(np.sum(A, axis=0))\n",
    "B = np.random.rand(n, l)\n",
    "# Make C a pass-through matrix\n",
    "# C=np.eye(m,n)\n",
    "\n",
    "C = np.random.rand(m, n)\n",
    "D = np.zeros((m, l))\n",
    "\n"
   ]
  },
  {
   "cell_type": "code",
   "execution_count": 4,
   "metadata": {},
   "outputs": [],
   "source": [
    "# Make discrete time linear system\n",
    "dMats = signal.cont2discrete((A, B, C, D), dt=dt)\n",
    "# sys = signal.dlti(dMats[0], dMats[1], dMats[2], dMats[3], dt=dt)\n",
    "A_d = dMats[0] # np.array([0.5]) \n",
    "B_d = dMats[1] # np.array([1]) \n",
    "C_d = dMats[2] # np.array([1]) \n",
    "D_d = dMats[3] # np.array([0]) "
   ]
  },
  {
   "cell_type": "code",
   "execution_count": 5,
   "metadata": {},
   "outputs": [],
   "source": [
    "# Downsample system assuming constant input\n",
    "N_ds = 50 # Downsample factor\n",
    "A_ds = np.linalg.matrix_power(A_d, N_ds)\n",
    "A_ds_ps = np.eye(n)\n",
    "for i in range(1,N_ds):\n",
    "    A_ds_ps += np.linalg.matrix_power(A_d, i)\n",
    "B_ds = np.matmul(A_ds_ps, B_d)\n",
    "C_ds = C_d\n",
    "D_ds = D_d\n",
    "\n",
    "    "
   ]
  },
  {
   "cell_type": "code",
   "execution_count": 6,
   "metadata": {},
   "outputs": [
    {
     "name": "stdout",
     "output_type": "stream",
     "text": [
      "A:  [[-0.46709366 -0.78455569 -0.44207212 -0.49198735]\n",
      " [-0.09802205 -0.89834765 -0.05531634 -0.06354823]\n",
      " [-0.65737142 -0.00278142 -0.31130154 -0.50411577]\n",
      " [-0.37562876 -0.85475932 -0.37406902 -0.5220311 ]]\n",
      "A_d:  [[ 9.95367394e-01 -7.77133657e-03 -4.39229102e-03 -4.88209831e-03]\n",
      " [-9.70571942e-04  9.91063255e-01 -5.46502608e-04 -6.27215015e-04]\n",
      " [-6.53882693e-03  1.93474288e-05  9.96915661e-01 -5.00415315e-03]\n",
      " [-3.72140595e-03 -8.47251803e-03 -3.71457308e-03  9.94814522e-01]]\n",
      "A_ds:  [[ 0.84252697 -0.25025182 -0.16496103 -0.17118895]\n",
      " [-0.03047985  0.64793268 -0.01504359 -0.01626512]\n",
      " [-0.25978766  0.08287635  0.90210528 -0.17799375]\n",
      " [-0.1189387  -0.28186404 -0.13560358  0.80793211]]\n",
      "A_ds_ps:  [[45.58330568 -7.14982658 -4.45157573 -4.74254936]\n",
      " [-0.87999304 40.64158525 -0.45843047 -0.50826984]\n",
      " [-6.86891884  1.45413961 47.17357267 -4.90742575]\n",
      " [-3.41808829 -7.95811312 -3.69800378 44.7889563 ]]\n"
     ]
    }
   ],
   "source": [
    "print(\"A: \", A)\n",
    "print(\"A_d: \", A_d)\n",
    "print(\"A_ds: \", A_ds)\n",
    "print(\"A_ds_ps: \", A_ds_ps)\n"
   ]
  },
  {
   "cell_type": "code",
   "execution_count": 7,
   "metadata": {},
   "outputs": [],
   "source": [
    "# Set initial condition and input\n",
    "x0 = np.zeros((n, 1))\n",
    "u_ds = np.random.rand(l, n_timesteps//N_ds) - 0.5\n",
    "# generate u by having N_ds timesteps of the same input from u_ds\n",
    "u = np.zeros((l, n_timesteps))\n",
    "for i in range(n_timesteps):\n",
    "    u[:,i] = u_ds[:,i//N_ds] \n",
    "# u = np.ones((l, n_timesteps))\n",
    "# u = np.cumsum(u, axis=1)\n",
    "#np.sin(np.linspace(0, 10, n_timesteps))"
   ]
  },
  {
   "cell_type": "code",
   "execution_count": 8,
   "metadata": {},
   "outputs": [
    {
     "name": "stdout",
     "output_type": "stream",
     "text": [
      "u_ds:  [[ 0.17627345 -0.118818    0.39362428 -0.32774393  0.08715845]\n",
      " [ 0.02663281 -0.14193653  0.00253342  0.11509102 -0.03131571]]\n",
      "u:  [[ 0.17627345  0.17627345  0.17627345  0.17627345  0.17627345  0.17627345\n",
      "   0.17627345  0.17627345  0.17627345  0.17627345  0.17627345  0.17627345\n",
      "   0.17627345  0.17627345  0.17627345  0.17627345  0.17627345  0.17627345\n",
      "   0.17627345  0.17627345  0.17627345  0.17627345  0.17627345  0.17627345\n",
      "   0.17627345  0.17627345  0.17627345  0.17627345  0.17627345  0.17627345\n",
      "   0.17627345  0.17627345  0.17627345  0.17627345  0.17627345  0.17627345\n",
      "   0.17627345  0.17627345  0.17627345  0.17627345  0.17627345  0.17627345\n",
      "   0.17627345  0.17627345  0.17627345  0.17627345  0.17627345  0.17627345\n",
      "   0.17627345  0.17627345 -0.118818   -0.118818   -0.118818   -0.118818\n",
      "  -0.118818   -0.118818   -0.118818   -0.118818   -0.118818   -0.118818\n",
      "  -0.118818   -0.118818   -0.118818   -0.118818   -0.118818   -0.118818\n",
      "  -0.118818   -0.118818   -0.118818   -0.118818   -0.118818   -0.118818\n",
      "  -0.118818   -0.118818   -0.118818   -0.118818   -0.118818   -0.118818\n",
      "  -0.118818   -0.118818   -0.118818   -0.118818   -0.118818   -0.118818\n",
      "  -0.118818   -0.118818   -0.118818   -0.118818   -0.118818   -0.118818\n",
      "  -0.118818   -0.118818   -0.118818   -0.118818   -0.118818   -0.118818\n",
      "  -0.118818   -0.118818   -0.118818   -0.118818    0.39362428  0.39362428\n",
      "   0.39362428  0.39362428  0.39362428  0.39362428  0.39362428  0.39362428\n",
      "   0.39362428  0.39362428  0.39362428  0.39362428  0.39362428  0.39362428\n",
      "   0.39362428  0.39362428  0.39362428  0.39362428  0.39362428  0.39362428\n",
      "   0.39362428  0.39362428  0.39362428  0.39362428  0.39362428  0.39362428\n",
      "   0.39362428  0.39362428  0.39362428  0.39362428  0.39362428  0.39362428\n",
      "   0.39362428  0.39362428  0.39362428  0.39362428  0.39362428  0.39362428\n",
      "   0.39362428  0.39362428  0.39362428  0.39362428  0.39362428  0.39362428\n",
      "   0.39362428  0.39362428  0.39362428  0.39362428  0.39362428  0.39362428\n",
      "  -0.32774393 -0.32774393 -0.32774393 -0.32774393 -0.32774393 -0.32774393\n",
      "  -0.32774393 -0.32774393 -0.32774393 -0.32774393 -0.32774393 -0.32774393\n",
      "  -0.32774393 -0.32774393 -0.32774393 -0.32774393 -0.32774393 -0.32774393\n",
      "  -0.32774393 -0.32774393 -0.32774393 -0.32774393 -0.32774393 -0.32774393\n",
      "  -0.32774393 -0.32774393 -0.32774393 -0.32774393 -0.32774393 -0.32774393\n",
      "  -0.32774393 -0.32774393 -0.32774393 -0.32774393 -0.32774393 -0.32774393\n",
      "  -0.32774393 -0.32774393 -0.32774393 -0.32774393 -0.32774393 -0.32774393\n",
      "  -0.32774393 -0.32774393 -0.32774393 -0.32774393 -0.32774393 -0.32774393\n",
      "  -0.32774393 -0.32774393  0.08715845  0.08715845  0.08715845  0.08715845\n",
      "   0.08715845  0.08715845  0.08715845  0.08715845  0.08715845  0.08715845\n",
      "   0.08715845  0.08715845  0.08715845  0.08715845  0.08715845  0.08715845\n",
      "   0.08715845  0.08715845  0.08715845  0.08715845  0.08715845  0.08715845\n",
      "   0.08715845  0.08715845  0.08715845  0.08715845  0.08715845  0.08715845\n",
      "   0.08715845  0.08715845  0.08715845  0.08715845  0.08715845  0.08715845\n",
      "   0.08715845  0.08715845  0.08715845  0.08715845  0.08715845  0.08715845\n",
      "   0.08715845  0.08715845  0.08715845  0.08715845  0.08715845  0.08715845\n",
      "   0.08715845  0.08715845  0.08715845  0.08715845  0.11972151  0.11972151\n",
      "   0.11972151  0.11972151  0.11972151  0.11972151  0.11972151  0.11972151\n",
      "   0.11972151  0.11972151  0.11972151  0.11972151  0.11972151  0.11972151\n",
      "   0.11972151  0.11972151  0.11972151  0.11972151  0.11972151  0.11972151\n",
      "   0.11972151  0.11972151  0.11972151  0.11972151  0.11972151  0.11972151\n",
      "   0.11972151  0.11972151  0.11972151  0.11972151  0.11972151  0.11972151\n",
      "   0.11972151  0.11972151  0.11972151  0.11972151  0.11972151  0.11972151\n",
      "   0.11972151  0.11972151  0.11972151  0.11972151  0.11972151  0.11972151\n",
      "   0.11972151  0.11972151  0.11972151  0.11972151  0.11972151  0.11972151]\n",
      " [ 0.02663281  0.02663281  0.02663281  0.02663281  0.02663281  0.02663281\n",
      "   0.02663281  0.02663281  0.02663281  0.02663281  0.02663281  0.02663281\n",
      "   0.02663281  0.02663281  0.02663281  0.02663281  0.02663281  0.02663281\n",
      "   0.02663281  0.02663281  0.02663281  0.02663281  0.02663281  0.02663281\n",
      "   0.02663281  0.02663281  0.02663281  0.02663281  0.02663281  0.02663281\n",
      "   0.02663281  0.02663281  0.02663281  0.02663281  0.02663281  0.02663281\n",
      "   0.02663281  0.02663281  0.02663281  0.02663281  0.02663281  0.02663281\n",
      "   0.02663281  0.02663281  0.02663281  0.02663281  0.02663281  0.02663281\n",
      "   0.02663281  0.02663281 -0.14193653 -0.14193653 -0.14193653 -0.14193653\n",
      "  -0.14193653 -0.14193653 -0.14193653 -0.14193653 -0.14193653 -0.14193653\n",
      "  -0.14193653 -0.14193653 -0.14193653 -0.14193653 -0.14193653 -0.14193653\n",
      "  -0.14193653 -0.14193653 -0.14193653 -0.14193653 -0.14193653 -0.14193653\n",
      "  -0.14193653 -0.14193653 -0.14193653 -0.14193653 -0.14193653 -0.14193653\n",
      "  -0.14193653 -0.14193653 -0.14193653 -0.14193653 -0.14193653 -0.14193653\n",
      "  -0.14193653 -0.14193653 -0.14193653 -0.14193653 -0.14193653 -0.14193653\n",
      "  -0.14193653 -0.14193653 -0.14193653 -0.14193653 -0.14193653 -0.14193653\n",
      "  -0.14193653 -0.14193653 -0.14193653 -0.14193653  0.00253342  0.00253342\n",
      "   0.00253342  0.00253342  0.00253342  0.00253342  0.00253342  0.00253342\n",
      "   0.00253342  0.00253342  0.00253342  0.00253342  0.00253342  0.00253342\n",
      "   0.00253342  0.00253342  0.00253342  0.00253342  0.00253342  0.00253342\n",
      "   0.00253342  0.00253342  0.00253342  0.00253342  0.00253342  0.00253342\n",
      "   0.00253342  0.00253342  0.00253342  0.00253342  0.00253342  0.00253342\n",
      "   0.00253342  0.00253342  0.00253342  0.00253342  0.00253342  0.00253342\n",
      "   0.00253342  0.00253342  0.00253342  0.00253342  0.00253342  0.00253342\n",
      "   0.00253342  0.00253342  0.00253342  0.00253342  0.00253342  0.00253342\n",
      "   0.11509102  0.11509102  0.11509102  0.11509102  0.11509102  0.11509102\n",
      "   0.11509102  0.11509102  0.11509102  0.11509102  0.11509102  0.11509102\n",
      "   0.11509102  0.11509102  0.11509102  0.11509102  0.11509102  0.11509102\n",
      "   0.11509102  0.11509102  0.11509102  0.11509102  0.11509102  0.11509102\n",
      "   0.11509102  0.11509102  0.11509102  0.11509102  0.11509102  0.11509102\n",
      "   0.11509102  0.11509102  0.11509102  0.11509102  0.11509102  0.11509102\n",
      "   0.11509102  0.11509102  0.11509102  0.11509102  0.11509102  0.11509102\n",
      "   0.11509102  0.11509102  0.11509102  0.11509102  0.11509102  0.11509102\n",
      "   0.11509102  0.11509102 -0.03131571 -0.03131571 -0.03131571 -0.03131571\n",
      "  -0.03131571 -0.03131571 -0.03131571 -0.03131571 -0.03131571 -0.03131571\n",
      "  -0.03131571 -0.03131571 -0.03131571 -0.03131571 -0.03131571 -0.03131571\n",
      "  -0.03131571 -0.03131571 -0.03131571 -0.03131571 -0.03131571 -0.03131571\n",
      "  -0.03131571 -0.03131571 -0.03131571 -0.03131571 -0.03131571 -0.03131571\n",
      "  -0.03131571 -0.03131571 -0.03131571 -0.03131571 -0.03131571 -0.03131571\n",
      "  -0.03131571 -0.03131571 -0.03131571 -0.03131571 -0.03131571 -0.03131571\n",
      "  -0.03131571 -0.03131571 -0.03131571 -0.03131571 -0.03131571 -0.03131571\n",
      "  -0.03131571 -0.03131571 -0.03131571 -0.03131571 -0.40931737 -0.40931737\n",
      "  -0.40931737 -0.40931737 -0.40931737 -0.40931737 -0.40931737 -0.40931737\n",
      "  -0.40931737 -0.40931737 -0.40931737 -0.40931737 -0.40931737 -0.40931737\n",
      "  -0.40931737 -0.40931737 -0.40931737 -0.40931737 -0.40931737 -0.40931737\n",
      "  -0.40931737 -0.40931737 -0.40931737 -0.40931737 -0.40931737 -0.40931737\n",
      "  -0.40931737 -0.40931737 -0.40931737 -0.40931737 -0.40931737 -0.40931737\n",
      "  -0.40931737 -0.40931737 -0.40931737 -0.40931737 -0.40931737 -0.40931737\n",
      "  -0.40931737 -0.40931737 -0.40931737 -0.40931737 -0.40931737 -0.40931737\n",
      "  -0.40931737 -0.40931737 -0.40931737 -0.40931737 -0.40931737 -0.40931737]]\n"
     ]
    }
   ],
   "source": [
    "print(\"u_ds: \", u_ds[:,:5])\n",
    "print(\"u: \", u[:,:6*N_ds])"
   ]
  },
  {
   "cell_type": "code",
   "execution_count": 9,
   "metadata": {},
   "outputs": [],
   "source": [
    "# Simulate discrete time linear system\n",
    "# Initialize array to hold state data and output data\n",
    "# Original state and output\n",
    "X = np.zeros((n, n_timesteps))\n",
    "X[:, [0]] = x0\n",
    "Y = np.zeros((m, n_timesteps))\n",
    "Y[:, [0]] = np.dot(C_d, x0)\n",
    "# Downsampled state and output\n",
    "X_ds = np.zeros((n, n_timesteps//N_ds))\n",
    "X_ds[:, [0]] = x0\n",
    "Y_ds = np.zeros((m, n_timesteps//N_ds))\n",
    "Y_ds[:, [0]] = np.dot(C_d, x0)"
   ]
  },
  {
   "cell_type": "code",
   "execution_count": 10,
   "metadata": {},
   "outputs": [],
   "source": [
    "# Simulate original system \n",
    "for i in range(n_timesteps-1):\n",
    "    X[:, [i+1]] = np.dot(A_d, X[:, [i]]) + np.dot(B_d, u[:, [i]])\n",
    "    Y[:, [i+1]] = np.dot(C_d, X[:, [i]]) + np.dot(D_d, u[:, [i]])\n",
    "# Simulate downsampled system\n",
    "n_timesteps_ds = int(n_timesteps//N_ds)\n",
    "for i in range(n_timesteps_ds-1):\n",
    "    X_ds[:, [i+1]] = np.dot(A_ds, X_ds[:, [i]]) + np.dot(B_ds, u_ds[:, [i]])\n",
    "    Y_ds[:, [i+1]] = np.dot(C_ds, X_ds[:, [i]]) + np.dot(D_ds, u_ds[:, [i]])"
   ]
  },
  {
   "cell_type": "code",
   "execution_count": 11,
   "metadata": {},
   "outputs": [
    {
     "data": {
      "image/png": "[encoded data removed]",
      "text/latex": [
       "$\\displaystyle 10$"
      ],
      "text/plain": [
       "10"
      ]
     },
     "execution_count": 11,
     "metadata": {},
     "output_type": "execute_result"
    }
   ],
   "source": [
    "n_timesteps_ds"
   ]
  },
  {
   "cell_type": "code",
   "execution_count": 12,
   "metadata": {},
   "outputs": [
    {
     "data": {
      "image/png": "[encoded data removed]",
      "text/latex": [
       "$\\displaystyle 50$"
      ],
      "text/plain": [
       "50"
      ]
     },
     "execution_count": 12,
     "metadata": {},
     "output_type": "execute_result"
    }
   ],
   "source": [
    "N_ds"
   ]
  },
  {
   "cell_type": "code",
   "execution_count": 13,
   "metadata": {},
   "outputs": [
    {
     "name": "stderr",
     "output_type": "stream",
     "text": [
      "No artists with labels found to put in legend.  Note that artists whose label start with an underscore are ignored when legend() is called with no argument.\n"
     ]
    },
    {
     "data": {
      "image/png": "[encoded data removed]",
      "text/plain": [
       "<Figure size 640x480 with 2 Axes>"
      ]
     },
     "metadata": {},
     "output_type": "display_data"
    }
   ],
   "source": [
    "# Plot original and downsampled output over time on same supblot\n",
    "time = np.linspace(0, n_timesteps*dt, n_timesteps)\n",
    "time_ds = time[:n_timesteps:N_ds]\n",
    "# time_ds = np.linspace(0, n_timesteps_ds*dt*N_ds, n_timesteps_ds)\n",
    "# Plot outputs on a subplot\n",
    "fig, ax = plt.subplots(2,1)\n",
    "ax[0].plot(time, X[0,:], label='Original')\n",
    "ax[0].plot(time_ds, X_ds[0,:], label='Downsampled')\n",
    "ax[0].set_xlabel('Time')\n",
    "ax[0].set_ylabel('Output')\n",
    "ax[0].legend()\n",
    "# Plot inputs on a subplot\n",
    "ax[1].plot(time, u[0,:])\n",
    "ax[1].plot(time_ds, u_ds[0,:])\n",
    "ax[1].set_xlabel('Time')\n",
    "ax[1].set_ylabel('Input')\n",
    "ax[1].legend()\n",
    "\n",
    "\n",
    "plt.show()\n"
   ]
  },
  {
   "cell_type": "code",
   "execution_count": null,
   "metadata": {},
   "outputs": [],
   "source": []
  }
 ],
 "metadata": {
  "kernelspec": {
   "display_name": "Python 3",
   "language": "python",
   "name": "python3"
  },
  "language_info": {
   "codemirror_mode": {
    "name": "ipython",
    "version": 3
   },
   "file_extension": ".py",
   "mimetype": "text/x-python",
   "name": "python",
   "nbconvert_exporter": "python",
   "pygments_lexer": "ipython3",
   "version": "3.8.10"
  }
 },
 "nbformat": 4,
 "nbformat_minor": 2
}
