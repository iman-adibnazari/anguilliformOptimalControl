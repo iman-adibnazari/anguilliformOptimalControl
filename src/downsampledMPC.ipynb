{
 "cells": [
  {
   "cell_type": "markdown",
   "metadata": {},
   "source": [
    "The goal of this notebook is to test out how downsampling system matrices affects MPC performance"
   ]
  },
  {
   "cell_type": "code",
   "execution_count": 536,
   "metadata": {},
   "outputs": [],
   "source": [
    "# Imports\n",
    "#!/usr/bin/env python\n",
    "# -*- coding: utf-8 -*-\n",
    "import numpy as np\n",
    "from sklearn.decomposition import TruncatedSVD\n",
    "from scipy.sparse import csr_matrix\n",
    "from sklearn.utils.extmath import randomized_svd\n",
    "\n",
    " \n",
    "import os\n",
    "import matplotlib.pyplot as plt\n",
    "import matplotlib as mpl\n",
    "from matplotlib.animation import FuncAnimation\n",
    "from dotenv import dotenv_values \n",
    "from moviepy.editor import VideoClip\n",
    "from moviepy.video.io.bindings import mplfig_to_npimage\n",
    "import scipy.io\n",
    "from scipy.signal import cont2discrete\n",
    "import pyvista as pv\n",
    "import h5py\n",
    "import mat73\n",
    "import dask.array as da\n",
    "from dask.distributed import Client, LocalCluster\n",
    "import opinf\n",
    "config = dotenv_values(\".env\")\n",
    "from util import *\n",
    "from scipy import signal\n",
    "\n",
    "from sympy import Matrix, init_printing\n",
    "init_printing()"
   ]
  },
  {
   "cell_type": "code",
   "execution_count": 537,
   "metadata": {},
   "outputs": [],
   "source": [
    "# Hyperparameters for simulation\n",
    "n = 4 # dimension of full order state\n",
    "l = 2 # dimension of input vector\n",
    "m = 1 # dimension of output vector\n",
    "\n",
    "n_timesteps = 500 # number of timesteps to simulate\n",
    "dt = 0.01 # timestep size\n",
    "\n",
    "\n"
   ]
  },
  {
   "cell_type": "code",
   "execution_count": 538,
   "metadata": {},
   "outputs": [],
   "source": [
    "# Make random linear system matrices with some sparsity where entries are drawn from normal distribution\n",
    "A = np.random.rand(n,n) - 1\n",
    "# A[np.abs(A<0.4)] = 0\n",
    "# A = A - np.diag(np.sum(A, axis=0))\n",
    "B = np.random.rand(n, l)\n",
    "# Make C a pass-through matrix\n",
    "# C=np.eye(m,n)\n",
    "\n",
    "C = np.random.rand(m, n)\n",
    "D = np.zeros((m, l))\n",
    "\n"
   ]
  },
  {
   "cell_type": "code",
   "execution_count": 539,
   "metadata": {},
   "outputs": [],
   "source": [
    "# Make discrete time linear system\n",
    "dMats = signal.cont2discrete((A, B, C, D), dt=dt)\n",
    "# sys = signal.dlti(dMats[0], dMats[1], dMats[2], dMats[3], dt=dt)\n",
    "A_d = dMats[0] # np.array([0.5]) \n",
    "B_d = dMats[1] # np.array([1]) \n",
    "C_d = dMats[2] # np.array([1]) \n",
    "D_d = dMats[3] # np.array([0]) "
   ]
  },
  {
   "cell_type": "code",
   "execution_count": 540,
   "metadata": {},
   "outputs": [],
   "source": [
    "# Downsample system assuming constant input\n",
    "N_ds = 50 # Downsample factor\n",
    "A_ds = np.linalg.matrix_power(A_d, N_ds)\n",
    "A_ds_ps = np.eye(n)\n",
    "for i in range(1,N_ds):\n",
    "    A_ds_ps += np.linalg.matrix_power(A_d, i)\n",
    "B_ds = np.matmul(A_ds_ps, B_d)\n",
    "C_ds = C_d\n",
    "D_ds = D_d\n",
    "\n",
    "    "
   ]
  },
  {
   "cell_type": "code",
   "execution_count": 541,
   "metadata": {},
   "outputs": [
    {
     "name": "stdout",
     "output_type": "stream",
     "text": [
      "A:  [[-0.32016554 -0.29089413 -0.13066285 -0.81820953]\n",
      " [-0.07108384 -0.58868873 -0.55159274 -0.0505188 ]\n",
      " [-0.92744792 -0.03473502 -0.08452438 -0.53484765]\n",
      " [-0.34908211 -0.35742324 -0.63603018 -0.24089917]]\n",
      "A_d:  [[ 9.96824665e-01 -2.88098991e-03 -1.27007220e-03 -8.15507642e-03]\n",
      " [-6.81270572e-04  9.94133241e-01 -5.49538689e-03 -4.85570090e-04]\n",
      " [-9.24641896e-03 -3.23266098e-04  9.99178977e-01 -5.30190516e-03]\n",
      " [-3.45042162e-03 -3.55334929e-03 -6.33795113e-03  9.97625921e-01]]\n",
      "A_ds:  [[ 0.88698006 -0.08745544  0.0127394  -0.35809915]\n",
      " [ 0.02576374  0.74636499 -0.23420211  0.00957653]\n",
      " [-0.41018439  0.02906733  1.00120839 -0.16722327]\n",
      " [-0.08959344 -0.13924085 -0.27596961  0.94789945]]\n",
      "A_ds_ps:  [[ 4.69113981e+01 -2.58064554e+00 -2.87554864e-01 -9.13584266e+00]\n",
      " [ 1.68746447e-01  4.34834139e+01 -6.04783540e+00 -7.86181092e-04]\n",
      " [-1.04329683e+01  3.78315278e-01  4.97338839e+01 -4.87056487e+00]\n",
      " [-2.84178985e+00 -3.69167686e+00 -7.05918387e+00  4.82272304e+01]]\n"
     ]
    }
   ],
   "source": [
    "print(\"A: \", A)\n",
    "print(\"A_d: \", A_d)\n",
    "print(\"A_ds: \", A_ds)\n",
    "print(\"A_ds_ps: \", A_ds_ps)\n"
   ]
  },
  {
   "cell_type": "code",
   "execution_count": 542,
   "metadata": {},
   "outputs": [],
   "source": [
    "# Set initial condition and input\n",
    "x0 = np.zeros((n, 1))\n",
    "u_ds = np.random.rand(l, n_timesteps//N_ds) - 0.5\n",
    "# generate u by having N_ds timesteps of the same input from u_ds\n",
    "u = np.zeros((l, n_timesteps))\n",
    "for i in range(n_timesteps):\n",
    "    u[:,i] = u_ds[:,i//N_ds] \n",
    "# u = np.ones((l, n_timesteps))\n",
    "# u = np.cumsum(u, axis=1)\n",
    "#np.sin(np.linspace(0, 10, n_timesteps))"
   ]
  },
  {
   "cell_type": "code",
   "execution_count": 543,
   "metadata": {},
   "outputs": [
    {
     "name": "stdout",
     "output_type": "stream",
     "text": [
      "u_ds:  [[ 0.22041779 -0.44966192 -0.16876962 -0.19676796 -0.30647228]\n",
      " [ 0.28696768  0.46706096  0.38566627  0.04734504 -0.38736065]]\n",
      "u:  [[ 0.22041779  0.22041779  0.22041779  0.22041779  0.22041779  0.22041779\n",
      "   0.22041779  0.22041779  0.22041779  0.22041779  0.22041779  0.22041779\n",
      "   0.22041779  0.22041779  0.22041779  0.22041779  0.22041779  0.22041779\n",
      "   0.22041779  0.22041779  0.22041779  0.22041779  0.22041779  0.22041779\n",
      "   0.22041779  0.22041779  0.22041779  0.22041779  0.22041779  0.22041779\n",
      "   0.22041779  0.22041779  0.22041779  0.22041779  0.22041779  0.22041779\n",
      "   0.22041779  0.22041779  0.22041779  0.22041779  0.22041779  0.22041779\n",
      "   0.22041779  0.22041779  0.22041779  0.22041779  0.22041779  0.22041779\n",
      "   0.22041779  0.22041779 -0.44966192 -0.44966192 -0.44966192 -0.44966192\n",
      "  -0.44966192 -0.44966192 -0.44966192 -0.44966192 -0.44966192 -0.44966192\n",
      "  -0.44966192 -0.44966192 -0.44966192 -0.44966192 -0.44966192 -0.44966192\n",
      "  -0.44966192 -0.44966192 -0.44966192 -0.44966192 -0.44966192 -0.44966192\n",
      "  -0.44966192 -0.44966192 -0.44966192 -0.44966192 -0.44966192 -0.44966192\n",
      "  -0.44966192 -0.44966192 -0.44966192 -0.44966192 -0.44966192 -0.44966192\n",
      "  -0.44966192 -0.44966192 -0.44966192 -0.44966192 -0.44966192 -0.44966192\n",
      "  -0.44966192 -0.44966192 -0.44966192 -0.44966192 -0.44966192 -0.44966192\n",
      "  -0.44966192 -0.44966192 -0.44966192 -0.44966192 -0.16876962 -0.16876962\n",
      "  -0.16876962 -0.16876962 -0.16876962 -0.16876962 -0.16876962 -0.16876962\n",
      "  -0.16876962 -0.16876962 -0.16876962 -0.16876962 -0.16876962 -0.16876962\n",
      "  -0.16876962 -0.16876962 -0.16876962 -0.16876962 -0.16876962 -0.16876962\n",
      "  -0.16876962 -0.16876962 -0.16876962 -0.16876962 -0.16876962 -0.16876962\n",
      "  -0.16876962 -0.16876962 -0.16876962 -0.16876962 -0.16876962 -0.16876962\n",
      "  -0.16876962 -0.16876962 -0.16876962 -0.16876962 -0.16876962 -0.16876962\n",
      "  -0.16876962 -0.16876962 -0.16876962 -0.16876962 -0.16876962 -0.16876962\n",
      "  -0.16876962 -0.16876962 -0.16876962 -0.16876962 -0.16876962 -0.16876962\n",
      "  -0.19676796 -0.19676796 -0.19676796 -0.19676796 -0.19676796 -0.19676796\n",
      "  -0.19676796 -0.19676796 -0.19676796 -0.19676796 -0.19676796 -0.19676796\n",
      "  -0.19676796 -0.19676796 -0.19676796 -0.19676796 -0.19676796 -0.19676796\n",
      "  -0.19676796 -0.19676796 -0.19676796 -0.19676796 -0.19676796 -0.19676796\n",
      "  -0.19676796 -0.19676796 -0.19676796 -0.19676796 -0.19676796 -0.19676796\n",
      "  -0.19676796 -0.19676796 -0.19676796 -0.19676796 -0.19676796 -0.19676796\n",
      "  -0.19676796 -0.19676796 -0.19676796 -0.19676796 -0.19676796 -0.19676796\n",
      "  -0.19676796 -0.19676796 -0.19676796 -0.19676796 -0.19676796 -0.19676796\n",
      "  -0.19676796 -0.19676796 -0.30647228 -0.30647228 -0.30647228 -0.30647228\n",
      "  -0.30647228 -0.30647228 -0.30647228 -0.30647228 -0.30647228 -0.30647228\n",
      "  -0.30647228 -0.30647228 -0.30647228 -0.30647228 -0.30647228 -0.30647228\n",
      "  -0.30647228 -0.30647228 -0.30647228 -0.30647228 -0.30647228 -0.30647228\n",
      "  -0.30647228 -0.30647228 -0.30647228 -0.30647228 -0.30647228 -0.30647228\n",
      "  -0.30647228 -0.30647228 -0.30647228 -0.30647228 -0.30647228 -0.30647228\n",
      "  -0.30647228 -0.30647228 -0.30647228 -0.30647228 -0.30647228 -0.30647228\n",
      "  -0.30647228 -0.30647228 -0.30647228 -0.30647228 -0.30647228 -0.30647228\n",
      "  -0.30647228 -0.30647228 -0.30647228 -0.30647228 -0.43083027 -0.43083027\n",
      "  -0.43083027 -0.43083027 -0.43083027 -0.43083027 -0.43083027 -0.43083027\n",
      "  -0.43083027 -0.43083027 -0.43083027 -0.43083027 -0.43083027 -0.43083027\n",
      "  -0.43083027 -0.43083027 -0.43083027 -0.43083027 -0.43083027 -0.43083027\n",
      "  -0.43083027 -0.43083027 -0.43083027 -0.43083027 -0.43083027 -0.43083027\n",
      "  -0.43083027 -0.43083027 -0.43083027 -0.43083027 -0.43083027 -0.43083027\n",
      "  -0.43083027 -0.43083027 -0.43083027 -0.43083027 -0.43083027 -0.43083027\n",
      "  -0.43083027 -0.43083027 -0.43083027 -0.43083027 -0.43083027 -0.43083027\n",
      "  -0.43083027 -0.43083027 -0.43083027 -0.43083027 -0.43083027 -0.43083027]\n",
      " [ 0.28696768  0.28696768  0.28696768  0.28696768  0.28696768  0.28696768\n",
      "   0.28696768  0.28696768  0.28696768  0.28696768  0.28696768  0.28696768\n",
      "   0.28696768  0.28696768  0.28696768  0.28696768  0.28696768  0.28696768\n",
      "   0.28696768  0.28696768  0.28696768  0.28696768  0.28696768  0.28696768\n",
      "   0.28696768  0.28696768  0.28696768  0.28696768  0.28696768  0.28696768\n",
      "   0.28696768  0.28696768  0.28696768  0.28696768  0.28696768  0.28696768\n",
      "   0.28696768  0.28696768  0.28696768  0.28696768  0.28696768  0.28696768\n",
      "   0.28696768  0.28696768  0.28696768  0.28696768  0.28696768  0.28696768\n",
      "   0.28696768  0.28696768  0.46706096  0.46706096  0.46706096  0.46706096\n",
      "   0.46706096  0.46706096  0.46706096  0.46706096  0.46706096  0.46706096\n",
      "   0.46706096  0.46706096  0.46706096  0.46706096  0.46706096  0.46706096\n",
      "   0.46706096  0.46706096  0.46706096  0.46706096  0.46706096  0.46706096\n",
      "   0.46706096  0.46706096  0.46706096  0.46706096  0.46706096  0.46706096\n",
      "   0.46706096  0.46706096  0.46706096  0.46706096  0.46706096  0.46706096\n",
      "   0.46706096  0.46706096  0.46706096  0.46706096  0.46706096  0.46706096\n",
      "   0.46706096  0.46706096  0.46706096  0.46706096  0.46706096  0.46706096\n",
      "   0.46706096  0.46706096  0.46706096  0.46706096  0.38566627  0.38566627\n",
      "   0.38566627  0.38566627  0.38566627  0.38566627  0.38566627  0.38566627\n",
      "   0.38566627  0.38566627  0.38566627  0.38566627  0.38566627  0.38566627\n",
      "   0.38566627  0.38566627  0.38566627  0.38566627  0.38566627  0.38566627\n",
      "   0.38566627  0.38566627  0.38566627  0.38566627  0.38566627  0.38566627\n",
      "   0.38566627  0.38566627  0.38566627  0.38566627  0.38566627  0.38566627\n",
      "   0.38566627  0.38566627  0.38566627  0.38566627  0.38566627  0.38566627\n",
      "   0.38566627  0.38566627  0.38566627  0.38566627  0.38566627  0.38566627\n",
      "   0.38566627  0.38566627  0.38566627  0.38566627  0.38566627  0.38566627\n",
      "   0.04734504  0.04734504  0.04734504  0.04734504  0.04734504  0.04734504\n",
      "   0.04734504  0.04734504  0.04734504  0.04734504  0.04734504  0.04734504\n",
      "   0.04734504  0.04734504  0.04734504  0.04734504  0.04734504  0.04734504\n",
      "   0.04734504  0.04734504  0.04734504  0.04734504  0.04734504  0.04734504\n",
      "   0.04734504  0.04734504  0.04734504  0.04734504  0.04734504  0.04734504\n",
      "   0.04734504  0.04734504  0.04734504  0.04734504  0.04734504  0.04734504\n",
      "   0.04734504  0.04734504  0.04734504  0.04734504  0.04734504  0.04734504\n",
      "   0.04734504  0.04734504  0.04734504  0.04734504  0.04734504  0.04734504\n",
      "   0.04734504  0.04734504 -0.38736065 -0.38736065 -0.38736065 -0.38736065\n",
      "  -0.38736065 -0.38736065 -0.38736065 -0.38736065 -0.38736065 -0.38736065\n",
      "  -0.38736065 -0.38736065 -0.38736065 -0.38736065 -0.38736065 -0.38736065\n",
      "  -0.38736065 -0.38736065 -0.38736065 -0.38736065 -0.38736065 -0.38736065\n",
      "  -0.38736065 -0.38736065 -0.38736065 -0.38736065 -0.38736065 -0.38736065\n",
      "  -0.38736065 -0.38736065 -0.38736065 -0.38736065 -0.38736065 -0.38736065\n",
      "  -0.38736065 -0.38736065 -0.38736065 -0.38736065 -0.38736065 -0.38736065\n",
      "  -0.38736065 -0.38736065 -0.38736065 -0.38736065 -0.38736065 -0.38736065\n",
      "  -0.38736065 -0.38736065 -0.38736065 -0.38736065 -0.37679103 -0.37679103\n",
      "  -0.37679103 -0.37679103 -0.37679103 -0.37679103 -0.37679103 -0.37679103\n",
      "  -0.37679103 -0.37679103 -0.37679103 -0.37679103 -0.37679103 -0.37679103\n",
      "  -0.37679103 -0.37679103 -0.37679103 -0.37679103 -0.37679103 -0.37679103\n",
      "  -0.37679103 -0.37679103 -0.37679103 -0.37679103 -0.37679103 -0.37679103\n",
      "  -0.37679103 -0.37679103 -0.37679103 -0.37679103 -0.37679103 -0.37679103\n",
      "  -0.37679103 -0.37679103 -0.37679103 -0.37679103 -0.37679103 -0.37679103\n",
      "  -0.37679103 -0.37679103 -0.37679103 -0.37679103 -0.37679103 -0.37679103\n",
      "  -0.37679103 -0.37679103 -0.37679103 -0.37679103 -0.37679103 -0.37679103]]\n"
     ]
    }
   ],
   "source": [
    "print(\"u_ds: \", u_ds[:,:5])\n",
    "print(\"u: \", u[:,:6*N_ds])"
   ]
  },
  {
   "cell_type": "code",
   "execution_count": 544,
   "metadata": {},
   "outputs": [],
   "source": [
    "# Simulate discrete time linear system\n",
    "# Initialize array to hold state data and output data\n",
    "# Original state and output\n",
    "X = np.zeros((n, n_timesteps))\n",
    "X[:, [0]] = x0\n",
    "Y = np.zeros((m, n_timesteps))\n",
    "Y[:, [0]] = np.dot(C_d, x0)\n",
    "# Downsampled state and output\n",
    "X_ds = np.zeros((n, n_timesteps//N_ds))\n",
    "X_ds[:, [0]] = x0\n",
    "Y_ds = np.zeros((m, n_timesteps//N_ds))\n",
    "Y_ds[:, [0]] = np.dot(C_d, x0)"
   ]
  },
  {
   "cell_type": "code",
   "execution_count": 545,
   "metadata": {},
   "outputs": [],
   "source": [
    "# Simulate original system \n",
    "for i in range(n_timesteps-1):\n",
    "    X[:, [i+1]] = np.dot(A_d, X[:, [i]]) + np.dot(B_d, u[:, [i]])\n",
    "    Y[:, [i+1]] = np.dot(C_d, X[:, [i]]) + np.dot(D_d, u[:, [i]])\n",
    "# Simulate downsampled system\n",
    "n_timesteps_ds = int(n_timesteps//N_ds)\n",
    "for i in range(n_timesteps_ds-1):\n",
    "    X_ds[:, [i+1]] = np.dot(A_ds, X_ds[:, [i]]) + np.dot(B_ds, u_ds[:, [i]])\n",
    "    Y_ds[:, [i+1]] = np.dot(C_ds, X_ds[:, [i]]) + np.dot(D_ds, u_ds[:, [i]])"
   ]
  },
  {
   "cell_type": "code",
   "execution_count": 546,
   "metadata": {},
   "outputs": [
    {
     "data": {
      "image/png": "[encoded data removed]",
      "text/latex": [
       "$\\displaystyle 10$"
      ],
      "text/plain": [
       "10"
      ]
     },
     "execution_count": 546,
     "metadata": {},
     "output_type": "execute_result"
    }
   ],
   "source": [
    "n_timesteps_ds"
   ]
  },
  {
   "cell_type": "code",
   "execution_count": 547,
   "metadata": {},
   "outputs": [
    {
     "data": {
      "image/png": "[encoded data removed]",
      "text/latex": [
       "$\\displaystyle 50$"
      ],
      "text/plain": [
       "50"
      ]
     },
     "execution_count": 547,
     "metadata": {},
     "output_type": "execute_result"
    }
   ],
   "source": [
    "N_ds"
   ]
  },
  {
   "cell_type": "code",
   "execution_count": 548,
   "metadata": {},
   "outputs": [
    {
     "name": "stderr",
     "output_type": "stream",
     "text": [
      "No artists with labels found to put in legend.  Note that artists whose label start with an underscore are ignored when legend() is called with no argument.\n"
     ]
    },
    {
     "data": {
      "image/png": "[encoded data removed]",
      "text/plain": [
       "<Figure size 640x480 with 2 Axes>"
      ]
     },
     "metadata": {},
     "output_type": "display_data"
    }
   ],
   "source": [
    "# Plot original and downsampled output over time on same supblot\n",
    "time = np.linspace(0, n_timesteps*dt, n_timesteps)\n",
    "time_ds = time[:n_timesteps:N_ds]\n",
    "# time_ds = np.linspace(0, n_timesteps_ds*dt*N_ds, n_timesteps_ds)\n",
    "# Plot outputs on a subplot\n",
    "fig, ax = plt.subplots(2,1)\n",
    "ax[0].plot(time, X[0,:], label='Original')\n",
    "ax[0].plot(time_ds, X_ds[0,:], label='Downsampled')\n",
    "ax[0].set_xlabel('Time')\n",
    "ax[0].set_ylabel('Output')\n",
    "ax[0].legend()\n",
    "# Plot inputs on a subplot\n",
    "ax[1].plot(time, u[0,:])\n",
    "ax[1].plot(time_ds, u_ds[0,:])\n",
    "ax[1].set_xlabel('Time')\n",
    "ax[1].set_ylabel('Input')\n",
    "ax[1].legend()\n",
    "\n",
    "\n",
    "plt.show()\n"
   ]
  },
  {
   "cell_type": "code",
   "execution_count": null,
   "metadata": {},
   "outputs": [],
   "source": []
  }
 ],
 "metadata": {
  "kernelspec": {
   "display_name": "Python 3",
   "language": "python",
   "name": "python3"
  },
  "language_info": {
   "codemirror_mode": {
    "name": "ipython",
    "version": 3
   },
   "file_extension": ".py",
   "mimetype": "text/x-python",
   "name": "python",
   "nbconvert_exporter": "python",
   "pygments_lexer": "ipython3",
   "version": "3.8.10"
  }
 },
 "nbformat": 4,
 "nbformat_minor": 2
}
