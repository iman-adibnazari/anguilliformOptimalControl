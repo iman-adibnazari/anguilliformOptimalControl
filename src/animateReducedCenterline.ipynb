{
 "cells": [
  {
   "attachments": {},
   "cell_type": "markdown",
   "metadata": {},
   "source": [
    "# Animate centerline using output of reduced dimension\n"
   ]
  },
  {
   "cell_type": "code",
   "execution_count": 11,
   "metadata": {},
   "outputs": [],
   "source": [
    " # imports\n",
    " #!/usr/bin/env python\n",
    "# -*- coding: utf-8 -*-\n",
    "import numpy as np\n",
    "from sklearn.decomposition import TruncatedSVD\n",
    "from scipy.sparse import csr_matrix\n",
    "from sklearn.utils.extmath import randomized_svd\n",
    " \n",
    "import os\n",
    "import matplotlib.pyplot as plt\n",
    "import matplotlib as mpl\n",
    "from matplotlib.animation import FuncAnimation\n",
    "from dotenv import dotenv_values \n",
    "from moviepy.editor import VideoClip\n",
    "from moviepy.video.io.bindings import mplfig_to_npimage\n",
    "\n",
    "from util import *\n",
    "config = dotenv_values(\".env\")\n"
   ]
  },
  {
   "cell_type": "code",
   "execution_count": 12,
   "metadata": {},
   "outputs": [],
   "source": [
    "# Read in data and build data matrices\n",
    "filepath = config[\"currentDirectory\"] + \"data/processedData/processedData_policySeed_0.npz\"\n",
    "\n",
    "Ndata = 2000 # number of timesteps worth of data to grab from each file\n",
    "Nepisodes = 1 # number of episodes worth of data to aggregate into each data matrix\n",
    "\n",
    "with np.load(filepath) as data:\n",
    "    centerlineData = data['centerlineData']\n",
    "\n",
    "centerlineOffset = centerlineData[0,:]\n",
    "# centerlineData[:] = centerlineData-centerlineOffset\n",
    "\n"
   ]
  },
  {
   "cell_type": "code",
   "execution_count": 9,
   "metadata": {},
   "outputs": [],
   "source": [
    "# initialize variables for reduced centerline data\n",
    "n = 20 # number of discrete points to use for centerline\n",
    "N_local = 3 # number of local points to use when averaging around each discrete point\n",
    "numTimeSteps = centerlineData.shape[0]\n",
    "centerlineData_reduced= np.zeros((numTimeSteps,n))\n",
    "\n",
    "# # Iterate through each timestep to get reduced centerline\n",
    "# for i in range(numTimeSteps):\n",
    "#     # Get centerline data at current timestep\n",
    "#     centerlineData_current = centerlineData[i,:]\n",
    "#     # reshape centerline data into 2D array\n",
    "#     centerlineData_current = np.reshape(centerlineData_current,(int(centerlineData_current.size/3),3))\n",
    "#     # get reduced centerline data\n",
    "#     centerlineData_reduced = reduceCenterline(n,centerlineData_current,N_local)\n",
    "#     plt.plot(centerlineData_reduced[:,0],centerlineData_reduced[:,1])\n",
    "#     # plt.scatter(centerlineData_current[:,0],centerlineData_current[:,2])\n"
   ]
  },
  {
   "cell_type": "code",
   "execution_count": 10,
   "metadata": {},
   "outputs": [
    {
     "name": "stderr",
     "output_type": "stream",
     "text": [
      "t:  58%|█████▊    | 577/1001 [05:43<00:26, 15.72it/s, now=None]"
     ]
    },
    {
     "name": "stdout",
     "output_type": "stream",
     "text": [
      "Moviepy - Building video /home/brdl/iman/dev/sofaProjects/anguilliformOptimalControl/data/visualizations/reducedCenterline0.mp4.\n",
      "Moviepy - Writing video /home/brdl/iman/dev/sofaProjects/anguilliformOptimalControl/data/visualizations/reducedCenterline0.mp4\n",
      "\n"
     ]
    },
    {
     "name": "stderr",
     "output_type": "stream",
     "text": [
      "t:  58%|█████▊    | 577/1001 [07:08<00:26, 15.72it/s, now=None]"
     ]
    },
    {
     "name": "stdout",
     "output_type": "stream",
     "text": [
      "Moviepy - Done !\n",
      "Moviepy - video ready /home/brdl/iman/dev/sofaProjects/anguilliformOptimalControl/data/visualizations/reducedCenterline0.mp4\n"
     ]
    },
    {
     "data": {
      "image/png": "[encoded data removed]",
      "text/plain": [
       "<Figure size 640x480 with 1 Axes>"
      ]
     },
     "metadata": {},
     "output_type": "display_data"
    }
   ],
   "source": [
    "# Configure save path for video\n",
    "savePath = config[\"currentDirectory\"] +\"data/visualizations/\"\n",
    "saveName = \"reducedCenterline0.mp4\"\n",
    "numFrames = 1999\n",
    "fps = 30\n",
    "duration = numFrames/fps\n",
    "\n",
    "\n",
    "# Set up figure for animation\n",
    "fig, ax = plt.subplots()\n",
    "\n",
    "\n",
    "# Figure parameters\n",
    "xlim_max = 450\n",
    "xlim_min = -300 \n",
    "zlim_max = 100\n",
    "zlim_min = -650\n",
    "\n",
    "# Animation callback\n",
    "def animate(t):\n",
    "    global centerlineData\n",
    "    # Get frame index\n",
    "    i = int(round(t*fps))\n",
    "    # Compute reduced centerline\n",
    "    centerlineData_current = centerlineData[i,:]\n",
    "    centerlineData_current = np.reshape(centerlineData_current,(int(centerlineData_current.size/3),3))\n",
    "    centerlineData_reduced = reduceCenterline(n,centerlineData_current,N_local)\n",
    "    # Plot mesh points from original centerline\n",
    "    ax.clear()\n",
    "    ax.scatter(centerlineData_current[:,2],centerlineData_current[:,0],marker='.',color='blue')\n",
    "    # Plot reduced centerline\n",
    "    ax.plot(centerlineData_reduced[:,1],centerlineData_reduced[:,0],color='red')\n",
    "    ax.set_xlim(xlim_min,xlim_max)\n",
    "    ax.set_ylim(zlim_min,zlim_max)\n",
    "    # ax.set_aspect('equal')\n",
    "    ax.set_title(\"Reduced Centerline\")\n",
    "    ax.set_xlabel(\"x (m)\")\n",
    "    ax.set_ylabel(\"z (m)\")\n",
    "    return mplfig_to_npimage(fig)\n",
    "\n",
    "# Create animation\n",
    "animation = VideoClip(animate, duration=duration)\n",
    "animation.write_videofile(savePath+saveName, fps=fps)\n",
    "    \n"
   ]
  },
  {
   "cell_type": "code",
   "execution_count": 15,
   "metadata": {},
   "outputs": [],
   "source": [
    "# Test reduced centerline utility function for full episode\n",
    "fullReducedCenterline = reduceCenterlineFullEpisode(n,centerlineData,N_local).transpose()"
   ]
  },
  {
   "cell_type": "code",
   "execution_count": 17,
   "metadata": {},
   "outputs": [
    {
     "name": "stderr",
     "output_type": "stream",
     "text": [
      "\n",
      "\u001b[A                                                           \n",
      "\u001b[A                                                           "
     ]
    },
    {
     "name": "stdout",
     "output_type": "stream",
     "text": [
      "Moviepy - Building video /home/brdl/iman/dev/sofaProjects/anguilliformOptimalControl/data/visualizations/reducedCenterlineFullEpisode.mp4.\n",
      "Moviepy - Writing video /home/brdl/iman/dev/sofaProjects/anguilliformOptimalControl/data/visualizations/reducedCenterlineFullEpisode.mp4\n",
      "\n"
     ]
    },
    {
     "name": "stderr",
     "output_type": "stream",
     "text": [
      "                                                                \n",
      "\u001b[A                                                           \n",
      "\u001b[A                                                           "
     ]
    },
    {
     "name": "stdout",
     "output_type": "stream",
     "text": [
      "Moviepy - Done !\n",
      "Moviepy - video ready /home/brdl/iman/dev/sofaProjects/anguilliformOptimalControl/data/visualizations/reducedCenterlineFullEpisode.mp4\n"
     ]
    },
    {
     "data": {
      "image/png": "[encoded data removed]",
      "text/plain": [
       "<Figure size 640x480 with 1 Axes>"
      ]
     },
     "metadata": {},
     "output_type": "display_data"
    }
   ],
   "source": [
    "# Generate video from full episode centerline reduction to make sure it looks same as original animation\n",
    "# Configure save path for video\n",
    "savePath = config[\"currentDirectory\"] +\"data/visualizations/\"\n",
    "saveName = \"reducedCenterlineFullEpisode.mp4\"\n",
    "numFrames = 1999\n",
    "fps = 30\n",
    "duration = numFrames/fps\n",
    "# Set up figure for animation\n",
    "fig, ax = plt.subplots()\n",
    "\n",
    "\n",
    "# Figure parameters\n",
    "xlim_max = 450\n",
    "xlim_min = -300 \n",
    "zlim_max = 100\n",
    "zlim_min = -650\n",
    "\n",
    "# Animation callback\n",
    "def animate(t):\n",
    "    global centerlineData\n",
    "    global fullReducedCenterline\n",
    "    # Get frame index\n",
    "    i = int(round(t*fps))\n",
    "    # Reshape original centerline\n",
    "    centerlineData_current = centerlineData[i,:]\n",
    "    centerlineData_current = np.reshape(centerlineData_current,(int(centerlineData_current.size/3),3))\n",
    "    # Reshape reduced centerline\n",
    "    centerlineData_reduced = fullReducedCenterline[:,i]\n",
    "    centerlineData_reduced = np.reshape(fullReducedCenterline[:,i],(int(centerlineData_reduced.size/2),2))\n",
    "    # Plot reduced centerline\n",
    "    ax.clear()\n",
    "    ax.scatter(centerlineData_current[:,2],centerlineData_current[:,0],marker='.',color='blue')\n",
    "    ax.plot(centerlineData_reduced[:,1],centerlineData_reduced[:,0],color='red')\n",
    "    ax.set_xlim(xlim_min,xlim_max)\n",
    "    ax.set_ylim(zlim_min,zlim_max)\n",
    "    # ax.set_aspect('equal')\n",
    "    ax.set_title(\"Reduced Centerline\")\n",
    "    ax.set_xlabel(\"x (m)\")\n",
    "    ax.set_ylabel(\"z (m)\")\n",
    "    return mplfig_to_npimage(fig)\n",
    "\n",
    "# Create animation\n",
    "animation = VideoClip(animate, duration=duration)\n",
    "animation.write_videofile(savePath+saveName, fps=fps)\n",
    "\n",
    "    \n",
    "    "
   ]
  },
  {
   "cell_type": "code",
   "execution_count": null,
   "metadata": {},
   "outputs": [],
   "source": []
  }
 ],
 "metadata": {
  "kernelspec": {
   "display_name": "Python 3",
   "language": "python",
   "name": "python3"
  },
  "language_info": {
   "codemirror_mode": {
    "name": "ipython",
    "version": 3
   },
   "file_extension": ".py",
   "mimetype": "text/x-python",
   "name": "python",
   "nbconvert_exporter": "python",
   "pygments_lexer": "ipython3",
   "version": "3.8.10"
  },
  "orig_nbformat": 4
 },
 "nbformat": 4,
 "nbformat_minor": 2
}
