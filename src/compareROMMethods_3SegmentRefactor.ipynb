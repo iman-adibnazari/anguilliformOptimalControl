{
 "cells": [
  {
   "attachments": {},
   "cell_type": "markdown",
   "metadata": {},
   "source": [
    "This notebook compares the accuracy of multiple data driven ROM methods on the full assembly"
   ]
  },
  {
   "cell_type": "code",
   "execution_count": 1,
   "metadata": {},
   "outputs": [],
   "source": [
    "#!/usr/bin/env python\n",
    "# -*- coding: utf-8 -*-\n",
    "import numpy as np\n",
    "from sklearn.decomposition import TruncatedSVD\n",
    "from scipy.sparse import csr_matrix\n",
    "from sklearn.utils.extmath import randomized_svd\n",
    " \n",
    "import os\n",
    "import matplotlib.pyplot as plt\n",
    "import matplotlib as mpl\n",
    "from matplotlib.animation import FuncAnimation\n",
    "from dotenv import dotenv_values \n",
    "from moviepy.editor import VideoClip\n",
    "from moviepy.video.io.bindings import mplfig_to_npimage\n",
    "import scipy.io\n",
    "from scipy.signal import cont2discrete\n",
    "import pyvista as pv\n",
    "import h5py\n",
    "import mat73\n",
    "import dask.array as da\n",
    "from dask.distributed import Client, LocalCluster\n",
    "\n",
    "\n",
    "\n",
    "\n",
    "import opinf\n",
    "\n",
    "\n",
    "config = dotenv_values(\".env\")\n",
    "from util import *"
   ]
  },
  {
   "cell_type": "code",
   "execution_count": 2,
   "metadata": {},
   "outputs": [],
   "source": [
    "# Setup Dask client\n",
    "# cluster = LocalCluster() # Launches a scheduler and workers locally\n",
    "# client = Client(cluster) # Connect to distributed cluster and override default\n",
    "client = Client('tcp://127.0.0.1:8786')\n",
    "client.cluster"
   ]
  },
  {
   "cell_type": "code",
   "execution_count": 3,
   "metadata": {},
   "outputs": [],
   "source": [
    "client.cluster"
   ]
  },
  {
   "cell_type": "code",
   "execution_count": 4,
   "metadata": {},
   "outputs": [],
   "source": [
    "# Set up hyperparameters for all ROMs\n",
    "n_timesteps = 200 # Number of timesteps to pull from each episode\n",
    "dt = 0.001\n",
    "n_train = 5 # Number of training episodes\n",
    "n_test = 25 # Number of testing episodes\n",
    "n_ROM = 12 # Dimension of ROM state space"
   ]
  },
  {
   "attachments": {},
   "cell_type": "markdown",
   "metadata": {},
   "source": [
    "# Read Data"
   ]
  },
  {
   "cell_type": "code",
   "execution_count": 5,
   "metadata": {},
   "outputs": [],
   "source": [
    "# Setup filepaths for reading data \n",
    "filepath = config[\"currentDirectory\"] + \"data/archivedDataSets/threeSegmentData200Timesteps/\"\n",
    "\n"
   ]
  },
  {
   "cell_type": "code",
   "execution_count": 6,
   "metadata": {},
   "outputs": [
    {
     "name": "stdout",
     "output_type": "stream",
     "text": [
      "gothere\n",
      "gothere2\n",
      "gothere3\n",
      "Done\n"
     ]
    }
   ],
   "source": [
    "# Read in all training data \n",
    "data = h5py.File(filepath+ \"processedDataSet.hdf5\", 'r')\n",
    "print(\"gothere\")\n",
    "X_fom = da.from_array(data[\"stateData\"], chunks=(4096, 4096,1))\n",
    "U_fom = da.from_array(data[\"inputData\"], chunks=(4096, 4096,1))\n",
    "Y_fom = da.from_array(data[\"reducedCenterlineData\"], chunks=(4096, 4096,1))\n",
    "x0 = data[\"stateData\"][:,0,0]\n",
    "y0 = data[\"reducedCenterlineData\"][:,0,0]\n",
    "\n",
    "\n",
    "# del data # free up memory\n",
    "print(\"gothere2\")\n",
    "n = X_fom.shape[0]\n",
    "l = U_fom.shape[0]\n",
    "m = Y_fom.shape[0]\n",
    "print(\"gothere3\")\n",
    "# del data # free up memory\n",
    "# Collect initial condition offsets for each episode and center each episode\n",
    "X0 = da.zeros((n,n_train+n_test))\n",
    "Y0 = da.zeros((m,n_train+n_test))\n",
    "for i in range(n_train+n_test):\n",
    "    X0[:,i] = X_fom[:,0,i]\n",
    "    Y0[:,i] = Y_fom[:,0,i]\n",
    "    X_fom[:,:,i] = X_fom[:,:,i] - X0[:,i].reshape(-1,1)\n",
    "    Y_fom[:,:,i] = Y_fom[:,:,i] - Y0[:,i].reshape(-1,1)\n",
    "print(\"Done\")"
   ]
  },
  {
   "cell_type": "code",
   "execution_count": 7,
   "metadata": {},
   "outputs": [
    {
     "data": {
      "text/plain": [
       "(226941,)"
      ]
     },
     "execution_count": 7,
     "metadata": {},
     "output_type": "execute_result"
    }
   ],
   "source": [
    "x0.shape"
   ]
  },
  {
   "cell_type": "code",
   "execution_count": 8,
   "metadata": {},
   "outputs": [
    {
     "name": "stdout",
     "output_type": "stream",
     "text": [
      "Length of robot:  1.3213038304049292\n"
     ]
    }
   ],
   "source": [
    "# Get length of robot from min and max of x coords\n",
    "xzCoords = Y0[:,0].reshape(-1,2)\n",
    "\n",
    "x_min = np.min(xzCoords[:,0])\n",
    "x_max = np.max(xzCoords[:,0])\n",
    "length = x_max - x_min\n",
    "print(\"Length of robot: \", length.compute())\n",
    "# Get z min and max\n",
    "z_min = np.min(xzCoords[:,1])\n",
    "z_max = np.max(xzCoords[:,1])\n"
   ]
  },
  {
   "cell_type": "code",
   "execution_count": 9,
   "metadata": {},
   "outputs": [
    {
     "name": "stdout",
     "output_type": "stream",
     "text": [
      "Shape of X_fom:  (226941, 200, 30)\n",
      "Shape of U_fom:  (6, 200, 30)\n",
      "Shape of Y_fom:  (40, 200, 30)\n"
     ]
    }
   ],
   "source": [
    "# Print shapes of data\n",
    "print(\"Shape of X_fom: \", X_fom.shape)\n",
    "print(\"Shape of U_fom: \", U_fom.shape)\n",
    "print(\"Shape of Y_fom: \", Y_fom.shape)"
   ]
  },
  {
   "attachments": {},
   "cell_type": "markdown",
   "metadata": {},
   "source": [
    "# Learn System Matrices for Each Method"
   ]
  },
  {
   "cell_type": "markdown",
   "metadata": {},
   "source": [
    "## SVD to find correct size of bases"
   ]
  },
  {
   "cell_type": "code",
   "execution_count": 10,
   "metadata": {},
   "outputs": [
    {
     "name": "stdout",
     "output_type": "stream",
     "text": [
      "(226941, 1000)\n"
     ]
    },
    {
     "data": {
      "text/html": [
       "<table>\n",
       "    <tr>\n",
       "        <td>\n",
       "            <table style=\"border-collapse: collapse;\">\n",
       "                <thead>\n",
       "                    <tr>\n",
       "                        <td> </td>\n",
       "                        <th> Array </th>\n",
       "                        <th> Chunk </th>\n",
       "                    </tr>\n",
       "                </thead>\n",
       "                <tbody>\n",
       "                    \n",
       "                    <tr>\n",
       "                        <th> Bytes </th>\n",
       "                        <td> 1.69 GiB </td>\n",
       "                        <td> 6.25 MiB </td>\n",
       "                    </tr>\n",
       "                    \n",
       "                    <tr>\n",
       "                        <th> Shape </th>\n",
       "                        <td> (226941, 1000) </td>\n",
       "                        <td> (4096, 200) </td>\n",
       "                    </tr>\n",
       "                    <tr>\n",
       "                        <th> Dask graph </th>\n",
       "                        <td colspan=\"2\"> 280 chunks in 38 graph layers </td>\n",
       "                    </tr>\n",
       "                    <tr>\n",
       "                        <th> Data type </th>\n",
       "                        <td colspan=\"2\"> float64 numpy.ndarray </td>\n",
       "                    </tr>\n",
       "                </tbody>\n",
       "            </table>\n",
       "        </td>\n",
       "        <td>\n",
       "        <svg width=\"75\" height=\"170\" style=\"stroke:rgb(0,0,0);stroke-width:1\" >\n",
       "\n",
       "  <!-- Horizontal lines -->\n",
       "  <line x1=\"0\" y1=\"0\" x2=\"25\" y2=\"0\" style=\"stroke-width:2\" />\n",
       "  <line x1=\"0\" y1=\"4\" x2=\"25\" y2=\"4\" />\n",
       "  <line x1=\"0\" y1=\"10\" x2=\"25\" y2=\"10\" />\n",
       "  <line x1=\"0\" y1=\"17\" x2=\"25\" y2=\"17\" />\n",
       "  <line x1=\"0\" y1=\"23\" x2=\"25\" y2=\"23\" />\n",
       "  <line x1=\"0\" y1=\"30\" x2=\"25\" y2=\"30\" />\n",
       "  <line x1=\"0\" y1=\"36\" x2=\"25\" y2=\"36\" />\n",
       "  <line x1=\"0\" y1=\"43\" x2=\"25\" y2=\"43\" />\n",
       "  <line x1=\"0\" y1=\"49\" x2=\"25\" y2=\"49\" />\n",
       "  <line x1=\"0\" y1=\"56\" x2=\"25\" y2=\"56\" />\n",
       "  <line x1=\"0\" y1=\"62\" x2=\"25\" y2=\"62\" />\n",
       "  <line x1=\"0\" y1=\"69\" x2=\"25\" y2=\"69\" />\n",
       "  <line x1=\"0\" y1=\"75\" x2=\"25\" y2=\"75\" />\n",
       "  <line x1=\"0\" y1=\"82\" x2=\"25\" y2=\"82\" />\n",
       "  <line x1=\"0\" y1=\"88\" x2=\"25\" y2=\"88\" />\n",
       "  <line x1=\"0\" y1=\"95\" x2=\"25\" y2=\"95\" />\n",
       "  <line x1=\"0\" y1=\"101\" x2=\"25\" y2=\"101\" />\n",
       "  <line x1=\"0\" y1=\"108\" x2=\"25\" y2=\"108\" />\n",
       "  <line x1=\"0\" y1=\"114\" x2=\"25\" y2=\"114\" />\n",
       "  <line x1=\"0\" y1=\"120\" x2=\"25\" y2=\"120\" style=\"stroke-width:2\" />\n",
       "\n",
       "  <!-- Vertical lines -->\n",
       "  <line x1=\"0\" y1=\"0\" x2=\"0\" y2=\"120\" style=\"stroke-width:2\" />\n",
       "  <line x1=\"5\" y1=\"0\" x2=\"5\" y2=\"120\" />\n",
       "  <line x1=\"10\" y1=\"0\" x2=\"10\" y2=\"120\" />\n",
       "  <line x1=\"15\" y1=\"0\" x2=\"15\" y2=\"120\" />\n",
       "  <line x1=\"20\" y1=\"0\" x2=\"20\" y2=\"120\" />\n",
       "  <line x1=\"25\" y1=\"0\" x2=\"25\" y2=\"120\" style=\"stroke-width:2\" />\n",
       "\n",
       "  <!-- Colored Rectangle -->\n",
       "  <polygon points=\"0.0,0.0 25.412616514582485,0.0 25.412616514582485,120.0 0.0,120.0\" style=\"fill:#8B4903A0;stroke-width:0\"/>\n",
       "\n",
       "  <!-- Text -->\n",
       "  <text x=\"12.706308\" y=\"140.000000\" font-size=\"1.0rem\" font-weight=\"100\" text-anchor=\"middle\" >1000</text>\n",
       "  <text x=\"45.412617\" y=\"60.000000\" font-size=\"1.0rem\" font-weight=\"100\" text-anchor=\"middle\" transform=\"rotate(-90,45.412617,60.000000)\">226941</text>\n",
       "</svg>\n",
       "        </td>\n",
       "    </tr>\n",
       "</table>"
      ],
      "text/plain": [
       "dask.array<concatenate, shape=(226941, 1000), dtype=float64, chunksize=(4096, 200), chunktype=numpy.ndarray>"
      ]
     },
     "execution_count": 10,
     "metadata": {},
     "output_type": "execute_result"
    }
   ],
   "source": [
    "# Compute SVD of state training set to find size of reduced basis\n",
    "# Unroll the state training set into a matrix\n",
    "X_fom_train_da = da.hstack([X_fom[:,:,i] for i in range(n_train)])\n",
    "# Get shape of state training set\n",
    "print(X_fom_train_da.shape)\n",
    "X_fom_train_da"
   ]
  },
  {
   "cell_type": "code",
   "execution_count": 11,
   "metadata": {},
   "outputs": [],
   "source": [
    "# compute singular values of unrolled state training set\n",
    "U_fom_train_da, S_fom_train_da, V_fom_train_da = da.linalg.svd_compressed(X_fom_train_da, 1000)  \n",
    "# Compute normalized singular values\n",
    "S_fom_train_norm = S_fom_train_da / da.sum(S_fom_train_da)\n"
   ]
  },
  {
   "cell_type": "code",
   "execution_count": 12,
   "metadata": {},
   "outputs": [
    {
     "data": {
      "text/html": [
       "<table>\n",
       "    <tr>\n",
       "        <td>\n",
       "            <table style=\"border-collapse: collapse;\">\n",
       "                <thead>\n",
       "                    <tr>\n",
       "                        <td> </td>\n",
       "                        <th> Array </th>\n",
       "                        <th> Chunk </th>\n",
       "                    </tr>\n",
       "                </thead>\n",
       "                <tbody>\n",
       "                    \n",
       "                    <tr>\n",
       "                        <th> Bytes </th>\n",
       "                        <td> 7.81 kiB </td>\n",
       "                        <td> 7.81 kiB </td>\n",
       "                    </tr>\n",
       "                    \n",
       "                    <tr>\n",
       "                        <th> Shape </th>\n",
       "                        <td> (1000,) </td>\n",
       "                        <td> (1000,) </td>\n",
       "                    </tr>\n",
       "                    <tr>\n",
       "                        <th> Dask graph </th>\n",
       "                        <td colspan=\"2\"> 1 chunks in 92 graph layers </td>\n",
       "                    </tr>\n",
       "                    <tr>\n",
       "                        <th> Data type </th>\n",
       "                        <td colspan=\"2\"> float64 numpy.ndarray </td>\n",
       "                    </tr>\n",
       "                </tbody>\n",
       "            </table>\n",
       "        </td>\n",
       "        <td>\n",
       "        <svg width=\"170\" height=\"75\" style=\"stroke:rgb(0,0,0);stroke-width:1\" >\n",
       "\n",
       "  <!-- Horizontal lines -->\n",
       "  <line x1=\"0\" y1=\"0\" x2=\"120\" y2=\"0\" style=\"stroke-width:2\" />\n",
       "  <line x1=\"0\" y1=\"25\" x2=\"120\" y2=\"25\" style=\"stroke-width:2\" />\n",
       "\n",
       "  <!-- Vertical lines -->\n",
       "  <line x1=\"0\" y1=\"0\" x2=\"0\" y2=\"25\" style=\"stroke-width:2\" />\n",
       "  <line x1=\"120\" y1=\"0\" x2=\"120\" y2=\"25\" style=\"stroke-width:2\" />\n",
       "\n",
       "  <!-- Colored Rectangle -->\n",
       "  <polygon points=\"0.0,0.0 120.0,0.0 120.0,25.412616514582485 0.0,25.412616514582485\" style=\"fill:#ECB172A0;stroke-width:0\"/>\n",
       "\n",
       "  <!-- Text -->\n",
       "  <text x=\"60.000000\" y=\"45.412617\" font-size=\"1.0rem\" font-weight=\"100\" text-anchor=\"middle\" >1000</text>\n",
       "  <text x=\"140.000000\" y=\"12.706308\" font-size=\"1.0rem\" font-weight=\"100\" text-anchor=\"middle\" transform=\"rotate(0,140.000000,12.706308)\">1</text>\n",
       "</svg>\n",
       "        </td>\n",
       "    </tr>\n",
       "</table>"
      ],
      "text/plain": [
       "dask.array<truediv, shape=(1000,), dtype=float64, chunksize=(1000,), chunktype=numpy.ndarray>"
      ]
     },
     "execution_count": 12,
     "metadata": {},
     "output_type": "execute_result"
    }
   ],
   "source": [
    "S_fom_train_norm\n"
   ]
  },
  {
   "cell_type": "code",
   "execution_count": 13,
   "metadata": {},
   "outputs": [],
   "source": [
    "S_fom_train_norm = S_fom_train_norm.compute()\n"
   ]
  },
  {
   "cell_type": "code",
   "execution_count": 14,
   "metadata": {},
   "outputs": [
    {
     "name": "stdout",
     "output_type": "stream",
     "text": [
      "[0.41628285 0.60235597 0.68671233 0.75361738 0.81020933 0.84420533\n",
      " 0.87052932 0.89344814 0.90884105 0.92239336 0.93196592 0.93913981\n",
      " 0.94532931 0.94971425 0.95352302 0.957053   0.96005295 0.96283292\n",
      " 0.96528543 0.96761069 0.96975915 0.97182191 0.97346764 0.97495021\n",
      " 0.976399   0.97777904 0.97910923 0.98036984 0.98140012 0.98240794\n",
      " 0.98335072 0.984222   0.9850302  0.98579234 0.98648668 0.98713784\n",
      " 0.98776349 0.98835373 0.98890037 0.98941732 0.98990662 0.99037896\n",
      " 0.99081557 0.99122513 0.99160991 0.99198777 0.99232382 0.99264457\n",
      " 0.9929543  0.99323687 0.99350192 0.99375292 0.9939895  0.99422492\n",
      " 0.99444833 0.99466373 0.99487137 0.99506305 0.99524958 0.99542839\n",
      " 0.99559222 0.99574015 0.99587703 0.99601173 0.99614219 0.99626696\n",
      " 0.99638969 0.99650025 0.99660561 0.99670659 0.99680622 0.99690545\n",
      " 0.99699907 0.9970858  0.99716761 0.99724569 0.99732198 0.99739414\n",
      " 0.9974653  0.99753604 0.99760507 0.99766931 0.99773212 0.99779322\n",
      " 0.99785135 0.99790634 0.99795951 0.99801066 0.99806121 0.99811057\n",
      " 0.99815822 0.99820383 0.99824711 0.99828917 0.99832957 0.99836899\n",
      " 0.99840632 0.99844299 0.99847923 0.99851407 0.99854814 0.99858107\n",
      " 0.99861285 0.99864358 0.99867387 0.99870319 0.99873107 0.99875876\n",
      " 0.99878557 0.998812   0.99883812 0.99886261 0.99888694 0.99891078\n",
      " 0.99893384 0.99895647 0.99897877 0.9990006  0.99902183 0.99904161\n",
      " 0.99906092 0.99907944 0.99909759 0.99911502 0.99913199 0.99914887\n",
      " 0.99916549 0.99918165 0.99919709 0.9992122  0.99922696 0.99924157\n",
      " 0.99925579 0.99926939 0.99928279 0.99929594 0.99930876 0.99932131\n",
      " 0.99933343 0.9993452  0.99935677 0.99936824 0.99937939 0.99939045\n",
      " 0.99940131 0.9994118  0.99942227 0.99943233 0.99944213 0.99945174\n",
      " 0.9994612  0.99947033 0.99947934 0.99948807 0.99949667 0.99950507\n",
      " 0.99951336 0.99952159 0.9995297  0.9995377  0.99954562 0.99955321\n",
      " 0.99956078 0.99956822 0.9995755  0.99958252 0.99958939 0.99959614\n",
      " 0.9996028  0.99960928 0.99961563 0.99962189 0.99962804 0.9996341\n",
      " 0.99964013 0.99964601 0.99965163 0.99965722 0.99966266 0.99966807\n",
      " 0.99967343 0.99967863 0.9996837  0.99968853 0.99969327 0.99969798\n",
      " 0.99970264 0.99970725 0.99971179 0.99971615 0.99972045 0.99972471\n",
      " 0.99972887 0.99973298 0.99973703 0.999741   0.99974488 0.99974864\n",
      " 0.99975238 0.99975605 0.99975967 0.99976324 0.99976676 0.99977019\n",
      " 0.99977358 0.99977693 0.99978022 0.99978346 0.99978662 0.99978971\n",
      " 0.99979279 0.99979577 0.9997987  0.99980162 0.99980447 0.99980729\n",
      " 0.99981007 0.99981275 0.99981539 0.99981801 0.99982061 0.99982317\n",
      " 0.99982568 0.99982815 0.99983057 0.99983296 0.99983531 0.99983762\n",
      " 0.99983992 0.99984218 0.99984441 0.99984661 0.99984879 0.99985087\n",
      " 0.99985295 0.999855   0.99985699 0.99985896 0.99986088 0.99986277\n",
      " 0.99986463 0.99986649 0.9998683  0.9998701  0.99987186 0.99987359\n",
      " 0.99987532 0.999877   0.99987867 0.99988033 0.99988196 0.99988355\n",
      " 0.99988513 0.99988667 0.99988817 0.99988965 0.99989112 0.99989257\n",
      " 0.99989399 0.99989541 0.99989679 0.99989814 0.99989948 0.99990079\n",
      " 0.99990208 0.99990335 0.99990462 0.99990587 0.99990711 0.99990831\n",
      " 0.99990949 0.99991065 0.99991179 0.99991291 0.99991402 0.99991512\n",
      " 0.9999162  0.99991727 0.99991832 0.99991937 0.9999204  0.99992143\n",
      " 0.99992245 0.99992343 0.9999244  0.99992535 0.99992629 0.99992722\n",
      " 0.99992813 0.99992903 0.99992993 0.99993081 0.99993168 0.99993254\n",
      " 0.99993338 0.99993422 0.99993503 0.99993583 0.99993662 0.9999374\n",
      " 0.99993816 0.99993892 0.99993966 0.9999404  0.99994112 0.99994184\n",
      " 0.99994255 0.99994324 0.99994392 0.99994459 0.99994526 0.99994592\n",
      " 0.99994657 0.99994721 0.99994783 0.99994846 0.99994906 0.99994966\n",
      " 0.99995025 0.99995084 0.99995142 0.99995199 0.99995255 0.9999531\n",
      " 0.99995364 0.99995417 0.9999547  0.99995523 0.99995574 0.99995625\n",
      " 0.99995676 0.99995725 0.99995774 0.99995823 0.9999587  0.99995918\n",
      " 0.99995964 0.9999601  0.99996056 0.99996101 0.99996145 0.99996189\n",
      " 0.99996232 0.99996275 0.99996317 0.99996359 0.999964   0.9999644\n",
      " 0.9999648  0.9999652  0.99996558 0.99996597 0.99996635 0.99996672\n",
      " 0.9999671  0.99996746 0.99996782 0.99996817 0.99996852 0.99996886\n",
      " 0.9999692  0.99996954 0.99996987 0.9999702  0.99997052 0.99997084\n",
      " 0.99997116 0.99997147 0.99997178 0.99997208 0.99997238 0.99997268\n",
      " 0.99997297 0.99997326 0.99997355 0.99997383 0.99997411 0.99997439\n",
      " 0.99997466 0.99997492 0.99997519 0.99997545 0.9999757  0.99997596\n",
      " 0.99997621 0.99997646 0.9999767  0.99997693 0.99997717 0.9999774\n",
      " 0.99997763 0.99997786 0.99997809 0.99997832 0.99997854 0.99997876\n",
      " 0.99997897 0.99997918 0.9999794  0.99997961 0.99997982 0.99998002\n",
      " 0.99998022 0.99998042 0.99998061 0.99998081 0.999981   0.99998119\n",
      " 0.99998137 0.99998156 0.99998174 0.99998192 0.9999821  0.99998228\n",
      " 0.99998245 0.99998262 0.99998279 0.99998296 0.99998312 0.99998328\n",
      " 0.99998345 0.99998361 0.99998377 0.99998392 0.99998408 0.99998424\n",
      " 0.99998439 0.99998454 0.99998469 0.99998484 0.99998498 0.99998513\n",
      " 0.99998527 0.99998541 0.99998555 0.99998569 0.99998583 0.99998596\n",
      " 0.99998609 0.99998622 0.99998635 0.99998648 0.99998661 0.99998674\n",
      " 0.99998686 0.99998698 0.9999871  0.99998722 0.99998734 0.99998746\n",
      " 0.99998758 0.99998769 0.9999878  0.99998792 0.99998803 0.99998814\n",
      " 0.99998825 0.99998836 0.99998846 0.99998857 0.99998867 0.99998878\n",
      " 0.99998888 0.99998898 0.99998908 0.99998918 0.99998928 0.99998938\n",
      " 0.99998948 0.99998957 0.99998967 0.99998976 0.99998985 0.99998995\n",
      " 0.99999004 0.99999013 0.99999021 0.9999903  0.99999039 0.99999048\n",
      " 0.99999056 0.99999065 0.99999073 0.99999081 0.9999909  0.99999098\n",
      " 0.99999106 0.99999114 0.99999122 0.9999913  0.99999137 0.99999145\n",
      " 0.99999153 0.9999916  0.99999167 0.99999175 0.99999182 0.99999189\n",
      " 0.99999197 0.99999204 0.99999211 0.99999217 0.99999224 0.99999231\n",
      " 0.99999238 0.99999244 0.99999251 0.99999257 0.99999264 0.9999927\n",
      " 0.99999277 0.99999283 0.99999289 0.99999295 0.99999301 0.99999308\n",
      " 0.99999313 0.99999319 0.99999325 0.99999331 0.99999337 0.99999342\n",
      " 0.99999348 0.99999354 0.99999359 0.99999365 0.9999937  0.99999375\n",
      " 0.99999381 0.99999386 0.99999391 0.99999396 0.99999401 0.99999406\n",
      " 0.99999412 0.99999417 0.99999421 0.99999426 0.99999431 0.99999436\n",
      " 0.99999441 0.99999446 0.9999945  0.99999455 0.99999459 0.99999464\n",
      " 0.99999469 0.99999473 0.99999477 0.99999482 0.99999486 0.9999949\n",
      " 0.99999495 0.99999499 0.99999503 0.99999507 0.99999512 0.99999516\n",
      " 0.9999952  0.99999524 0.99999528 0.99999532 0.99999536 0.99999539\n",
      " 0.99999543 0.99999547 0.99999551 0.99999555 0.99999559 0.99999562\n",
      " 0.99999566 0.9999957  0.99999573 0.99999577 0.9999958  0.99999584\n",
      " 0.99999587 0.99999591 0.99999594 0.99999598 0.99999601 0.99999604\n",
      " 0.99999608 0.99999611 0.99999614 0.99999618 0.99999621 0.99999624\n",
      " 0.99999627 0.9999963  0.99999633 0.99999636 0.99999639 0.99999643\n",
      " 0.99999645 0.99999648 0.99999651 0.99999654 0.99999657 0.9999966\n",
      " 0.99999663 0.99999666 0.99999669 0.99999671 0.99999674 0.99999677\n",
      " 0.9999968  0.99999682 0.99999685 0.99999688 0.9999969  0.99999693\n",
      " 0.99999695 0.99999698 0.99999701 0.99999703 0.99999706 0.99999708\n",
      " 0.9999971  0.99999713 0.99999715 0.99999718 0.9999972  0.99999722\n",
      " 0.99999725 0.99999727 0.99999729 0.99999732 0.99999734 0.99999736\n",
      " 0.99999738 0.99999741 0.99999743 0.99999745 0.99999747 0.99999749\n",
      " 0.99999751 0.99999753 0.99999756 0.99999758 0.9999976  0.99999762\n",
      " 0.99999764 0.99999766 0.99999768 0.9999977  0.99999772 0.99999773\n",
      " 0.99999775 0.99999777 0.99999779 0.99999781 0.99999783 0.99999785\n",
      " 0.99999787 0.99999788 0.9999979  0.99999792 0.99999794 0.99999795\n",
      " 0.99999797 0.99999799 0.99999801 0.99999802 0.99999804 0.99999806\n",
      " 0.99999807 0.99999809 0.99999811 0.99999812 0.99999814 0.99999815\n",
      " 0.99999817 0.99999819 0.9999982  0.99999822 0.99999823 0.99999825\n",
      " 0.99999826 0.99999828 0.99999829 0.99999831 0.99999832 0.99999834\n",
      " 0.99999835 0.99999837 0.99999838 0.99999839 0.99999841 0.99999842\n",
      " 0.99999844 0.99999845 0.99999846 0.99999848 0.99999849 0.9999985\n",
      " 0.99999852 0.99999853 0.99999854 0.99999855 0.99999857 0.99999858\n",
      " 0.99999859 0.9999986  0.99999862 0.99999863 0.99999864 0.99999865\n",
      " 0.99999866 0.99999868 0.99999869 0.9999987  0.99999871 0.99999872\n",
      " 0.99999873 0.99999875 0.99999876 0.99999877 0.99999878 0.99999879\n",
      " 0.9999988  0.99999881 0.99999882 0.99999883 0.99999884 0.99999885\n",
      " 0.99999886 0.99999887 0.99999888 0.99999889 0.9999989  0.99999891\n",
      " 0.99999892 0.99999893 0.99999894 0.99999895 0.99999896 0.99999897\n",
      " 0.99999898 0.99999899 0.999999   0.99999901 0.99999902 0.99999903\n",
      " 0.99999903 0.99999904 0.99999905 0.99999906 0.99999907 0.99999908\n",
      " 0.99999909 0.9999991  0.9999991  0.99999911 0.99999912 0.99999913\n",
      " 0.99999914 0.99999915 0.99999915 0.99999916 0.99999917 0.99999918\n",
      " 0.99999919 0.99999919 0.9999992  0.99999921 0.99999922 0.99999922\n",
      " 0.99999923 0.99999924 0.99999925 0.99999925 0.99999926 0.99999927\n",
      " 0.99999928 0.99999928 0.99999929 0.9999993  0.9999993  0.99999931\n",
      " 0.99999932 0.99999932 0.99999933 0.99999934 0.99999934 0.99999935\n",
      " 0.99999936 0.99999936 0.99999937 0.99999938 0.99999938 0.99999939\n",
      " 0.99999939 0.9999994  0.99999941 0.99999941 0.99999942 0.99999942\n",
      " 0.99999943 0.99999944 0.99999944 0.99999945 0.99999945 0.99999946\n",
      " 0.99999946 0.99999947 0.99999948 0.99999948 0.99999949 0.99999949\n",
      " 0.9999995  0.9999995  0.99999951 0.99999951 0.99999952 0.99999952\n",
      " 0.99999953 0.99999953 0.99999954 0.99999954 0.99999955 0.99999955\n",
      " 0.99999956 0.99999956 0.99999957 0.99999957 0.99999958 0.99999958\n",
      " 0.99999959 0.99999959 0.9999996  0.9999996  0.99999961 0.99999961\n",
      " 0.99999962 0.99999962 0.99999962 0.99999963 0.99999963 0.99999964\n",
      " 0.99999964 0.99999965 0.99999965 0.99999965 0.99999966 0.99999966\n",
      " 0.99999967 0.99999967 0.99999967 0.99999968 0.99999968 0.99999969\n",
      " 0.99999969 0.99999969 0.9999997  0.9999997  0.9999997  0.99999971\n",
      " 0.99999971 0.99999972 0.99999972 0.99999972 0.99999973 0.99999973\n",
      " 0.99999973 0.99999974 0.99999974 0.99999974 0.99999975 0.99999975\n",
      " 0.99999975 0.99999976 0.99999976 0.99999976 0.99999977 0.99999977\n",
      " 0.99999977 0.99999978 0.99999978 0.99999978 0.99999979 0.99999979\n",
      " 0.99999979 0.9999998  0.9999998  0.9999998  0.9999998  0.99999981\n",
      " 0.99999981 0.99999981 0.99999982 0.99999982 0.99999982 0.99999982\n",
      " 0.99999983 0.99999983 0.99999983 0.99999983 0.99999984 0.99999984\n",
      " 0.99999984 0.99999984 0.99999985 0.99999985 0.99999985 0.99999986\n",
      " 0.99999986 0.99999986 0.99999986 0.99999986 0.99999987 0.99999987\n",
      " 0.99999987 0.99999987 0.99999988 0.99999988 0.99999988 0.99999988\n",
      " 0.99999989 0.99999989 0.99999989 0.99999989 0.99999989 0.9999999\n",
      " 0.9999999  0.9999999  0.9999999  0.9999999  0.99999991 0.99999991\n",
      " 0.99999991 0.99999991 0.99999991 0.99999992 0.99999992 0.99999992\n",
      " 0.99999992 0.99999992 0.99999993 0.99999993 0.99999993 0.99999993\n",
      " 0.99999993 0.99999994 0.99999994 0.99999994 0.99999994 0.99999994\n",
      " 0.99999994 0.99999995 0.99999995 0.99999995 0.99999995 0.99999995\n",
      " 0.99999995 0.99999995 0.99999996 0.99999996 0.99999996 0.99999996\n",
      " 0.99999996 0.99999996 0.99999997 0.99999997 0.99999997 0.99999997\n",
      " 0.99999997 0.99999997 0.99999997 0.99999997 0.99999998 0.99999998\n",
      " 0.99999998 0.99999998 0.99999998 0.99999998 0.99999998 0.99999998\n",
      " 0.99999999 0.99999999 0.99999999 0.99999999 0.99999999 0.99999999\n",
      " 0.99999999 0.99999999 0.99999999 1.         1.         1.\n",
      " 1.         1.         1.         1.         1.         1.\n",
      " 1.         1.         1.         1.        ]\n"
     ]
    },
    {
     "data": {
      "image/png": "[encoded data removed]",
      "text/plain": [
       "<Figure size 1000x500 with 2 Axes>"
      ]
     },
     "metadata": {},
     "output_type": "display_data"
    }
   ],
   "source": [
    "# Plot normalized singular values and the cumulative sum of normalized singular values\n",
    "plt.figure(figsize=(10,5))\n",
    "plt.subplot(1,2,1)\n",
    "plt.plot(S_fom_train_norm)\n",
    "plt.title('Normalized singular values')\n",
    "plt.xlabel('Singular value index')\n",
    "plt.ylabel('Normalized singular value')\n",
    "plt.axvline(x=22, color='r', linestyle='--')\n",
    "\n",
    "plt.subplot(1,2,2)\n",
    "plt.plot(np.cumsum(S_fom_train_norm))\n",
    "plt.title('Cumulative sum of normalized singular values')\n",
    "plt.xlabel('Singular value index')\n",
    "plt.ylabel('Cumulative sum of normalized singular values')\n",
    "# Plot a vertical line at 22\n",
    "plt.axvline(x=12, color='r', linestyle='--')\n",
    "\n",
    "print(np.cumsum(S_fom_train_norm))\n"
   ]
  },
  {
   "cell_type": "code",
   "execution_count": null,
   "metadata": {},
   "outputs": [],
   "source": [
    "n_ROM = 12 # Dimensionality of state in ROM"
   ]
  },
  {
   "attachments": {},
   "cell_type": "markdown",
   "metadata": {},
   "source": [
    "## OKID + ERA "
   ]
  },
  {
   "attachments": {},
   "cell_type": "markdown",
   "metadata": {},
   "source": [
    "### Setup Data matrices  "
   ]
  },
  {
   "cell_type": "code",
   "execution_count": 16,
   "metadata": {},
   "outputs": [],
   "source": [
    "# Grab input-output data from single episode \n",
    "U_era = U_fom[:,:,0]\n",
    "Y_era = Y_fom[:,:,0]\n",
    "# # Center output data around initial conditions\n",
    "# Y_offset_era = Y_era[:,0].reshape(-1,1)\n",
    "# Y_era = Y_era - Y_offset_era\n",
    "\n"
   ]
  },
  {
   "attachments": {},
   "cell_type": "markdown",
   "metadata": {},
   "source": [
    "### OKID Algorithm "
   ]
  },
  {
   "cell_type": "code",
   "execution_count": 17,
   "metadata": {},
   "outputs": [],
   "source": [
    "YY = Y_era\n",
    "UU_size = (U_era.shape[0]*U_era.shape[1],U_era.shape[1])\n",
    "UU = da.zeros(UU_size)\n",
    "\n",
    "for i in range(U_era.shape[1]):\n",
    "    startRow = i*U_era.shape[0]\n",
    "    endRow = (i+1)*U_era.shape[0]\n",
    "    UU[startRow:endRow,i:] = U_era[:,0:(U_era.shape[1]-i)]\n",
    "\n",
    "# compute pseudoinverse of input matrix using SVD\n",
    "U_UU, S_UU, Vh_UU = da.linalg.svd(UU)\n",
    "UU_pinv = da.matmul(da.transpose(Vh_UU),da.matmul(da.diag(1/S_UU),da.transpose(U_UU)))\n",
    "# UU_pinv = da.linalg.pinv(UU)\n",
    "# Solve for impulse response  \n",
    "IR = da.matmul(YY,UU_pinv)\n",
    "\n",
    "# IR = da.linalg.lstsq(da.transpose(YY),da.transpose(UU)) # solves for transpose of impulse response\n",
    "\n",
    "# IR = da.transpose(IR) # transpose to get impulse response\n"
   ]
  },
  {
   "cell_type": "code",
   "execution_count": 18,
   "metadata": {},
   "outputs": [
    {
     "name": "stdout",
     "output_type": "stream",
     "text": [
      "(40, 1200)\n",
      "done\n"
     ]
    }
   ],
   "source": [
    "# Compute things to limit growth of computation graph\n",
    "IR = IR.compute()\n",
    "print(IR.shape)\n",
    "# IR = da.from_array(IR)\n",
    "print(\"done\")"
   ]
  },
  {
   "attachments": {},
   "cell_type": "markdown",
   "metadata": {},
   "source": [
    "### Eigensystem Realization Algorithm"
   ]
  },
  {
   "cell_type": "code",
   "execution_count": 19,
   "metadata": {},
   "outputs": [],
   "source": [
    "# Form Hankel matrix for ERA \n",
    "N = int(n_timesteps/2-1)\n",
    "H_size = (m*N,l*N)\n",
    "\n",
    "H = np.zeros(H_size)\n",
    "Hprime = np.zeros(H_size)\n",
    "\n",
    "for i in range(N):\n",
    "    startRow = m*i \n",
    "    endRow = m*(i+1)\n",
    "    H[startRow:endRow,:]=IR[:,l*(1+i):l*(1+i+N)]\n",
    "    Hprime[startRow:endRow,:]=IR[:,l*(2+i):l*(2+i+N)]\n"
   ]
  },
  {
   "cell_type": "code",
   "execution_count": 20,
   "metadata": {},
   "outputs": [
    {
     "data": {
      "text/plain": [
       "(40, 1200)"
      ]
     },
     "execution_count": 20,
     "metadata": {},
     "output_type": "execute_result"
    }
   ],
   "source": [
    "IR.shape"
   ]
  },
  {
   "cell_type": "code",
   "execution_count": 21,
   "metadata": {},
   "outputs": [],
   "source": [
    "H = da.from_array(H, chunks=(2048,H.shape[1]))\n",
    "Hprime = da.from_array(Hprime, chunks=(2048,Hprime.shape[1]))\n",
    "IR = da.from_array(IR, chunks=(IR.shape[0],4096))"
   ]
  },
  {
   "cell_type": "code",
   "execution_count": 22,
   "metadata": {},
   "outputs": [],
   "source": [
    "# Get SVD of Hankel matrix\n",
    "U, S, Vh = da.linalg.svd_compressed(H, 100)\n",
    "# Vh = V.conj().T"
   ]
  },
  {
   "cell_type": "code",
   "execution_count": 23,
   "metadata": {},
   "outputs": [
    {
     "name": "stdout",
     "output_type": "stream",
     "text": [
      "Shape of U:  (3960, 100)\n",
      "Shape of S:  (100,)\n",
      "Shape of Vh:  (100, 594)\n"
     ]
    }
   ],
   "source": [
    "# Print shapes of matrices\n",
    "print(\"Shape of U: \", U.shape)\n",
    "print(\"Shape of S: \", S.shape)\n",
    "print(\"Shape of Vh: \", Vh.shape)"
   ]
  },
  {
   "cell_type": "code",
   "execution_count": 24,
   "metadata": {},
   "outputs": [],
   "source": [
    "# Truncate SVD\n",
    "U = U[:,:n_ROM]\n",
    "S = da.diag(S[:n_ROM])\n",
    "Vh = Vh[:n_ROM,:]"
   ]
  },
  {
   "cell_type": "code",
   "execution_count": 25,
   "metadata": {},
   "outputs": [
    {
     "name": "stdout",
     "output_type": "stream",
     "text": [
      "Shape of U:  (3960, 12)\n",
      "Shape of S:  (12, 12)\n",
      "Shape of Vh:  (12, 594)\n"
     ]
    }
   ],
   "source": [
    "# Print shapes of matrices\n",
    "print(\"Shape of U: \", U.shape)\n",
    "print(\"Shape of S: \", S.shape)\n",
    "print(\"Shape of Vh: \", Vh.shape)"
   ]
  },
  {
   "cell_type": "code",
   "execution_count": 26,
   "metadata": {},
   "outputs": [],
   "source": [
    "# Compute trunacted SVD values\n",
    "U, S, Vh = da.compute(U, S, Vh)\n",
    "# S = S.compute()\n",
    "# Vh = Vh.compute()"
   ]
  },
  {
   "cell_type": "code",
   "execution_count": 27,
   "metadata": {},
   "outputs": [
    {
     "name": "stdout",
     "output_type": "stream",
     "text": [
      "SVD matrices:\n",
      "U:  (3960, 12)\n",
      "S:  (12, 12)\n",
      "V:  (12, 594)\n"
     ]
    }
   ],
   "source": [
    "# Print sizes of SVD matrices\n",
    "print(\"SVD matrices:\")\n",
    "print(\"U: \", U.shape)\n",
    "print(\"S: \", S.shape)\n",
    "print(\"V: \", Vh.shape)"
   ]
  },
  {
   "cell_type": "code",
   "execution_count": 28,
   "metadata": {},
   "outputs": [],
   "source": [
    "# Convert np arrays back into dask arrays\n",
    "U = da.from_array(U)\n",
    "Vh = da.from_array(Vh)\n",
    "S = da.from_array(S)"
   ]
  },
  {
   "cell_type": "code",
   "execution_count": 29,
   "metadata": {},
   "outputs": [],
   "source": [
    "# Solve for system matrices\n",
    "Sigma_tilde_is = da.linalg.inv(da.sqrt(S)) # inverse squareroot of sigma matrix\n",
    "Sigma_tilde_sqrt = da.sqrt(S) # squareroot of sigma matrix\n",
    "\n",
    "\n",
    "Em = da.concatenate([da.eye(l),da.zeros((l*(N-1),l))],axis=0)\n",
    "Ep = da.concatenate([da.eye(m),da.zeros((m*(N-1),m))],axis=0)\n",
    "\n",
    "A_era = da.matmul(da.matmul(da.matmul(da.matmul(Sigma_tilde_is,da.transpose(U)),Hprime),da.transpose(Vh)),Sigma_tilde_is)\n",
    "B_era = da.matmul(da.matmul(Sigma_tilde_sqrt,Vh),Em)\n",
    "C_era = da.matmul(da.transpose(Ep),da.matmul(U,Sigma_tilde_sqrt))\n",
    "D_era = IR[:,:l]\n"
   ]
  },
  {
   "cell_type": "code",
   "execution_count": 30,
   "metadata": {},
   "outputs": [],
   "source": [
    "# A_era = A_era.compute()\n",
    "# B_era = B_era.compute()\n",
    "# C_era = C_era.compute()\n",
    "# D_era = D_era.compute()\n",
    "\n",
    "A_era, B_era, C_era, D_era = da.compute(A_era, B_era, C_era, D_era)"
   ]
  },
  {
   "cell_type": "code",
   "execution_count": 31,
   "metadata": {},
   "outputs": [],
   "source": [
    "# Save system matrices, projection mappings, and initial offset into file for later use\n",
    "np.savez(filepath+f\"eraSystemMatricesRefactor_{n_ROM}dim_{n_train}train_{n_test}test.npz\", A_era=A_era, B_era=B_era, C_era=C_era, D_era=D_era, x0=x0, y0=y0)\n",
    "# save as .mat file\n",
    "scipy.io.savemat(filepath+f\"eraSystemMatricesRefactor_{n_ROM}dim_{n_train}train_{n_test}test.mat\", mdict={'A_era': A_era, 'B_era': B_era, 'C_era': C_era, 'D_era': D_era, 'x0': x0, 'y0': y0})"
   ]
  },
  {
   "cell_type": "code",
   "execution_count": 32,
   "metadata": {},
   "outputs": [],
   "source": [
    "# clean up memory except for system matrices\n",
    "del U_era, Y_era, YY, UU, IR, H, Hprime, U, S, Vh, Sigma_tilde_is, Sigma_tilde_sqrt, Em, Ep\n"
   ]
  },
  {
   "attachments": {},
   "cell_type": "markdown",
   "metadata": {},
   "source": [
    "## DMDc"
   ]
  },
  {
   "attachments": {},
   "cell_type": "markdown",
   "metadata": {},
   "source": [
    "### Setup Data Matrices"
   ]
  },
  {
   "cell_type": "code",
   "execution_count": 34,
   "metadata": {},
   "outputs": [
    {
     "name": "stdout",
     "output_type": "stream",
     "text": [
      "0\n",
      "1\n",
      "2\n",
      "3\n",
      "4\n"
     ]
    }
   ],
   "source": [
    "# Initialize data matrices for training and testing\n",
    "X_train = da.zeros((n,(n_timesteps-1)*n_train))#, chunks=(128,(n_timesteps-1)*n_train))\n",
    "Xprime_train = da.zeros((n,(n_timesteps-1)*n_train))#, chunks=(128,(n_timesteps-1)*n_train))\n",
    "Upsilon_train = da.zeros((l,(n_timesteps-1)*n_train))#, chunks=(l,512))\n",
    "Y_train = da.zeros((m,(n_timesteps-1)*n_train))#, chunks=(m,128))\n",
    "# Load in data from training episodes\n",
    "for i in range(n_train):\n",
    "    print(i)\n",
    "    X_train[:,i*(n_timesteps-1):(i+1)*(n_timesteps-1)] = X_fom[:,:-1,i]\n",
    "    Xprime_train[:,i*(n_timesteps-1):(i+1)*(n_timesteps-1)] = X_fom[:,1:,i]\n",
    "    Upsilon_train[:,i*(n_timesteps-1):(i+1)*(n_timesteps-1)] = U_fom[:,:-1,i]\n",
    "    Y_train[:,i*(n_timesteps-1):(i+1)*(n_timesteps-1)] = Y_fom[:,:-1,i]\n"
   ]
  },
  {
   "cell_type": "code",
   "execution_count": 35,
   "metadata": {},
   "outputs": [],
   "source": [
    "# Form snapshot matrices for DMDc\n",
    "Omega = da.concatenate([X_train,Upsilon_train],axis=0)\n",
    "# Omega = Omega.rechunk((Omega.shape[0],1))\n",
    "# Omega\n"
   ]
  },
  {
   "attachments": {},
   "cell_type": "markdown",
   "metadata": {},
   "source": [
    "### Solve for Discrete Time System Matrices"
   ]
  },
  {
   "cell_type": "code",
   "execution_count": 36,
   "metadata": {},
   "outputs": [],
   "source": [
    "# Decompose snapshot matrix using truncated SVD\n",
    "p_dmd = 1024\n",
    "r_dmd = n_ROM\n",
    "\n",
    "U_tilde,Sigma_tilde,Vh_tilde = da.linalg.svd_compressed(Omega, p_dmd)\n",
    "# Vh_tilde = da.conj(da.transpose(V_tilde))\n",
    "Sigma_tilde = da.diag(Sigma_tilde)\n",
    "U_hat, Sigma_hat, V_hat = da.linalg.svd_compressed(Xprime_train, r_dmd)\n",
    "Sigma_hat = da.diag(Sigma_hat)\n",
    "\n"
   ]
  },
  {
   "cell_type": "code",
   "execution_count": 37,
   "metadata": {},
   "outputs": [
    {
     "name": "stdout",
     "output_type": "stream",
     "text": [
      "U_tilde shape:  (226947, 995)\n",
      "Sigma_tilde shape:  (995, 995)\n",
      "Vh_tilde shape:  (995, 995)\n"
     ]
    }
   ],
   "source": [
    "# Print shapes of svd matrices\n",
    "print(\"U_tilde shape: \", U_tilde.shape)\n",
    "print(\"Sigma_tilde shape: \", Sigma_tilde.shape)\n",
    "print(\"Vh_tilde shape: \", Vh_tilde.shape)"
   ]
  },
  {
   "cell_type": "code",
   "execution_count": 38,
   "metadata": {},
   "outputs": [],
   "source": [
    "# Compute system state evolution matrices\n",
    "U_tilde_1 = U_tilde[0:n,:]\n",
    "U_tilde_2 = U_tilde[n:,:]\n",
    "A_dmdc = (U_hat.conj().T)@Xprime_train@(Vh_tilde.conj().T)@(da.linalg.inv(Sigma_tilde))@(U_tilde_1.conj().T)@U_hat\n",
    "B_dmdc = (U_hat.conj().T)@Xprime_train@(Vh_tilde.conj().T)@(da.linalg.inv(Sigma_tilde))@(U_tilde_2.conj().T)"
   ]
  },
  {
   "cell_type": "code",
   "execution_count": 39,
   "metadata": {},
   "outputs": [],
   "source": [
    "# U_tilde_1.compute()"
   ]
  },
  {
   "cell_type": "code",
   "execution_count": 40,
   "metadata": {},
   "outputs": [],
   "source": [
    "# Solve for system output matrix from full order system\n",
    "ys = Y_train[:,0:10]\n",
    "\n",
    "# compute approximate pseudoinverse of data matrix using SVD\n",
    "# X_train = X_train.rechunk((2000,X_train.shape[1])) # Rechunk along one dimension\n",
    "U_X_train, S_X_train, Vh_X_train = da.linalg.svd(X_train[:,0:10])\n",
    "X_PI = da.matmul(da.transpose(Vh_X_train),da.matmul(da.diag(S_X_train),da.transpose(U_X_train)))\n",
    "\n",
    "\n",
    "# # X_PI = np.linalg.pinv(X_train[:,0:10])\n",
    "C_dmdc = ys@X_PI\n",
    "C_dmdc = C_dmdc@U_hat\n"
   ]
  },
  {
   "cell_type": "code",
   "execution_count": 41,
   "metadata": {},
   "outputs": [
    {
     "name": "stdout",
     "output_type": "stream",
     "text": [
      "Shape of U_X_train:  (226941, 10)\n",
      "Shape of S_X_train:  (10,)\n",
      "Shape of Vh_X_train:  (10, 10)\n"
     ]
    }
   ],
   "source": [
    "# Print shape of svd matrices\n",
    "print(\"Shape of U_X_train: \", U_X_train.shape)\n",
    "print(\"Shape of S_X_train: \", S_X_train.shape)\n",
    "print(\"Shape of Vh_X_train: \", Vh_X_train.shape)"
   ]
  },
  {
   "cell_type": "code",
   "execution_count": 42,
   "metadata": {},
   "outputs": [
    {
     "name": "stdout",
     "output_type": "stream",
     "text": [
      "Computing System Matrices\n"
     ]
    }
   ],
   "source": [
    "# Execute computations for dmdc system matrices\n",
    "print(\"Computing System Matrices\")\n",
    "A_dmdc, B_dmdc, C_dmdc,U_hat = da.compute(A_dmdc, B_dmdc, C_dmdc,U_hat)\n",
    "# A_dmdc = A_dmdc.compute()\n",
    "# print(\"Computing B_dmdc\")\n",
    "# B_dmdc = B_dmdc.compute()\n",
    "# print(\"Computing C_dmdc\")\n",
    "# C_dmdc = C_dmdc.compute()\n",
    "# print(\"Done\")\n"
   ]
  },
  {
   "cell_type": "code",
   "execution_count": 43,
   "metadata": {},
   "outputs": [],
   "source": [
    "# Save system matrices, projection mappings, and initial offset into file for later use\n",
    "np.savez(filepath+f\"dmdcSystemMatricesRefactor_{n_ROM}dim_{n_train}train_{n_test}test.npz\", A_dmdc=A_dmdc, B_dmdc=B_dmdc, C_dmdc=C_dmdc, basis_dmdc = U_hat, x0=x0, y0=y0)\n",
    "# save as .mat file\n",
    "scipy.io.savemat(filepath+f\"dmdcSystemMatricesRefactor_{n_ROM}dim_{n_train}train_{n_test}test.mat\", mdict={'A_dmdc': A_dmdc, 'B_dmdc': B_dmdc, 'C_dmdc': C_dmdc, 'basis_dmdc': U_hat, 'x0': x0, 'y0': y0})"
   ]
  },
  {
   "cell_type": "code",
   "execution_count": 44,
   "metadata": {},
   "outputs": [],
   "source": [
    "# Clean up memory except for system matrices\n",
    "del  Xprime_train, Upsilon_train, Omega, U_tilde, Sigma_tilde, Vh_tilde, Sigma_hat, V_hat, U_tilde_1, U_tilde_2, X_PI, ys"
   ]
  },
  {
   "attachments": {},
   "cell_type": "markdown",
   "metadata": {},
   "source": [
    "## LOpInf"
   ]
  },
  {
   "cell_type": "code",
   "execution_count": 46,
   "metadata": {},
   "outputs": [],
   "source": [
    "# Read in continuous time operators from file\n",
    "mat = scipy.io.loadmat(filepath+'lopinf_rom_r_6_operators.mat')\n",
    "Bhat_lopinf = mat['Bhat']\n",
    "Chat_lopinf = mat['Chat']\n",
    "Ehat_lopinf = mat['Ehat']\n",
    "Khat_lopinf = mat['Khat']\n",
    "Mhat_lopinf = mat['Mhat']\n",
    "basis_lopinf = mat['V']\n",
    "# Form continuous time linear state space matrices\n",
    "A_lopinf_ct = np.block([\n",
    "    [np.zeros((n_ROM//2,n_ROM//2)),np.eye(n_ROM//2)],\n",
    "    [-Khat_lopinf, -Chat_lopinf]\n",
    "])\n",
    "B_lopinf_ct = np.block([\n",
    "    [np.zeros((n_ROM//2,l))],\n",
    "    [Bhat_lopinf]\n",
    "])\n",
    "C_lopinf_ct = np.block([\n",
    "    [Ehat_lopinf, np.zeros((m,n_ROM//2))]\n",
    "])\n",
    "D_lopinf_ct = np.zeros((m,l))\n",
    "# Convert continuous time operators to discrete time operators\n",
    "A_lopinf_dt = scipy.linalg.expm(A_lopinf_ct*dt)\n",
    "B_lopinf_dt = (A_lopinf_dt-np.eye(n_ROM))@np.linalg.inv(A_lopinf_ct)@B_lopinf_ct\n",
    "C_lopinf_dt = C_lopinf_ct\n",
    "D_lopinf_dt = D_lopinf_ct"
   ]
  },
  {
   "cell_type": "code",
   "execution_count": 47,
   "metadata": {},
   "outputs": [],
   "source": [
    "# Save system matrices, projection mappings, and initial offset into file for later use\n",
    "np.savez(filepath+f\"lopinfSystemMatricesRefactor_{n_ROM}dim_{n_train}train_{n_test}test.npz\", A_lopinf=A_lopinf_dt,B_lopinf=B_lopinf_dt,C_lopinf=C_lopinf_dt,D_lopinf = D_lopinf_dt,basis_lopinf = basis_lopinf, x0=x0, y0=y0)\n",
    "# save as .mat file\n",
    "scipy.io.savemat(filepath+f\"dmdcSystemMatricesRefactor_{n_ROM}dim_{n_train}train_{n_test}test.mat\", mdict={'A_lopinf': A_lopinf_dt, 'B_lopinf': B_lopinf_dt, 'C_lopinf': C_lopinf_dt, 'D_lopinf': D_lopinf_dt, 'basis_lopinf':basis_lopinf, 'x0': x0, 'y0': y0})"
   ]
  },
  {
   "attachments": {},
   "cell_type": "markdown",
   "metadata": {},
   "source": [
    "# Save System Matrices for Control Experiments\n"
   ]
  },
  {
   "cell_type": "code",
   "execution_count": 48,
   "metadata": {},
   "outputs": [],
   "source": [
    "# Save system matrices, projection mappings, and initial offset into file for later use\n",
    "np.savez(filepath+f\"romSystemMatricesRefactor_{n_ROM}dim_{n_train}train_{n_test}test.npz\", A_era=A_era, B_era=B_era, C_era=C_era, D_era=D_era, A_dmdc=A_dmdc, B_dmdc=B_dmdc, C_dmdc=C_dmdc, basis_dmdc = U_hat, A_lopinf=A_lopinf_dt,B_lopinf=B_lopinf_dt,C_lopinf=C_lopinf_dt,D_lopinf = D_lopinf_dt, x0=x0, y0=y0)\n",
    "# save as .mat file\n",
    "scipy.io.savemat(filepath+f\"romSystemMatricesRefactor_{n_ROM}dim_{n_train}train_{n_test}test.mat\", mdict={'A_era': A_era, 'B_era': B_era, 'C_era': C_era, 'D_era': D_era, 'A_dmdc': A_dmdc, 'B_dmdc': B_dmdc, 'C_dmdc': C_dmdc, 'basis_dmdc': U_hat, 'A_lopinf': A_lopinf_dt, 'B_lopinf': B_lopinf_dt, 'C_lopinf': C_lopinf_dt, 'D_lopinf': D_lopinf_dt, 'x0': x0, 'y0': y0})"
   ]
  },
  {
   "attachments": {},
   "cell_type": "markdown",
   "metadata": {},
   "source": [
    "# Verification Experiments"
   ]
  },
  {
   "attachments": {},
   "cell_type": "markdown",
   "metadata": {},
   "source": [
    "## Simulate System Responses from Training and Test Episodes"
   ]
  },
  {
   "attachments": {},
   "cell_type": "markdown",
   "metadata": {},
   "source": [
    "### OKID/ERA"
   ]
  },
  {
   "cell_type": "code",
   "execution_count": 49,
   "metadata": {},
   "outputs": [],
   "source": [
    "# Initialize data matrices for training and testing responses\n",
    "X_hat_rom_era = np.zeros((n_ROM,n_timesteps,n_train+n_test))\n",
    "Y_hat_rom_era = np.zeros((m,n_timesteps,n_train+n_test))\n",
    "U_fom = U_fom.compute()\n",
    "# Set initial conditions for each episode\n",
    "for i in range(n_train+n_test):\n",
    "    # Set initial states\n",
    "    X_hat_rom_era[:,[0],i] = np.zeros((n_ROM,1)) #X_fom[:,[0],i]\n",
    "    # Compute initial outputs for each episode\n",
    "    Y_hat_rom_era[:,[0],i] = C_era@X_hat_rom_era[:,[0],i] + D_era@U_fom[:,[0],i]\n"
   ]
  },
  {
   "cell_type": "code",
   "execution_count": 50,
   "metadata": {},
   "outputs": [],
   "source": [
    "# Simulate ERA ROM for all episodes\n",
    "for i in range(n_train+n_test):\n",
    "    # Simulate ERA ROM\n",
    "    for j in range(n_timesteps-1):\n",
    "        X_hat_rom_era[:,[j+1],i] = A_era@X_hat_rom_era[:,[j],i] + B_era@U_fom[:,[j],i]\n",
    "        Y_hat_rom_era[:,[j+1],i] = C_era@X_hat_rom_era[:,[j+1],i] + D_era@U_fom[:,[j+1],i]\n"
   ]
  },
  {
   "cell_type": "code",
   "execution_count": 51,
   "metadata": {},
   "outputs": [],
   "source": [
    "# Uncenter output data with initial conditions for each episode\n",
    "for i in range(n_train+n_test):\n",
    "    Y_hat_rom_era[:,:,i] = Y_hat_rom_era[:,:,i] + Y0[:,i].reshape(m,1)\n"
   ]
  },
  {
   "cell_type": "code",
   "execution_count": 52,
   "metadata": {},
   "outputs": [
    {
     "data": {
      "text/plain": [
       "array([[[-240.11200537, -240.11085604, -240.10442101, ...,\n",
       "         -240.11200289, -240.11342892, -240.10912391],\n",
       "        [-240.10139761, -240.10074811, -240.09780682, ...,\n",
       "         -240.11869774, -240.11643231, -240.10433679],\n",
       "        [-240.08134313, -240.09002462, -240.0876003 , ...,\n",
       "         -240.11273697, -240.11792374, -240.09642698],\n",
       "        ...,\n",
       "        [-247.05056518, -237.23403351, -235.46319515, ...,\n",
       "         -240.23434224, -242.70818733, -239.86097278],\n",
       "        [-247.08511785, -237.26499863, -235.4479084 , ...,\n",
       "         -240.19781046, -242.72849827, -239.86436243],\n",
       "        [-247.11794675, -237.3041937 , -235.42289766, ...,\n",
       "         -240.16146384, -242.74631409, -239.86335587]],\n",
       "\n",
       "       [[-253.62594583, -253.62861789, -253.62179315, ...,\n",
       "         -253.6204856 , -253.62240838, -253.62000879],\n",
       "        [-253.6134996 , -253.61658739, -253.61164777, ...,\n",
       "         -253.62401623, -253.61451158, -253.61628526],\n",
       "        [-253.59706531, -253.61034101, -253.61013833, ...,\n",
       "         -253.62684108, -253.60696969, -253.62107912],\n",
       "        ...,\n",
       "        [-252.93050903, -253.67514972, -254.32906941, ...,\n",
       "         -252.89592067, -252.55399282, -254.06404138],\n",
       "        [-252.90292149, -253.64451911, -254.31098253, ...,\n",
       "         -252.88285651, -252.55570581, -254.05256828],\n",
       "        [-252.8750671 , -253.61690274, -254.29180391, ...,\n",
       "         -252.8595769 , -252.54067514, -254.03892876]],\n",
       "\n",
       "       [[-240.11972316, -240.11865295, -240.11785362, ...,\n",
       "         -240.12070136, -240.12074132, -240.11934268],\n",
       "        [-240.1192961 , -240.11785287, -240.11757204, ...,\n",
       "         -240.12283896, -240.12251686, -240.1191134 ],\n",
       "        [-240.11922743, -240.11759665, -240.11569229, ...,\n",
       "         -240.12232787, -240.12571609, -240.11679484],\n",
       "        ...,\n",
       "        [-245.46827966, -238.1293174 , -236.5223502 , ...,\n",
       "         -240.71968123, -242.7448577 , -239.42747494],\n",
       "        [-245.47549266, -238.12800274, -236.50952903, ...,\n",
       "         -240.71642074, -242.74394559, -239.41445289],\n",
       "        [-245.48180437, -238.1286945 , -236.4973939 , ...,\n",
       "         -240.71181895, -242.7412186 , -239.40038009]],\n",
       "\n",
       "       ...,\n",
       "\n",
       "       [[ 334.58151337,  334.5886926 ,  334.57216045, ...,\n",
       "          334.5705659 ,  334.56773567,  334.57034789],\n",
       "        [ 334.56588624,  334.56318931,  334.56735662, ...,\n",
       "          334.56793425,  334.55046992,  334.5579746 ],\n",
       "        [ 334.52655809,  334.55679084,  334.53158703, ...,\n",
       "          334.54343855,  334.52317026,  334.56149317],\n",
       "        ...,\n",
       "        [ 331.66383215,  333.48265575,  337.18120771, ...,\n",
       "          333.4271105 ,  332.57095113,  336.22317792],\n",
       "        [ 331.65751137,  333.49951612,  337.12792775, ...,\n",
       "          333.42620208,  332.58773933,  336.30484239],\n",
       "        [ 331.64483637,  333.51076996,  337.04921483, ...,\n",
       "          333.40484812,  332.59418157,  336.36728179]],\n",
       "\n",
       "       [[-240.0134338 , -240.0113199 , -240.00166805, ...,\n",
       "         -240.00994128, -240.0156156 , -240.00509899],\n",
       "        [-240.02466247, -240.01784158, -239.95454773, ...,\n",
       "         -239.99398389, -240.02005935, -239.98811344],\n",
       "        [-240.05851131, -240.01696527, -239.91864491, ...,\n",
       "         -239.98489419, -240.01330575, -239.98030815],\n",
       "        ...,\n",
       "        [-262.2038613 , -235.78830226, -224.69928755, ...,\n",
       "         -244.91127871, -251.95337032, -235.04311065],\n",
       "        [-262.18219847, -235.88140094, -224.78339847, ...,\n",
       "         -244.94687418, -252.04058079, -234.93179221],\n",
       "        [-262.17461687, -235.9755238 , -224.87990268, ...,\n",
       "         -244.97084553, -252.13450239, -234.81076432]],\n",
       "\n",
       "       [[ 366.85498693,  366.8647429 ,  366.84210613, ...,\n",
       "          366.84019066,  366.83607136,  366.83944419],\n",
       "        [ 366.83562654,  366.83050349,  366.83354173, ...,\n",
       "          366.83629646,  366.81301561,  366.82243752],\n",
       "        [ 366.7842538 ,  366.82293574,  366.78523515, ...,\n",
       "          366.80468343,  366.77657302,  366.82826018],\n",
       "        ...,\n",
       "        [ 363.41704432,  365.50707016,  370.01499101, ...,\n",
       "          365.39992812,  364.34877943,  368.9092739 ],\n",
       "        [ 363.40294656,  365.53252311,  369.94611067, ...,\n",
       "          365.39557724,  364.37234581,  369.00805144],\n",
       "        [ 363.38218861,  365.55164772,  369.84503997, ...,\n",
       "          365.36362282,  364.38268425,  369.08211642]]])"
      ]
     },
     "execution_count": 52,
     "metadata": {},
     "output_type": "execute_result"
    }
   ],
   "source": [
    "Y_hat_rom_era"
   ]
  },
  {
   "cell_type": "code",
   "execution_count": 53,
   "metadata": {},
   "outputs": [],
   "source": [
    "# Clear some memory\n",
    "del X_hat_rom_era"
   ]
  },
  {
   "attachments": {},
   "cell_type": "markdown",
   "metadata": {},
   "source": [
    "### DMDc"
   ]
  },
  {
   "cell_type": "code",
   "execution_count": 55,
   "metadata": {},
   "outputs": [],
   "source": [
    "# Initialize data matrices for training and testing responses\n",
    "X_hat_rom_dmdc = np.zeros((n_ROM,n_timesteps,n_train+n_test))\n",
    "X_hat_fom_dmdc = np.zeros((n,n_timesteps,n_train+n_test))\n",
    "Y_hat_rom_dmdc = np.zeros((m,n_timesteps,n_train+n_test))\n",
    "# Set initial conditions for each episode\n",
    "for i in range(n_train+n_test):\n",
    "    # Set initial states\n",
    "    X_hat_rom_dmdc[:,[0],i] = np.zeros((n_ROM,1)) #X_fom[:,[0],i]\n",
    "    # X_hat_fom_dmdc[:,[0],i] = X_fom[:,[0],i]\n",
    "    # Compute initial outputs for each episode\n",
    "    Y_hat_rom_dmdc[:,[0],i] = C_dmdc@X_hat_rom_dmdc[:,[0],i]"
   ]
  },
  {
   "cell_type": "code",
   "execution_count": 56,
   "metadata": {},
   "outputs": [],
   "source": [
    "# Simulate DMDc ROM for all episodes\n",
    "for i in range(n_train+n_test):\n",
    "    # Simulate DMDc ROM\n",
    "    for j in range(n_timesteps-1):\n",
    "        X_hat_rom_dmdc[:,[j+1],i] = A_dmdc@X_hat_rom_dmdc[:,[j],i] + B_dmdc@U_fom[:,[j],i]\n",
    "        # X_hat_fom_dmdc[:,[j+1],i] = U_hat@X_hat_rom_dmdc[:,[j+1],i] # Compute full order state from reduced order state\n",
    "        Y_hat_rom_dmdc[:,[j+1],i] = C_dmdc@X_hat_rom_dmdc[:,[j+1],i]"
   ]
  },
  {
   "cell_type": "code",
   "execution_count": 57,
   "metadata": {},
   "outputs": [],
   "source": [
    "# Uncenter FOM state and output data with initial conditions for each episode\n",
    "for i in range(n_train+n_test):\n",
    "    # X_hat_fom_dmdc[:,:,i] = X_hat_fom_dmdc[:,:,i] + X0[:,i].reshape(n,1)\n",
    "    Y_hat_rom_dmdc[:,:,i] = Y_hat_rom_dmdc[:,:,i] + Y0[:,i].reshape(m,1)"
   ]
  },
  {
   "cell_type": "code",
   "execution_count": 58,
   "metadata": {},
   "outputs": [],
   "source": [
    "# Clear some memory\n",
    "del X_hat_rom_dmdc, X_hat_fom_dmdc"
   ]
  },
  {
   "attachments": {},
   "cell_type": "markdown",
   "metadata": {},
   "source": [
    "### LOpInf"
   ]
  },
  {
   "cell_type": "code",
   "execution_count": 59,
   "metadata": {},
   "outputs": [
    {
     "name": "stdout",
     "output_type": "stream",
     "text": [
      "gothere\n"
     ]
    }
   ],
   "source": [
    "# Read in data from LOpInf Trials\n",
    "\n",
    "# Read in data from LOpInf Trials hdf5 file\n",
    "data = h5py.File(filepath+ \"lopinf_rom_r_6.hdf5\", 'r')\n",
    "print(\"gothere\")\n",
    "Y_hat_rom_lopinf = da.from_array(data[\"outputData_approx\"], chunks=(4096, 4096,1))\n",
    "X_hat_rom_lopinf = da.from_array(data[\"stateData_approx\"], chunks=(4096, 4096,1))\n",
    "\n",
    "\n",
    "\n",
    "\n",
    "# mat = mat73.loadmat(filepath+'lopinf_rom_r_6.mat')\n",
    "# X_hat_rom_lopinf = mat['stateData_approx']\n",
    "# Y_hat_rom_lopinf = mat['outputData_approx']\n"
   ]
  },
  {
   "cell_type": "code",
   "execution_count": 60,
   "metadata": {},
   "outputs": [],
   "source": [
    "del mat"
   ]
  },
  {
   "cell_type": "code",
   "execution_count": 61,
   "metadata": {},
   "outputs": [],
   "source": [
    "# Also generate outputs from LOpInf discrete time model\n",
    "# Initialize data matrices for training and testing responses\n",
    "X_hat_rom_lopinf_dt = np.zeros((n_ROM,n_timesteps,n_train+n_test))\n",
    "X_hat_fom_lopinf_dt = np.zeros((n,n_timesteps,n_train+n_test))\n",
    "Y_hat_rom_lopinf_dt = np.zeros((m,n_timesteps,n_train+n_test))\n",
    "# Set initial conditions for each episode\n",
    "for i in range(n_train+n_test):\n",
    "    # Set initial states\n",
    "    X_hat_rom_lopinf_dt[:,[0],i] = np.zeros((n_ROM,1)) #X_fom[:,[0],i]\n",
    "    # X_hat_fom_lopinf_dt[:,[0],i] = X_fom[:,[0],i]\n",
    "    # Compute initial outputs for each episode\n",
    "    Y_hat_rom_lopinf_dt[:,[0],i] = C_lopinf_dt@X_hat_rom_lopinf_dt[:,[0],i]\n"
   ]
  },
  {
   "cell_type": "code",
   "execution_count": 62,
   "metadata": {},
   "outputs": [],
   "source": [
    "# Simulate LOpInf discrete time ROM for all episodes\n",
    "for i in range(n_train+n_test):\n",
    "    # Simulate LOpInf discrete time ROM\n",
    "    for j in range(n_timesteps-1):\n",
    "        X_hat_rom_lopinf_dt[:,[j+1],i] = A_lopinf_dt@X_hat_rom_lopinf_dt[:,[j],i] + B_lopinf_dt@U_fom[:,[j],i]\n",
    "        Y_hat_rom_lopinf_dt[:,[j+1],i] = C_lopinf_dt@X_hat_rom_lopinf_dt[:,[j+1],i]"
   ]
  },
  {
   "cell_type": "code",
   "execution_count": 63,
   "metadata": {},
   "outputs": [],
   "source": [
    "# Uncenter FOM state and output data with initial conditions for each episode\n",
    "for i in range(n_train+n_test):\n",
    "    Y_hat_rom_lopinf_dt[:,:,i] = Y_hat_rom_lopinf_dt[:,:,i] + Y0[:,i].reshape(m,1)"
   ]
  },
  {
   "attachments": {},
   "cell_type": "markdown",
   "metadata": {},
   "source": [
    "### Uncenter Full Order Model"
   ]
  },
  {
   "cell_type": "code",
   "execution_count": 68,
   "metadata": {},
   "outputs": [
    {
     "name": "stdout",
     "output_type": "stream",
     "text": [
      "gothere\n"
     ]
    }
   ],
   "source": [
    "# Read in all again data to get uncentered versions\n",
    "data = h5py.File(filepath+ \"processedDataSet.hdf5\", 'r')\n",
    "print(\"gothere\")\n",
    "X_fom = da.from_array(data[\"stateData\"], chunks=(4096, 4096,1))\n",
    "U_fom = da.from_array(data[\"inputData\"], chunks=(4096, 4096,1))\n",
    "Y_fom = da.from_array(data[\"reducedCenterlineData\"], chunks=(4096, 4096,1))"
   ]
  },
  {
   "attachments": {},
   "cell_type": "markdown",
   "metadata": {},
   "source": [
    "## Response Visualizations"
   ]
  },
  {
   "cell_type": "code",
   "execution_count": 69,
   "metadata": {},
   "outputs": [],
   "source": [
    "t = np.arange(0,dt*n_timesteps,dt)"
   ]
  },
  {
   "attachments": {},
   "cell_type": "markdown",
   "metadata": {},
   "source": [
    "### First Output Response"
   ]
  },
  {
   "attachments": {},
   "cell_type": "markdown",
   "metadata": {},
   "source": [
    "#### Training Set 1"
   ]
  },
  {
   "cell_type": "code",
   "execution_count": 70,
   "metadata": {},
   "outputs": [
    {
     "data": {
      "text/plain": [
       "Text(0.5, 1.0, 'First Output from First Training Episode')"
      ]
     },
     "execution_count": 70,
     "metadata": {},
     "output_type": "execute_result"
    },
    {
     "data": {
      "image/png": "[encoded data removed]",
      "text/plain": [
       "<Figure size 640x480 with 1 Axes>"
      ]
     },
     "metadata": {},
     "output_type": "display_data"
    }
   ],
   "source": [
    "# Plot first output from first training episode for all modelling methods\n",
    "plt.figure()\n",
    "plt.plot(t,Y_fom[0,:,0],'k',label='FOM',linewidth=6)\n",
    "\n",
    "plt.plot(t,Y_hat_rom_era[0,:,0],'r',label='ERA',linewidth=2)\n",
    "# plt.plot(t,Y_hat_rom_dmdc[0,:,0],'b',label='DMDc',linewidth=5)\n",
    "#plt.plot(t,Y_hat_rom_opInf[0,:,0],'g',label='OpInf',linewidth=5)\n",
    "plt.plot(t,Y_hat_rom_lopinf[0,:,0],'m',label='LOpInf',linewidth=2)\n",
    "plt.plot(t,Y_hat_rom_lopinf_dt[0,:,0],'c',label='LOpInf DT',linewidth=2)\n",
    "\n",
    "legend = plt.legend(loc='upper right', shadow=False, fontsize='medium')\n",
    "plt.xlabel('Time (s)')\n",
    "plt.ylabel('Output')\n",
    "title = 'First Output from First Training Episode'\n",
    "plt.title(title)"
   ]
  },
  {
   "attachments": {},
   "cell_type": "markdown",
   "metadata": {},
   "source": [
    "#### Test Set 1"
   ]
  },
  {
   "cell_type": "code",
   "execution_count": null,
   "metadata": {},
   "outputs": [],
   "source": [
    "# Plot first output from first testing episode for all modelling methods\n",
    "plt.figure()\n",
    "plt.plot(t,Y_fom[0,:,n_train],'k',label='FOM',linewidth=5)\n",
    "plt.plot(t,Y_hat_rom_era[0,:,n_train],'r',label='ERA',linewidth=2)\n",
    "# plt.plot(t,Y_hat_rom_dmdc[0,:,n_train],'b',label='DMDc',linewidth=5)\n",
    "# plt.plot(t,Y_hat_rom_opInf[0,:,n_train],'g',label='OpInf',linewidth=5)\n",
    "plt.plot(t,Y_hat_rom_lopinf[0,:,n_train],'m',label='LOpInf',linewidth=2)\n",
    "plt.plot(t,Y_hat_rom_lopinf_dt[0,:,n_train],'c',label='LOpInf DT',linewidth=2)\n",
    "legend = plt.legend(loc='upper right', shadow=False, fontsize='medium')\n",
    "plt.xlabel('Time (s)')\n",
    "plt.ylabel('Output')\n",
    "title = 'First Output from First Testing Episode'\n",
    "plt.title(title)\n"
   ]
  },
  {
   "attachments": {},
   "cell_type": "markdown",
   "metadata": {},
   "source": [
    "### First state Response"
   ]
  },
  {
   "attachments": {},
   "cell_type": "markdown",
   "metadata": {},
   "source": [
    "#### First Training Episode"
   ]
  },
  {
   "cell_type": "code",
   "execution_count": null,
   "metadata": {},
   "outputs": [],
   "source": [
    "# Plot first state from first training episode for all modelling methods except ERA\n",
    "plt.figure()\n",
    "plt.plot(t,X_fom[0,:,0],'k',label='FOM',linewidth=5)\n",
    "plt.plot(t,X_hat_fom_dmdc[0,:,0],'b',label='DMDc',linewidth=5)\n",
    "# plt.plot(t,X_hat_fom_opInf[0,:,0],'g',label='OpInf',linewidth=5)\n",
    "plt.plot(t,X_hat_rom_lopinf[0,:,0],'m',label='LOpInf',linewidth=5)\n",
    "legend = plt.legend(loc='upper right', shadow=False, fontsize='medium')\n",
    "plt.xlabel('Time (s)')\n",
    "plt.ylabel('State')\n",
    "title = 'First State from First Training Episode'\n",
    "plt.title(title)"
   ]
  },
  {
   "attachments": {},
   "cell_type": "markdown",
   "metadata": {},
   "source": [
    "#### First Test Episode"
   ]
  },
  {
   "cell_type": "code",
   "execution_count": null,
   "metadata": {},
   "outputs": [],
   "source": [
    "# Plot first state from first testing episode for all modelling methods except ERA\n",
    "plt.figure()\n",
    "plt.plot(t,X_fom[0,:,n_train],'k',label='FOM',linewidth=5)\n",
    "plt.plot(t,X_hat_fom_dmdc[0,:,n_train],'b',label='DMDc',linewidth=5)\n",
    "#plt.plot(t,X_hat_fom_opInf[0,:,n_train],'g',label='OpInf',linewidth=5)\n",
    "# plt.plot(t,X_hat_rom_lopinf[0,:,n_train],'m',label='LOpInf',linewidth=5)\n",
    "legend = plt.legend(loc='upper right', shadow=False, fontsize='medium')\n",
    "plt.xlabel('Time (s)')\n",
    "plt.ylabel('State')\n",
    "title = 'First State from First Testing Episode'\n",
    "plt.title(title)"
   ]
  },
  {
   "attachments": {},
   "cell_type": "markdown",
   "metadata": {},
   "source": [
    "### Centerline Videos"
   ]
  },
  {
   "cell_type": "code",
   "execution_count": null,
   "metadata": {},
   "outputs": [],
   "source": [
    "# Setup save path for videos\n",
    "video_path = config[\"currentDirectory\"] +\"data/videos/\"\n",
    "videoName_test = 'test_episode_3segment.mp4'\n",
    "videoName_train = 'train_episode_3segment.mp4'\n",
    "# Number of frames and playspeed for video\n",
    "numFrames = n_timesteps\n",
    "fps = 30\n",
    "duration = numFrames/fps\n",
    "# Axis limits for video\n",
    "xlim_max = 400\n",
    "xlim_min =  -300\n",
    "zlim_max = -165\n",
    "zlim_min = -315\n",
    "ulim_max = 0.2\n",
    "ulim_min = -0.2\n",
    "# # Parameters for centerline reduction \n",
    "# n_seg = 10 # number of discrete points to use for centerline\n",
    "# N_local = 20 # number of local points to use when averaging around each discrete point\n",
    "\n"
   ]
  },
  {
   "attachments": {},
   "cell_type": "markdown",
   "metadata": {},
   "source": [
    "#### Training Set 1"
   ]
  },
  {
   "attachments": {},
   "cell_type": "markdown",
   "metadata": {},
   "source": [
    "Generate animation of centerline motion using output data from all modelling methods for the first training set\n"
   ]
  },
  {
   "cell_type": "code",
   "execution_count": null,
   "metadata": {},
   "outputs": [],
   "source": [
    "# Set up figure\n",
    "fig, ax = plt.subplots()\n",
    "# Define animation callback\n",
    "def animate(t):\n",
    "    # Bring in global variables for output data of fom and each method\n",
    "    global Y_fom, Y_hat_rom_era, Y_hat_rom_dmdc, Y_hat_rom_opInf, Y_hat_rom_lopinf\n",
    "    # Get frame index\n",
    "    i = int(round(t*fps))\n",
    "    # Reshape centerline data for each method for the given timestep of the first training episode\n",
    "    centerline_fom = Y_fom[:,i,0].reshape(-1,2)\n",
    "    centerline_era = Y_hat_rom_era[:,i,0].reshape(-1,2)\n",
    "    centerline_dmdc = Y_hat_rom_dmdc[:,i,0].reshape(-1,2)\n",
    "    #centerline_opInf = Y_hat_rom_opInf[:,i,0].reshape(-1,2)\n",
    "    centerline_lopinf = Y_hat_rom_lopinf[:,i,0].reshape(-1,2)\n",
    "    # Compute reduced centerlines for each method\n",
    "    centerline_fom_red = centerline_fom\n",
    "    centerline_era_red = centerline_era\n",
    "    centerline_dmdc_red = centerline_dmdc\n",
    "    centerline_lopinf_red = centerline_lopinf\n",
    "    #centerline_opInf_red = reduceCenterline(n_seg,centerline_opInf,N_local)\n",
    "    # centerline_lopinf_red = reduceCenterline(n_seg,centerline_lopinf,N_local)\n",
    "    # Plot reduced centerlines\n",
    "    ax.clear()\n",
    "    ax.plot(centerline_fom_red[:,1],centerline_fom_red[:,0],'k',label='FOM',linewidth=5)\n",
    "    ax.plot(centerline_era_red[:,1],centerline_era_red[:,0],'r',label='ERA',linewidth=5)\n",
    "    ax.plot(centerline_dmdc_red[:,1],centerline_dmdc_red[:,0],'b',label='DMDc',linewidth=5)\n",
    "    #ax.plot(centerline_opInf_red[:,0],centerline_opInf_red[:,1],'g',label='OpInf',linewidth=5)\n",
    "    ax.plot(centerline_lopinf_red[:,1],centerline_lopinf_red[:,0],'m',label='LOpInf',linewidth=5)\n",
    "    ax.set_xlim(xlim_min,xlim_max)\n",
    "    ax.set_ylim(zlim_min,zlim_max)\n",
    "    ax.set_xlabel('x (mm)')\n",
    "    ax.set_ylabel('z (mm)')\n",
    "    ax.set_title('Centerline at timestep '+str(i))\n",
    "    legend = plt.legend(loc='upper right', shadow=False, fontsize='medium')\n",
    "    return mplfig_to_npimage(fig)\n",
    "\n",
    "animation = VideoClip(animate, duration=duration)\n",
    "animation.write_videofile(video_path+videoName_train, fps=fps)\n",
    "\n"
   ]
  },
  {
   "attachments": {},
   "cell_type": "markdown",
   "metadata": {},
   "source": [
    "#### Test Set 1"
   ]
  },
  {
   "cell_type": "code",
   "execution_count": null,
   "metadata": {},
   "outputs": [],
   "source": [
    "# Set up figure\n",
    "fig, ax = plt.subplots()\n",
    "# Define animation callback \n",
    "def animate(t):\n",
    "    # Bring in global variables for output data of fom and each method\n",
    "    global Y_fom, Y_hat_rom_era, Y_hat_rom_dmdc, Y_hat_rom_opInf, Y_hat_rom_lopinf\n",
    "    # Get frame index\n",
    "    i = int(round(t*fps))\n",
    "    # Reshape centerline data for each method for the given timestep of the first testing episode\n",
    "    centerline_fom = Y_fom[:,i,n_train].reshape(-1,2)\n",
    "    centerline_era = Y_hat_rom_era[:,i,n_train].reshape(-1,2)\n",
    "    centerline_dmdc = Y_hat_rom_dmdc[:,i,n_train].reshape(-1,2)\n",
    "    #centerline_opInf = Y_hat_rom_opInf[:,i,0].reshape(-1,2)\n",
    "    centerline_lopinf = Y_hat_rom_lopinf[:,i,n_train].reshape(-1,2)\n",
    "    # Compute reduced centerlines for each method\n",
    "    centerline_fom_red = centerline_fom\n",
    "    centerline_era_red = centerline_era\n",
    "    centerline_dmdc_red = centerline_dmdc\n",
    "    centerline_lopinf_red = centerline_lopinf\n",
    "    #centerline_opInf_red = reduceCenterline(n_seg,centerline_opInf,N_local)\n",
    "    # centerline_lopinf_red = reduceCenterline(n_seg,centerline_lopinf,N_local)\n",
    "    # Plot reduced centerlines\n",
    "    ax.clear()\n",
    "    ax.plot(centerline_fom_red[:,1],centerline_fom_red[:,0],'k',label='FOM',linewidth=5)\n",
    "    ax.plot(centerline_era_red[:,1],centerline_era_red[:,0],'r',label='ERA',linewidth=5)\n",
    "    ax.plot(centerline_dmdc_red[:,1],centerline_dmdc_red[:,0],'b',label='DMDc',linewidth=5)\n",
    "    #ax.plot(centerline_opInf_red[:,0],centerline_opInf_red[:,1],'g',label='OpInf',linewidth=5)\n",
    "    ax.plot(centerline_lopinf_red[:,1],centerline_lopinf_red[:,0],'m',label='LOpInf',linewidth=5)\n",
    "    ax.set_xlim(xlim_min,xlim_max)\n",
    "    ax.set_ylim(zlim_min,zlim_max)\n",
    "    ax.set_xlabel('x (mm)')\n",
    "    ax.set_ylabel('z (mm)')\n",
    "    ax.set_title('Centerline at timestep '+str(i))\n",
    "    legend = plt.legend(loc='upper right', shadow=False, fontsize='medium')\n",
    "    return mplfig_to_npimage(fig)\n",
    "\n",
    "animation = VideoClip(animate, duration=duration)\n",
    "animation.write_videofile(video_path+videoName_test, fps=fps)\n",
    "\n"
   ]
  },
  {
   "attachments": {},
   "cell_type": "markdown",
   "metadata": {},
   "source": [
    "## Relative Error Computations"
   ]
  },
  {
   "attachments": {},
   "cell_type": "markdown",
   "metadata": {},
   "source": [
    "### Relative Output Errors"
   ]
  },
  {
   "attachments": {},
   "cell_type": "markdown",
   "metadata": {},
   "source": [
    "#### Training Episodes"
   ]
  },
  {
   "cell_type": "code",
   "execution_count": null,
   "metadata": {},
   "outputs": [],
   "source": [
    "# Compute relative error in frobenius norm for all training episodes\n",
    "rel_err_era_train = np.zeros((n_train,1))\n",
    "rel_err_dmdc_train = np.zeros((n_train,1))\n",
    "rel_err_opInf_train = np.zeros((n_train,1))\n",
    "rel_err_lopinf_train = np.zeros((n_train,1))\n",
    "for i in range(n_train):\n",
    "    rel_err_era_train[i] = np.linalg.norm(Y_fom[:,:,i]-Y_hat_rom_era[:,:,i])/np.linalg.norm(Y_fom[:,:,i])\n",
    "    rel_err_dmdc_train[i] = np.linalg.norm(Y_fom[:,:,i]-Y_hat_rom_dmdc[:,:,i])/np.linalg.norm(Y_fom[:,:,i])\n",
    "    rel_err_lopinf_train[i] = np.linalg.norm(Y_fom[:,:,i]-Y_hat_rom_lopinf[:,:,i])/np.linalg.norm(Y_fom[:,:,i])"
   ]
  },
  {
   "attachments": {},
   "cell_type": "markdown",
   "metadata": {},
   "source": [
    "#### Test Episodes\n"
   ]
  },
  {
   "cell_type": "code",
   "execution_count": null,
   "metadata": {},
   "outputs": [],
   "source": [
    "# Compute relative error in frobenius norm for all testing episodes\n",
    "rel_err_era_test = np.zeros((n_test,1))\n",
    "rel_err_dmdc_test = np.zeros((n_test,1))\n",
    "rel_err_opInf_test = np.zeros((n_test,1))\n",
    "rel_err_lopinf_test = np.zeros((n_test,1))\n",
    "for i in range(n_test):\n",
    "    rel_err_era_test[i] = np.linalg.norm(Y_fom[:,:,i+n_train]-Y_hat_rom_era[:,:,i+n_train])/np.linalg.norm(Y_fom[:,:,i+n_train])\n",
    "    rel_err_dmdc_test[i] = np.linalg.norm(Y_fom[:,:,i+n_train]-Y_hat_rom_dmdc[:,:,i+n_train])/np.linalg.norm(Y_fom[:,:,i+n_train])\n",
    "    rel_err_lopinf_test[i] = np.linalg.norm(Y_fom[:,:,i+n_train]-Y_hat_rom_lopinf[:,:,i+n_train])/np.linalg.norm(Y_fom[:,:,i+n_train])"
   ]
  },
  {
   "cell_type": "code",
   "execution_count": null,
   "metadata": {},
   "outputs": [],
   "source": [
    "# Make bar plot with error bars for training and testing episodes for each method\n",
    "fig, ax = plt.subplots()\n",
    "ax.bar(np.arange(0,8,2)-0.45,[np.mean(rel_err_era_train),np.mean(rel_err_dmdc_train),np.mean(rel_err_opInf_train),np.mean(rel_err_lopinf_train)],yerr=[np.std(rel_err_era_train),np.std(rel_err_dmdc_train),np.std(rel_err_opInf_train),np.std(rel_err_lopinf_train)],color=['r','b','g','m'],align='center',alpha=0.5,ecolor='black',capsize=10)\n",
    "ax.bar(np.arange(0,8,2)+0.45,[np.mean(rel_err_era_test),np.mean(rel_err_dmdc_test),np.mean(rel_err_opInf_test),np.mean(rel_err_lopinf_test)],yerr=[np.std(rel_err_era_test),np.std(rel_err_dmdc_test),np.std(rel_err_opInf_test),np.std(rel_err_lopinf_test)],color=['r','b','g','m'],align='center',alpha=0.5,ecolor='black',capsize=10,hatch='//')\n",
    "ax.set_ylabel('Relative error')\n",
    "ax.set_xticks(np.arange(0,8,2))\n",
    "ax.set_xticklabels(['ERA','DMDc','OpInf','LOpInf'])\n",
    "ax.set_title('Relative output error for training and testing episodes')\n",
    "ax.yaxis.grid(True)\n",
    "ax.legend(['Training','Testing'])\n",
    "# plt.tight_layout()\n"
   ]
  },
  {
   "attachments": {},
   "cell_type": "markdown",
   "metadata": {},
   "source": [
    "### Relative State Errors"
   ]
  },
  {
   "cell_type": "code",
   "execution_count": null,
   "metadata": {},
   "outputs": [],
   "source": [
    "# Compute relative error in frobenius norm for all training episodes of full order states for each method except ERA\n",
    "rel_err_dmdc_train_full = np.zeros((n_train,1))\n",
    "rel_err_opInf_train_full = np.zeros((n_train,1))\n",
    "rel_err_lopinf_train_full = np.zeros((n_train,1))\n",
    "for i in range(n_train):\n",
    "    rel_err_dmdc_train_full[i] = np.linalg.norm(X_fom[:,:,i]-X_hat_fom_dmdc[:,:,i])/np.linalg.norm(X_fom[:,:,i])\n",
    "    rel_err_opInf_train_full[i] = np.linalg.norm(X_fom[:,:,i]-X_hat_fom_opInf[:,:,i])/np.linalg.norm(X_fom[:,:,i])\n",
    "    # rel_err_lopinf_train_full[i] = np.linalg.norm(X_fom[:,:,i]-X_hat_rom_lopinf[:,:,i])/np.linalg.norm(X_fom[:,:,i])\n",
    "    \n"
   ]
  },
  {
   "cell_type": "code",
   "execution_count": null,
   "metadata": {},
   "outputs": [],
   "source": [
    "# Compute relative error in frobenius norm for all testing episodes of full order states for each method except ERA\n",
    "rel_err_dmdc_test_full = np.zeros((n_test,1))\n",
    "rel_err_opInf_test_full = np.zeros((n_test,1))\n",
    "rel_err_lopinf_test_full = np.zeros((n_test,1))\n",
    "for i in range(n_test):\n",
    "    rel_err_dmdc_test_full[i] = np.linalg.norm(X_fom[:,:,i+n_train]-X_hat_fom_dmdc[:,:,i+n_train])/np.linalg.norm(X_fom[:,:,i+n_train])\n",
    "    rel_err_opInf_test_full[i] = np.linalg.norm(X_fom[:,:,i+n_train]-X_hat_fom_opInf[:,:,i+n_train])/np.linalg.norm(X_fom[:,:,i+n_train])\n",
    "    # rel_err_lopinf_test_full[i] = np.linalg.norm(X_fom[:,:,i+n_train]-X_hat_rom_lopinf[:,:,i+n_train])/np.linalg.norm(X_fom[:,:,i+n_train])\n",
    "\n"
   ]
  },
  {
   "cell_type": "code",
   "execution_count": null,
   "metadata": {},
   "outputs": [],
   "source": [
    "# Make bar plot with error bars for training and testing episodes for each method\n",
    "fig, ax = plt.subplots()\n",
    "ax.bar(np.arange(0,6,2)-0.45,[np.mean(rel_err_dmdc_train_full),np.mean(rel_err_opInf_train_full),np.mean(rel_err_lopinf_train_full)],yerr=[np.std(rel_err_dmdc_train_full),np.std(rel_err_opInf_train_full),np.std(rel_err_lopinf_train_full)],color=['b','g','m'],align='center',alpha=0.5,ecolor='black',capsize=10)\n",
    "ax.bar(np.arange(0,6,2)+0.45,[np.mean(rel_err_dmdc_test_full),np.mean(rel_err_opInf_test_full),np.mean(rel_err_lopinf_test_full)],yerr=[np.std(rel_err_dmdc_test_full),np.std(rel_err_opInf_test_full),np.std(rel_err_lopinf_test_full)],color=['b','g','m'],align='center',alpha=0.5,ecolor='black',capsize=10,hatch='//')\n",
    "ax.set_ylabel('Relative error')\n",
    "ax.set_xticks(np.arange(0,6,2))\n",
    "ax.set_xticklabels(['DMDc','OpInf','LOpInf'])\n",
    "ax.set_title('Relative full state error for training and testing episodes')\n",
    "ax.yaxis.grid(True)\n",
    "ax.legend(['Training','Testing'])\n",
    "# plt.tight_layout()\n",
    "\n"
   ]
  }
 ],
 "metadata": {
  "kernelspec": {
   "display_name": "Python 3",
   "language": "python",
   "name": "python3"
  },
  "language_info": {
   "codemirror_mode": {
    "name": "ipython",
    "version": 3
   },
   "file_extension": ".py",
   "mimetype": "text/x-python",
   "name": "python",
   "nbconvert_exporter": "python",
   "pygments_lexer": "ipython3",
   "version": "3.8.10"
  },
  "orig_nbformat": 4
 },
 "nbformat": 4,
 "nbformat_minor": 2
}
