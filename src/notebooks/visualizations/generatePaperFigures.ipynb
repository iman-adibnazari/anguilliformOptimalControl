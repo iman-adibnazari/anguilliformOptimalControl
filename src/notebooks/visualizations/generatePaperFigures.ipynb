{
 "cells": [
  {
   "cell_type": "markdown",
   "metadata": {},
   "source": [
    "# Overview\n",
    "This python notebook processes data from estimation and control experiments to produce visualizations and plots used for the paper. "
   ]
  },
  {
   "cell_type": "code",
   "execution_count": null,
   "metadata": {},
   "outputs": [],
   "source": [
    "## Imports\n",
    "# Imports\n",
    "#!/usr/bin/env python\n",
    "# -*- coding: utf-8 -*-\n",
    "import numpy as np\n",
    "from sklearn.decomposition import TruncatedSVD\n",
    "from scipy.sparse import csr_matrix\n",
    "from sklearn.utils.extmath import randomized_svd\n",
    "from prettytable import PrettyTable\n",
    "\n",
    "import os\n",
    "import matplotlib.pyplot as plt\n",
    "import matplotlib as mpl\n",
    "from matplotlib.animation import FuncAnimation\n",
    "from dotenv import dotenv_values \n",
    "from moviepy.editor import VideoClip\n",
    "from moviepy.video.io.bindings import mplfig_to_npimage\n",
    "import scipy.io\n",
    "import pyvista as pv\n",
    "import h5py\n",
    "from scipy import signal\n",
    "import dask.array as da\n",
    "import cvxpy as cp\n",
    "import psycopg2\n",
    "import hdf5storage\n",
    "import h5py\n",
    "import pickle\n",
    "import logging\n",
    "from sys import getsizeof\n",
    "from scipy import signal\n",
    "from dask.distributed import Client, LocalCluster\n",
    "import pandas as pd\n",
    "\n",
    "config = dotenv_values(\"../.env\")\n"
   ]
  },
  {
   "cell_type": "code",
   "execution_count": null,
   "metadata": {},
   "outputs": [],
   "source": [
    "# # Setup Dask client\n",
    "client = Client('tcp://127.0.0.1:8786')\n",
    "client.cluster"
   ]
  },
  {
   "cell_type": "code",
   "execution_count": null,
   "metadata": {},
   "outputs": [],
   "source": [
    "# Dataset variables\n",
    "TrainingDataSetFilepath = config[\"currentDirectory\"] + \"data/archivedDataSets/ContiguousAssembly/\"\n",
    "romDir = config[\"currentDirectory\"] + \"data/archivedDataSets/ContiguousAssembly/ROMsWithObserverGains/\""
   ]
  },
  {
   "cell_type": "markdown",
   "metadata": {},
   "source": [
    "## Estimation Experiments "
   ]
  },
  {
   "cell_type": "code",
   "execution_count": null,
   "metadata": {},
   "outputs": [],
   "source": []
  }
 ],
 "metadata": {
  "kernelspec": {
   "display_name": "Python 3",
   "language": "python",
   "name": "python3"
  },
  "language_info": {
   "name": "python",
   "version": "3.10.12"
  }
 },
 "nbformat": 4,
 "nbformat_minor": 2
}
