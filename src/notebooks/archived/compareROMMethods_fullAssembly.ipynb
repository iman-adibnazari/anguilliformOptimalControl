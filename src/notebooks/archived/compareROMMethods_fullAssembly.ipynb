{
 "cells": [
  {
   "attachments": {},
   "cell_type": "markdown",
   "metadata": {},
   "source": [
    "This notebook compares the accuracy of multiple data driven ROM methods on the full assembly"
   ]
  },
  {
   "cell_type": "code",
   "execution_count": 17,
   "metadata": {},
   "outputs": [],
   "source": [
    "#!/usr/bin/env python\n",
    "# -*- coding: utf-8 -*-\n",
    "import numpy as np\n",
    "from sklearn.decomposition import TruncatedSVD\n",
    "from scipy.sparse import csr_matrix\n",
    "from sklearn.utils.extmath import randomized_svd\n",
    " \n",
    "import os\n",
    "import matplotlib.pyplot as plt\n",
    "import matplotlib as mpl\n",
    "from matplotlib.animation import FuncAnimation\n",
    "from dotenv import dotenv_values \n",
    "from moviepy.editor import VideoClip\n",
    "from moviepy.video.io.bindings import mplfig_to_npimage\n",
    "import scipy.io\n",
    "from scipy.signal import cont2discrete\n",
    "import pyvista as pv\n",
    "import h5py\n",
    "import mat73\n",
    "import dask.array as da\n",
    "from dask.distributed import Client, LocalCluster\n",
    "\n",
    "\n",
    "\n",
    "\n",
    "import opinf\n",
    "\n",
    "\n",
    "config = dotenv_values(\".env\")\n",
    "from util import *"
   ]
  },
  {
   "cell_type": "code",
   "execution_count": 19,
   "metadata": {},
   "outputs": [
    {
     "data": {
      "application/vnd.jupyter.widget-view+json": {
       "model_id": "960c2a80acbb448cab56ed3bdaabce2c",
       "version_major": 2,
       "version_minor": 0
      },
      "text/html": [
       "<div class=\"jp-RenderedHTMLCommon jp-RenderedHTML jp-mod-trusted jp-OutputArea-output\">\n",
       "    <div style=\"width: 24px; height: 24px; background-color: #e1e1e1; border: 3px solid #9D9D9D; border-radius: 5px; position: absolute;\">\n",
       "    </div>\n",
       "    <div style=\"margin-left: 48px;\">\n",
       "        <h3 style=\"margin-bottom: 0px; margin-top: 0px;\">LocalCluster</h3>\n",
       "        <p style=\"color: #9D9D9D; margin-bottom: 0px;\">8820b9f6</p>\n",
       "        <table style=\"width: 100%; text-align: left;\">\n",
       "            <tr>\n",
       "                <td style=\"text-align: left;\">\n",
       "                    <strong>Dashboard:</strong> <a href=\"http://127.0.0.1:35843/status\" target=\"_blank\">http://127.0.0.1:35843/status</a>\n",
       "                </td>\n",
       "                <td style=\"text-align: left;\">\n",
       "                    <strong>Workers:</strong> 6\n",
       "                </td>\n",
       "            </tr>\n",
       "            <tr>\n",
       "                <td style=\"text-align: left;\">\n",
       "                    <strong>Total threads:</strong> 24\n",
       "                </td>\n",
       "                <td style=\"text-align: left;\">\n",
       "                    <strong>Total memory:</strong> 62.50 GiB\n",
       "                </td>\n",
       "            </tr>\n",
       "            \n",
       "            <tr>\n",
       "    <td style=\"text-align: left;\"><strong>Status:</strong> running</td>\n",
       "    <td style=\"text-align: left;\"><strong>Using processes:</strong> True</td>\n",
       "</tr>\n",
       "\n",
       "            \n",
       "        </table>\n",
       "\n",
       "        <details>\n",
       "            <summary style=\"margin-bottom: 20px;\">\n",
       "                <h3 style=\"display: inline;\">Scheduler Info</h3>\n",
       "            </summary>\n",
       "\n",
       "            <div style=\"\">\n",
       "    <div>\n",
       "        <div style=\"width: 24px; height: 24px; background-color: #FFF7E5; border: 3px solid #FF6132; border-radius: 5px; position: absolute;\"> </div>\n",
       "        <div style=\"margin-left: 48px;\">\n",
       "            <h3 style=\"margin-bottom: 0px;\">Scheduler</h3>\n",
       "            <p style=\"color: #9D9D9D; margin-bottom: 0px;\">Scheduler-ba2e56de-6d35-4bd6-8644-441317bfe2ad</p>\n",
       "            <table style=\"width: 100%; text-align: left;\">\n",
       "                <tr>\n",
       "                    <td style=\"text-align: left;\">\n",
       "                        <strong>Comm:</strong> tcp://127.0.0.1:41075\n",
       "                    </td>\n",
       "                    <td style=\"text-align: left;\">\n",
       "                        <strong>Workers:</strong> 6\n",
       "                    </td>\n",
       "                </tr>\n",
       "                <tr>\n",
       "                    <td style=\"text-align: left;\">\n",
       "                        <strong>Dashboard:</strong> <a href=\"http://127.0.0.1:35843/status\" target=\"_blank\">http://127.0.0.1:35843/status</a>\n",
       "                    </td>\n",
       "                    <td style=\"text-align: left;\">\n",
       "                        <strong>Total threads:</strong> 24\n",
       "                    </td>\n",
       "                </tr>\n",
       "                <tr>\n",
       "                    <td style=\"text-align: left;\">\n",
       "                        <strong>Started:</strong> Just now\n",
       "                    </td>\n",
       "                    <td style=\"text-align: left;\">\n",
       "                        <strong>Total memory:</strong> 62.50 GiB\n",
       "                    </td>\n",
       "                </tr>\n",
       "            </table>\n",
       "        </div>\n",
       "    </div>\n",
       "\n",
       "    <details style=\"margin-left: 48px;\">\n",
       "        <summary style=\"margin-bottom: 20px;\">\n",
       "            <h3 style=\"display: inline;\">Workers</h3>\n",
       "        </summary>\n",
       "\n",
       "        \n",
       "        <div style=\"margin-bottom: 20px;\">\n",
       "            <div style=\"width: 24px; height: 24px; background-color: #DBF5FF; border: 3px solid #4CC9FF; border-radius: 5px; position: absolute;\"> </div>\n",
       "            <div style=\"margin-left: 48px;\">\n",
       "            <details>\n",
       "                <summary>\n",
       "                    <h4 style=\"margin-bottom: 0px; display: inline;\">Worker: 0</h4>\n",
       "                </summary>\n",
       "                <table style=\"width: 100%; text-align: left;\">\n",
       "                    <tr>\n",
       "                        <td style=\"text-align: left;\">\n",
       "                            <strong>Comm: </strong> tcp://127.0.0.1:42215\n",
       "                        </td>\n",
       "                        <td style=\"text-align: left;\">\n",
       "                            <strong>Total threads: </strong> 4\n",
       "                        </td>\n",
       "                    </tr>\n",
       "                    <tr>\n",
       "                        <td style=\"text-align: left;\">\n",
       "                            <strong>Dashboard: </strong> <a href=\"http://127.0.0.1:41307/status\" target=\"_blank\">http://127.0.0.1:41307/status</a>\n",
       "                        </td>\n",
       "                        <td style=\"text-align: left;\">\n",
       "                            <strong>Memory: </strong> 10.42 GiB\n",
       "                        </td>\n",
       "                    </tr>\n",
       "                    <tr>\n",
       "                        <td style=\"text-align: left;\">\n",
       "                            <strong>Nanny: </strong> tcp://127.0.0.1:35531\n",
       "                        </td>\n",
       "                        <td style=\"text-align: left;\"></td>\n",
       "                    </tr>\n",
       "                    <tr>\n",
       "                        <td colspan=\"2\" style=\"text-align: left;\">\n",
       "                            <strong>Local directory: </strong> /tmp/dask-scratch-space/worker-74bvb13v\n",
       "                        </td>\n",
       "                    </tr>\n",
       "\n",
       "                    \n",
       "\n",
       "                    \n",
       "\n",
       "                </table>\n",
       "            </details>\n",
       "            </div>\n",
       "        </div>\n",
       "        \n",
       "        <div style=\"margin-bottom: 20px;\">\n",
       "            <div style=\"width: 24px; height: 24px; background-color: #DBF5FF; border: 3px solid #4CC9FF; border-radius: 5px; position: absolute;\"> </div>\n",
       "            <div style=\"margin-left: 48px;\">\n",
       "            <details>\n",
       "                <summary>\n",
       "                    <h4 style=\"margin-bottom: 0px; display: inline;\">Worker: 1</h4>\n",
       "                </summary>\n",
       "                <table style=\"width: 100%; text-align: left;\">\n",
       "                    <tr>\n",
       "                        <td style=\"text-align: left;\">\n",
       "                            <strong>Comm: </strong> tcp://127.0.0.1:38391\n",
       "                        </td>\n",
       "                        <td style=\"text-align: left;\">\n",
       "                            <strong>Total threads: </strong> 4\n",
       "                        </td>\n",
       "                    </tr>\n",
       "                    <tr>\n",
       "                        <td style=\"text-align: left;\">\n",
       "                            <strong>Dashboard: </strong> <a href=\"http://127.0.0.1:40443/status\" target=\"_blank\">http://127.0.0.1:40443/status</a>\n",
       "                        </td>\n",
       "                        <td style=\"text-align: left;\">\n",
       "                            <strong>Memory: </strong> 10.42 GiB\n",
       "                        </td>\n",
       "                    </tr>\n",
       "                    <tr>\n",
       "                        <td style=\"text-align: left;\">\n",
       "                            <strong>Nanny: </strong> tcp://127.0.0.1:37609\n",
       "                        </td>\n",
       "                        <td style=\"text-align: left;\"></td>\n",
       "                    </tr>\n",
       "                    <tr>\n",
       "                        <td colspan=\"2\" style=\"text-align: left;\">\n",
       "                            <strong>Local directory: </strong> /tmp/dask-scratch-space/worker-w7jykiro\n",
       "                        </td>\n",
       "                    </tr>\n",
       "\n",
       "                    \n",
       "\n",
       "                    \n",
       "\n",
       "                </table>\n",
       "            </details>\n",
       "            </div>\n",
       "        </div>\n",
       "        \n",
       "        <div style=\"margin-bottom: 20px;\">\n",
       "            <div style=\"width: 24px; height: 24px; background-color: #DBF5FF; border: 3px solid #4CC9FF; border-radius: 5px; position: absolute;\"> </div>\n",
       "            <div style=\"margin-left: 48px;\">\n",
       "            <details>\n",
       "                <summary>\n",
       "                    <h4 style=\"margin-bottom: 0px; display: inline;\">Worker: 2</h4>\n",
       "                </summary>\n",
       "                <table style=\"width: 100%; text-align: left;\">\n",
       "                    <tr>\n",
       "                        <td style=\"text-align: left;\">\n",
       "                            <strong>Comm: </strong> tcp://127.0.0.1:46607\n",
       "                        </td>\n",
       "                        <td style=\"text-align: left;\">\n",
       "                            <strong>Total threads: </strong> 4\n",
       "                        </td>\n",
       "                    </tr>\n",
       "                    <tr>\n",
       "                        <td style=\"text-align: left;\">\n",
       "                            <strong>Dashboard: </strong> <a href=\"http://127.0.0.1:39225/status\" target=\"_blank\">http://127.0.0.1:39225/status</a>\n",
       "                        </td>\n",
       "                        <td style=\"text-align: left;\">\n",
       "                            <strong>Memory: </strong> 10.42 GiB\n",
       "                        </td>\n",
       "                    </tr>\n",
       "                    <tr>\n",
       "                        <td style=\"text-align: left;\">\n",
       "                            <strong>Nanny: </strong> tcp://127.0.0.1:32995\n",
       "                        </td>\n",
       "                        <td style=\"text-align: left;\"></td>\n",
       "                    </tr>\n",
       "                    <tr>\n",
       "                        <td colspan=\"2\" style=\"text-align: left;\">\n",
       "                            <strong>Local directory: </strong> /tmp/dask-scratch-space/worker-v0birt8j\n",
       "                        </td>\n",
       "                    </tr>\n",
       "\n",
       "                    \n",
       "\n",
       "                    \n",
       "\n",
       "                </table>\n",
       "            </details>\n",
       "            </div>\n",
       "        </div>\n",
       "        \n",
       "        <div style=\"margin-bottom: 20px;\">\n",
       "            <div style=\"width: 24px; height: 24px; background-color: #DBF5FF; border: 3px solid #4CC9FF; border-radius: 5px; position: absolute;\"> </div>\n",
       "            <div style=\"margin-left: 48px;\">\n",
       "            <details>\n",
       "                <summary>\n",
       "                    <h4 style=\"margin-bottom: 0px; display: inline;\">Worker: 3</h4>\n",
       "                </summary>\n",
       "                <table style=\"width: 100%; text-align: left;\">\n",
       "                    <tr>\n",
       "                        <td style=\"text-align: left;\">\n",
       "                            <strong>Comm: </strong> tcp://127.0.0.1:46859\n",
       "                        </td>\n",
       "                        <td style=\"text-align: left;\">\n",
       "                            <strong>Total threads: </strong> 4\n",
       "                        </td>\n",
       "                    </tr>\n",
       "                    <tr>\n",
       "                        <td style=\"text-align: left;\">\n",
       "                            <strong>Dashboard: </strong> <a href=\"http://127.0.0.1:42143/status\" target=\"_blank\">http://127.0.0.1:42143/status</a>\n",
       "                        </td>\n",
       "                        <td style=\"text-align: left;\">\n",
       "                            <strong>Memory: </strong> 10.42 GiB\n",
       "                        </td>\n",
       "                    </tr>\n",
       "                    <tr>\n",
       "                        <td style=\"text-align: left;\">\n",
       "                            <strong>Nanny: </strong> tcp://127.0.0.1:41309\n",
       "                        </td>\n",
       "                        <td style=\"text-align: left;\"></td>\n",
       "                    </tr>\n",
       "                    <tr>\n",
       "                        <td colspan=\"2\" style=\"text-align: left;\">\n",
       "                            <strong>Local directory: </strong> /tmp/dask-scratch-space/worker-80mw2spz\n",
       "                        </td>\n",
       "                    </tr>\n",
       "\n",
       "                    \n",
       "\n",
       "                    \n",
       "\n",
       "                </table>\n",
       "            </details>\n",
       "            </div>\n",
       "        </div>\n",
       "        \n",
       "        <div style=\"margin-bottom: 20px;\">\n",
       "            <div style=\"width: 24px; height: 24px; background-color: #DBF5FF; border: 3px solid #4CC9FF; border-radius: 5px; position: absolute;\"> </div>\n",
       "            <div style=\"margin-left: 48px;\">\n",
       "            <details>\n",
       "                <summary>\n",
       "                    <h4 style=\"margin-bottom: 0px; display: inline;\">Worker: 4</h4>\n",
       "                </summary>\n",
       "                <table style=\"width: 100%; text-align: left;\">\n",
       "                    <tr>\n",
       "                        <td style=\"text-align: left;\">\n",
       "                            <strong>Comm: </strong> tcp://127.0.0.1:34525\n",
       "                        </td>\n",
       "                        <td style=\"text-align: left;\">\n",
       "                            <strong>Total threads: </strong> 4\n",
       "                        </td>\n",
       "                    </tr>\n",
       "                    <tr>\n",
       "                        <td style=\"text-align: left;\">\n",
       "                            <strong>Dashboard: </strong> <a href=\"http://127.0.0.1:36049/status\" target=\"_blank\">http://127.0.0.1:36049/status</a>\n",
       "                        </td>\n",
       "                        <td style=\"text-align: left;\">\n",
       "                            <strong>Memory: </strong> 10.42 GiB\n",
       "                        </td>\n",
       "                    </tr>\n",
       "                    <tr>\n",
       "                        <td style=\"text-align: left;\">\n",
       "                            <strong>Nanny: </strong> tcp://127.0.0.1:39983\n",
       "                        </td>\n",
       "                        <td style=\"text-align: left;\"></td>\n",
       "                    </tr>\n",
       "                    <tr>\n",
       "                        <td colspan=\"2\" style=\"text-align: left;\">\n",
       "                            <strong>Local directory: </strong> /tmp/dask-scratch-space/worker-oqqr4f_h\n",
       "                        </td>\n",
       "                    </tr>\n",
       "\n",
       "                    \n",
       "\n",
       "                    \n",
       "\n",
       "                </table>\n",
       "            </details>\n",
       "            </div>\n",
       "        </div>\n",
       "        \n",
       "        <div style=\"margin-bottom: 20px;\">\n",
       "            <div style=\"width: 24px; height: 24px; background-color: #DBF5FF; border: 3px solid #4CC9FF; border-radius: 5px; position: absolute;\"> </div>\n",
       "            <div style=\"margin-left: 48px;\">\n",
       "            <details>\n",
       "                <summary>\n",
       "                    <h4 style=\"margin-bottom: 0px; display: inline;\">Worker: 5</h4>\n",
       "                </summary>\n",
       "                <table style=\"width: 100%; text-align: left;\">\n",
       "                    <tr>\n",
       "                        <td style=\"text-align: left;\">\n",
       "                            <strong>Comm: </strong> tcp://127.0.0.1:43215\n",
       "                        </td>\n",
       "                        <td style=\"text-align: left;\">\n",
       "                            <strong>Total threads: </strong> 4\n",
       "                        </td>\n",
       "                    </tr>\n",
       "                    <tr>\n",
       "                        <td style=\"text-align: left;\">\n",
       "                            <strong>Dashboard: </strong> <a href=\"http://127.0.0.1:40255/status\" target=\"_blank\">http://127.0.0.1:40255/status</a>\n",
       "                        </td>\n",
       "                        <td style=\"text-align: left;\">\n",
       "                            <strong>Memory: </strong> 10.42 GiB\n",
       "                        </td>\n",
       "                    </tr>\n",
       "                    <tr>\n",
       "                        <td style=\"text-align: left;\">\n",
       "                            <strong>Nanny: </strong> tcp://127.0.0.1:37363\n",
       "                        </td>\n",
       "                        <td style=\"text-align: left;\"></td>\n",
       "                    </tr>\n",
       "                    <tr>\n",
       "                        <td colspan=\"2\" style=\"text-align: left;\">\n",
       "                            <strong>Local directory: </strong> /tmp/dask-scratch-space/worker-gw0kdh0y\n",
       "                        </td>\n",
       "                    </tr>\n",
       "\n",
       "                    \n",
       "\n",
       "                    \n",
       "\n",
       "                </table>\n",
       "            </details>\n",
       "            </div>\n",
       "        </div>\n",
       "        \n",
       "\n",
       "    </details>\n",
       "</div>\n",
       "\n",
       "        </details>\n",
       "    </div>\n",
       "</div>"
      ],
      "text/plain": [
       "LocalCluster(8820b9f6, 'tcp://127.0.0.1:41075', workers=6, threads=24, memory=62.50 GiB)"
      ]
     },
     "metadata": {},
     "output_type": "display_data"
    }
   ],
   "source": [
    "# Setup Dask client\n",
    "cluster = LocalCluster() # Launches a scheduler and workers locally\n",
    "client = Client(cluster) # Connect to distributed cluster and override default\n",
    "# client = Client('tcp://127.0.0.1:8786')\n",
    "client.cluster"
   ]
  },
  {
   "cell_type": "code",
   "execution_count": 32,
   "metadata": {},
   "outputs": [],
   "source": [
    "# Set up hyperparameters for all ROMs\n",
    "n_timesteps = 2000 # Number of timesteps to pull from each episode\n",
    "dt = 0.001\n",
    "n_train = 2 # Number of training episodes\n",
    "n_test = 0 # Number of testing episodes\n",
    "n_ROM = 22 # Dimension of ROM state space"
   ]
  },
  {
   "attachments": {},
   "cell_type": "markdown",
   "metadata": {},
   "source": [
    "# Read Data"
   ]
  },
  {
   "cell_type": "code",
   "execution_count": 33,
   "metadata": {},
   "outputs": [],
   "source": [
    "# Setup filepaths for reading data \n",
    "filepath = config[\"currentDirectory\"] + \"data/archivedDataSets/FullAssembly_Constrained_FullSetForICRA_wrongMatParams/\"\n",
    "\n"
   ]
  },
  {
   "cell_type": "code",
   "execution_count": 34,
   "metadata": {},
   "outputs": [
    {
     "name": "stdout",
     "output_type": "stream",
     "text": [
      "gothere\n",
      "gothere2\n",
      "gothere3\n"
     ]
    }
   ],
   "source": [
    "# Read in all training data \n",
    "data = h5py.File(filepath+ \"fullDataSet.hdf5\", 'r')\n",
    "print(\"gothere\")\n",
    "X_fom = da.from_array(data[\"stateData\"][:,:,0:n_train+n_test], chunks=(4096, 4096,1))\n",
    "U_fom = da.from_array(data[\"inputData\"][:,:,0:n_train+n_test], chunks=(4096, 4096,1))\n",
    "Y_fom = da.from_array(data[\"reducedCenterlineData\"][:,:,0:n_train+n_test], chunks=(4096, 4096,1))\n",
    "x0 = data[\"stateData\"][:,0,0]\n",
    "y0 = data[\"reducedCenterlineData\"][:,0,0]\n",
    "\n",
    "\n",
    "# del data # free up memory\n",
    "print(\"gothere2\")\n",
    "n = X_fom.shape[0]\n",
    "l = U_fom.shape[0]\n",
    "m = Y_fom.shape[0]\n",
    "print(\"gothere3\")\n",
    "# del data # free up memory\n",
    "# Collect initial condition offsets for each episode and center each episode\n",
    "X0 = da.zeros((n,n_train+n_test))\n",
    "Y0 = da.zeros((m,n_train+n_test))\n",
    "for i in range(n_train+n_test):\n",
    "    X0[:,i] = X_fom[:,0,i]\n",
    "    Y0[:,i] = Y_fom[:,0,i]\n",
    "    X_fom[:,:,i] = X_fom[:,:,i] - X0[:,i].reshape(-1,1)\n",
    "    Y_fom[:,:,i] = Y_fom[:,:,i] - Y0[:,i].reshape(-1,1)\n"
   ]
  },
  {
   "cell_type": "code",
   "execution_count": null,
   "metadata": {},
   "outputs": [],
   "source": [
    "data[\"reducedCenterlineData\"][:,0,0]\n"
   ]
  },
  {
   "cell_type": "code",
   "execution_count": null,
   "metadata": {},
   "outputs": [],
   "source": [
    "x0.shape"
   ]
  },
  {
   "cell_type": "code",
   "execution_count": null,
   "metadata": {},
   "outputs": [],
   "source": [
    "# Get length of robot from min and max of x coords\n",
    "xzCoords = Y0[:,0].reshape(-1,2)\n",
    "x_min = np.min(xzCoords[:,0])\n",
    "x_max = np.max(xzCoords[:,0])\n",
    "length = x_max - x_min\n",
    "print(\"Length of robot: \", length.compute())\n",
    "# Get z min and max\n",
    "z_min = np.min(xzCoords[:,1])\n",
    "z_max = np.max(xzCoords[:,1])"
   ]
  },
  {
   "cell_type": "code",
   "execution_count": null,
   "metadata": {},
   "outputs": [],
   "source": [
    "# Print shapes of data\n",
    "print(\"Shape of X_fom: \", X_fom.shape)\n",
    "print(\"Shape of U_fom: \", U_fom.shape)\n",
    "print(\"Shape of Y_fom: \", Y_fom.shape)"
   ]
  },
  {
   "attachments": {},
   "cell_type": "markdown",
   "metadata": {},
   "source": [
    "# Learn System Matrices for Each Method"
   ]
  },
  {
   "cell_type": "markdown",
   "metadata": {},
   "source": [
    "## SVD to find correct size of bases"
   ]
  },
  {
   "cell_type": "code",
   "execution_count": null,
   "metadata": {},
   "outputs": [],
   "source": [
    "# Compute SVD of state training set to find size of reduced basis\n",
    "# Unroll the state training set into a matrix\n",
    "X_fom_train_da = da.hstack([X_fom[:,:,i] for i in range(n_train)])\n",
    "# Get shape of state training set\n",
    "print(X_fom_train_da.shape)\n",
    "X_fom_train_da"
   ]
  },
  {
   "cell_type": "code",
   "execution_count": null,
   "metadata": {},
   "outputs": [],
   "source": [
    "# compute singular values of unrolled state training set\n",
    "U_fom_train_da, S_fom_train_da, V_fom_train_da = da.linalg.svd_compressed(X_fom_train_da, 1000)  \n",
    "# Compute normalized singular values\n",
    "S_fom_train_norm = S_fom_train_da / da.sum(S_fom_train_da)\n"
   ]
  },
  {
   "cell_type": "code",
   "execution_count": null,
   "metadata": {},
   "outputs": [],
   "source": [
    "S_fom_train_norm"
   ]
  },
  {
   "cell_type": "code",
   "execution_count": null,
   "metadata": {},
   "outputs": [],
   "source": [
    "S_fom_train_norm = S_fom_train_norm.compute()\n"
   ]
  },
  {
   "cell_type": "code",
   "execution_count": null,
   "metadata": {},
   "outputs": [],
   "source": [
    "# Plot normalized singular values and the cumulative sum of normalized singular values\n",
    "plt.figure(figsize=(10,5))\n",
    "plt.subplot(1,2,1)\n",
    "plt.plot(S_fom_train_norm)\n",
    "plt.title('Normalized singular values')\n",
    "plt.xlabel('Singular value index')\n",
    "plt.ylabel('Normalized singular value')\n",
    "plt.axvline(x=22, color='r', linestyle='--')\n",
    "\n",
    "plt.subplot(1,2,2)\n",
    "plt.plot(np.cumsum(S_fom_train_norm))\n",
    "plt.title('Cumulative sum of normalized singular values')\n",
    "plt.xlabel('Singular value index')\n",
    "plt.ylabel('Cumulative sum of normalized singular values')\n",
    "# Plot a vertical line at 22\n",
    "plt.axvline(x=22, color='r', linestyle='--')\n",
    "\n",
    "print(np.cumsum(S_fom_train_norm))\n"
   ]
  },
  {
   "cell_type": "code",
   "execution_count": null,
   "metadata": {},
   "outputs": [],
   "source": [
    "n_ROM = 22 # Dimensionality of state in ROM"
   ]
  },
  {
   "attachments": {},
   "cell_type": "markdown",
   "metadata": {},
   "source": [
    "## OKID + ERA "
   ]
  },
  {
   "attachments": {},
   "cell_type": "markdown",
   "metadata": {},
   "source": [
    "### Setup Data matrices  "
   ]
  },
  {
   "cell_type": "code",
   "execution_count": null,
   "metadata": {},
   "outputs": [],
   "source": [
    "# Grab input-output data from single episode \n",
    "U_era = U_fom[:,:,0]\n",
    "Y_era = Y_fom[:,:,0]\n",
    "# # Center output data around initial conditions\n",
    "# Y_offset_era = Y_era[:,0].reshape(-1,1)\n",
    "# Y_era = Y_era - Y_offset_era\n",
    "\n"
   ]
  },
  {
   "attachments": {},
   "cell_type": "markdown",
   "metadata": {},
   "source": [
    "### OKID Algorithm "
   ]
  },
  {
   "cell_type": "code",
   "execution_count": null,
   "metadata": {},
   "outputs": [],
   "source": [
    "YY = Y_era\n",
    "UU_size = (U_era.shape[0]*U_era.shape[1],U_era.shape[1])\n",
    "UU = da.zeros(UU_size)\n",
    "\n",
    "for i in range(U_era.shape[1]):\n",
    "    startRow = i*U_era.shape[0]\n",
    "    endRow = (i+1)*U_era.shape[0]\n",
    "    UU[startRow:endRow,i:] = U_era[:,0:(U_era.shape[1]-i)]\n",
    "\n",
    "# compute pseudoinverse of input matrix using SVD\n",
    "U_UU, S_UU, Vh_UU = da.linalg.svd(UU)\n",
    "UU_pinv = da.matmul(da.transpose(Vh_UU),da.matmul(da.diag(1/S_UU),da.transpose(U_UU)))\n",
    "# UU_pinv = da.linalg.pinv(UU)\n",
    "# Solve for impulse response  \n",
    "IR = da.matmul(YY,UU_pinv)\n",
    "\n",
    "# IR = da.linalg.lstsq(da.transpose(YY),da.transpose(UU)) # solves for transpose of impulse response\n",
    "\n",
    "# IR = da.transpose(IR) # transpose to get impulse response\n"
   ]
  },
  {
   "cell_type": "code",
   "execution_count": null,
   "metadata": {},
   "outputs": [],
   "source": [
    "# Compute things to limit growth of computation graph\n",
    "IR = IR.compute()\n",
    "print(IR.shape)\n",
    "# IR = da.from_array(IR)\n",
    "print(\"done\")"
   ]
  },
  {
   "attachments": {},
   "cell_type": "markdown",
   "metadata": {},
   "source": [
    "### Eigensystem Realization Algorithm"
   ]
  },
  {
   "cell_type": "code",
   "execution_count": null,
   "metadata": {},
   "outputs": [],
   "source": [
    "# Form Hankel matrix for ERA \n",
    "N = int(n_timesteps/2-1)\n",
    "H_size = (m*N,l*N)\n",
    "\n",
    "H = np.zeros(H_size)\n",
    "Hprime = np.zeros(H_size)\n",
    "\n",
    "for i in range(N):\n",
    "    startRow = m*i \n",
    "    endRow = m*(i+1)\n",
    "    H[startRow:endRow,:]=IR[:,l*(1+i):l*(1+i+N)]\n",
    "    Hprime[startRow:endRow,:]=IR[:,l*(2+i):l*(2+i+N)]\n"
   ]
  },
  {
   "cell_type": "code",
   "execution_count": null,
   "metadata": {},
   "outputs": [],
   "source": [
    "IR.shape"
   ]
  },
  {
   "cell_type": "code",
   "execution_count": null,
   "metadata": {},
   "outputs": [],
   "source": [
    "H = da.from_array(H, chunks=(2048,H.shape[1]))\n",
    "Hprime = da.from_array(Hprime, chunks=(2048,Hprime.shape[1]))\n",
    "IR = da.from_array(IR, chunks=(IR.shape[0],4096))"
   ]
  },
  {
   "cell_type": "code",
   "execution_count": null,
   "metadata": {},
   "outputs": [],
   "source": [
    "# Get SVD of Hankel matrix\n",
    "U, S, Vh = da.linalg.svd_compressed(H, 1000)\n",
    "# Vh = V.conj().T"
   ]
  },
  {
   "cell_type": "code",
   "execution_count": null,
   "metadata": {},
   "outputs": [],
   "source": [
    "# Print shapes of matrices\n",
    "print(\"Shape of U: \", U.shape)\n",
    "print(\"Shape of S: \", S.shape)\n",
    "print(\"Shape of Vh: \", Vh.shape)"
   ]
  },
  {
   "cell_type": "code",
   "execution_count": null,
   "metadata": {},
   "outputs": [],
   "source": [
    "# Truncate SVD\n",
    "U = U[:,:n_ROM]\n",
    "S = da.diag(S[:n_ROM])\n",
    "Vh = Vh[:n_ROM,:]"
   ]
  },
  {
   "cell_type": "code",
   "execution_count": null,
   "metadata": {},
   "outputs": [],
   "source": [
    "# Print shapes of matrices\n",
    "print(\"Shape of U: \", U.shape)\n",
    "print(\"Shape of S: \", S.shape)\n",
    "print(\"Shape of Vh: \", Vh.shape)"
   ]
  },
  {
   "cell_type": "code",
   "execution_count": null,
   "metadata": {},
   "outputs": [],
   "source": [
    "# Compute trunacted SVD values\n",
    "U, S, Vh = da.compute(U, S, Vh)\n",
    "# S = S.compute()\n",
    "# Vh = Vh.compute()"
   ]
  },
  {
   "cell_type": "code",
   "execution_count": null,
   "metadata": {},
   "outputs": [],
   "source": [
    "# Print sizes of SVD matrices\n",
    "print(\"SVD matrices:\")\n",
    "print(\"U: \", U.shape)\n",
    "print(\"S: \", S.shape)\n",
    "print(\"V: \", Vh.shape)"
   ]
  },
  {
   "cell_type": "code",
   "execution_count": null,
   "metadata": {},
   "outputs": [],
   "source": [
    "# Convert np arrays back into dask arrays\n",
    "U = da.from_array(U)\n",
    "Vh = da.from_array(Vh)\n",
    "S = da.from_array(S)"
   ]
  },
  {
   "cell_type": "code",
   "execution_count": null,
   "metadata": {},
   "outputs": [],
   "source": [
    "# Solve for system matrices\n",
    "Sigma_tilde_is = da.linalg.inv(da.sqrt(S)) # inverse squareroot of sigma matrix\n",
    "Sigma_tilde_sqrt = da.sqrt(S) # squareroot of sigma matrix\n",
    "\n",
    "\n",
    "Em = da.concatenate([da.eye(l),da.zeros((l*(N-1),l))],axis=0)\n",
    "Ep = da.concatenate([da.eye(m),da.zeros((m*(N-1),m))],axis=0)\n",
    "\n",
    "A_era = da.matmul(da.matmul(da.matmul(da.matmul(Sigma_tilde_is,da.transpose(U)),Hprime),da.transpose(Vh)),Sigma_tilde_is)\n",
    "B_era = da.matmul(da.matmul(Sigma_tilde_sqrt,Vh),Em)\n",
    "C_era = da.matmul(da.transpose(Ep),da.matmul(U,Sigma_tilde_sqrt))\n",
    "D_era = IR[:,:l]\n"
   ]
  },
  {
   "cell_type": "code",
   "execution_count": null,
   "metadata": {},
   "outputs": [],
   "source": [
    "# A_era = A_era.compute()\n",
    "# B_era = B_era.compute()\n",
    "# C_era = C_era.compute()\n",
    "# D_era = D_era.compute()\n",
    "\n",
    "A_era, B_era, C_era, D_era = da.compute(A_era, B_era, C_era, D_era)"
   ]
  },
  {
   "cell_type": "code",
   "execution_count": null,
   "metadata": {},
   "outputs": [],
   "source": [
    "# Save system matrices, projection mappings, and initial offset into file for later use\n",
    "np.savez(filepath+f\"eraSystemMatrices_{n_ROM}dim_{n_train}train_{n_test}test.npz\", A_era=A_era, B_era=B_era, C_era=C_era, D_era=D_era, x0=x0, y0=y0)\n",
    "# save as .mat file\n",
    "scipy.io.savemat(filepath+f\"eraSystemMatrices_{n_ROM}dim_{n_train}train_{n_test}test.mat\", mdict={'A_era': A_era, 'B_era': B_era, 'C_era': C_era, 'D_era': D_era, 'x0': x0, 'y0': y0})"
   ]
  },
  {
   "cell_type": "code",
   "execution_count": null,
   "metadata": {},
   "outputs": [],
   "source": [
    "# clean up memory except for system matrices\n",
    "del U_era, Y_era, YY, UU, IR, H, Hprime, U, S, Vh, Sigma_tilde_is, Sigma_tilde_sqrt, Em, Ep\n"
   ]
  },
  {
   "attachments": {},
   "cell_type": "markdown",
   "metadata": {},
   "source": [
    "## DMDc"
   ]
  },
  {
   "attachments": {},
   "cell_type": "markdown",
   "metadata": {},
   "source": [
    "### Setup Data Matrices"
   ]
  },
  {
   "cell_type": "code",
   "execution_count": 35,
   "metadata": {},
   "outputs": [],
   "source": [
    "# Initialize data matrices for training and testing\n",
    "X_train = da.zeros((n,(n_timesteps-1)*n_train), chunks=(128,(n_timesteps-1)*n_train))\n",
    "Xprime_train = da.zeros((n,(n_timesteps-1)*n_train), chunks=(128,(n_timesteps-1)*n_train))\n",
    "Upsilon_train = da.zeros((l,(n_timesteps-1)*n_train), chunks=(l,512))\n",
    "Y_train = da.zeros((m,(n_timesteps-1)*n_train), chunks=(m,128))\n",
    "# Load in data from training episodes\n",
    "for i in range(n_train):\n",
    "    X_train[:,i*(n_timesteps-1):(i+1)*(n_timesteps-1)] = X_fom[:,:-1,i]\n",
    "    Xprime_train[:,i*(n_timesteps-1):(i+1)*(n_timesteps-1)] = X_fom[:,1:,i]\n",
    "    Upsilon_train[:,i*(n_timesteps-1):(i+1)*(n_timesteps-1)] = U_fom[:,:-1,i]\n",
    "    Y_train[:,i*(n_timesteps-1):(i+1)*(n_timesteps-1)] = Y_fom[:,:-1,i]\n"
   ]
  },
  {
   "cell_type": "code",
   "execution_count": 36,
   "metadata": {},
   "outputs": [],
   "source": [
    "# Form snapshot matrices for DMDc\n",
    "Omega = da.concatenate([X_train,Upsilon_train],axis=0)\n",
    "# Omega = Omega.rechunk((Omega.shape[0],1))\n",
    "# Omega\n"
   ]
  },
  {
   "attachments": {},
   "cell_type": "markdown",
   "metadata": {},
   "source": [
    "### Solve for Discrete Time System Matrices"
   ]
  },
  {
   "cell_type": "code",
   "execution_count": 37,
   "metadata": {},
   "outputs": [],
   "source": [
    "# Decompose snapshot matrix using truncated SVD\n",
    "p_dmd = 1024\n",
    "r_dmd = n_ROM\n",
    "\n",
    "U_tilde,Sigma_tilde,Vh_tilde = da.linalg.svd_compressed(Omega, p_dmd)\n",
    "# Vh_tilde = da.conj(da.transpose(V_tilde))\n",
    "Sigma_tilde = da.diag(Sigma_tilde)\n",
    "U_hat, Sigma_hat, V_hat = da.linalg.svd_compressed(Xprime_train, r_dmd)\n",
    "Sigma_hat = da.diag(Sigma_hat)\n",
    "\n"
   ]
  },
  {
   "cell_type": "code",
   "execution_count": 38,
   "metadata": {},
   "outputs": [
    {
     "name": "stdout",
     "output_type": "stream",
     "text": [
      "U_tilde shape:  (231342, 1024)\n",
      "Sigma_tilde shape:  (1024, 1024)\n",
      "Vh_tilde shape:  (1024, 3998)\n"
     ]
    }
   ],
   "source": [
    "# Print shapes of svd matrices\n",
    "print(\"U_tilde shape: \", U_tilde.shape)\n",
    "print(\"Sigma_tilde shape: \", Sigma_tilde.shape)\n",
    "print(\"Vh_tilde shape: \", Vh_tilde.shape)"
   ]
  },
  {
   "cell_type": "code",
   "execution_count": 39,
   "metadata": {},
   "outputs": [],
   "source": [
    "# Compute system state evolution matrices\n",
    "U_tilde_1 = U_tilde[0:n,:]\n",
    "U_tilde_2 = U_tilde[n:,:]\n",
    "A_dmdc = (U_hat.conj().T)@Xprime_train@(Vh_tilde.conj().T)@(da.linalg.inv(Sigma_tilde))@(U_tilde_1.conj().T)@U_hat\n",
    "B_dmdc = (U_hat.conj().T)@Xprime_train@(Vh_tilde.conj().T)@(da.linalg.inv(Sigma_tilde))@(U_tilde_2.conj().T)"
   ]
  },
  {
   "cell_type": "code",
   "execution_count": null,
   "metadata": {},
   "outputs": [],
   "source": [
    "# U_tilde_1.compute()"
   ]
  },
  {
   "cell_type": "code",
   "execution_count": 40,
   "metadata": {},
   "outputs": [],
   "source": [
    "# Solve for system output matrix from full order system\n",
    "ys = Y_train[:,0:10]\n",
    "\n",
    "# compute approximate pseudoinverse of data matrix using SVD\n",
    "# X_train = X_train.rechunk((2000,X_train.shape[1])) # Rechunk along one dimension\n",
    "U_X_train, S_X_train, Vh_X_train = da.linalg.svd(X_train[:,0:10])\n",
    "X_PI = da.matmul(da.transpose(Vh_X_train),da.matmul(da.diag(S_X_train),da.transpose(U_X_train)))\n",
    "\n",
    "\n",
    "# # X_PI = np.linalg.pinv(X_train[:,0:10])\n",
    "C_dmdc = ys@X_PI\n",
    "C_dmdc = C_dmdc@U_hat\n",
    "\n"
   ]
  },
  {
   "cell_type": "code",
   "execution_count": 30,
   "metadata": {},
   "outputs": [
    {
     "name": "stdout",
     "output_type": "stream",
     "text": [
      "Shape of U_X_train:  (231336, 10)\n",
      "Shape of S_X_train:  (10,)\n",
      "Shape of Vh_X_train:  (10, 10)\n"
     ]
    }
   ],
   "source": [
    "# Print shape of svd matrices\n",
    "print(\"Shape of U_X_train: \", U_X_train.shape)\n",
    "print(\"Shape of S_X_train: \", S_X_train.shape)\n",
    "print(\"Shape of Vh_X_train: \", Vh_X_train.shape)"
   ]
  },
  {
   "cell_type": "code",
   "execution_count": 41,
   "metadata": {},
   "outputs": [
    {
     "name": "stdout",
     "output_type": "stream",
     "text": [
      "Computing System Matrices\n"
     ]
    },
    {
     "name": "stderr",
     "output_type": "stream",
     "text": [
      "2023-11-29 12:01:40,497 - distributed.protocol.core - CRITICAL - Failed to Serialize\n",
      "Traceback (most recent call last):\n",
      "  File \"/home/brdl/.local/lib/python3.8/site-packages/distributed/protocol/core.py\", line 109, in dumps\n",
      "    frames[0] = msgpack.dumps(msg, default=_encode_default, use_bin_type=True)\n",
      "  File \"/home/brdl/.local/lib/python3.8/site-packages/msgpack/__init__.py\", line 38, in packb\n",
      "    return Packer(**kwargs).pack(o)\n",
      "  File \"msgpack/_packer.pyx\", line 294, in msgpack._cmsgpack.Packer.pack\n",
      "  File \"msgpack/_packer.pyx\", line 300, in msgpack._cmsgpack.Packer.pack\n",
      "  File \"msgpack/_packer.pyx\", line 297, in msgpack._cmsgpack.Packer.pack\n",
      "  File \"msgpack/_packer.pyx\", line 264, in msgpack._cmsgpack.Packer._pack\n",
      "  File \"msgpack/_packer.pyx\", line 231, in msgpack._cmsgpack.Packer._pack\n",
      "  File \"msgpack/_packer.pyx\", line 264, in msgpack._cmsgpack.Packer._pack\n",
      "  File \"msgpack/_packer.pyx\", line 202, in msgpack._cmsgpack.Packer._pack\n",
      "ValueError: bytes object is too large\n",
      "2023-11-29 12:01:40,499 - distributed.comm.utils - ERROR - bytes object is too large\n",
      "Traceback (most recent call last):\n",
      "  File \"/home/brdl/.local/lib/python3.8/site-packages/distributed/comm/utils.py\", line 55, in _to_frames\n",
      "    return list(protocol.dumps(msg, **kwargs))\n",
      "  File \"/home/brdl/.local/lib/python3.8/site-packages/distributed/protocol/core.py\", line 109, in dumps\n",
      "    frames[0] = msgpack.dumps(msg, default=_encode_default, use_bin_type=True)\n",
      "  File \"/home/brdl/.local/lib/python3.8/site-packages/msgpack/__init__.py\", line 38, in packb\n",
      "    return Packer(**kwargs).pack(o)\n",
      "  File \"msgpack/_packer.pyx\", line 294, in msgpack._cmsgpack.Packer.pack\n",
      "  File \"msgpack/_packer.pyx\", line 300, in msgpack._cmsgpack.Packer.pack\n",
      "  File \"msgpack/_packer.pyx\", line 297, in msgpack._cmsgpack.Packer.pack\n",
      "  File \"msgpack/_packer.pyx\", line 264, in msgpack._cmsgpack.Packer._pack\n",
      "  File \"msgpack/_packer.pyx\", line 231, in msgpack._cmsgpack.Packer._pack\n",
      "  File \"msgpack/_packer.pyx\", line 264, in msgpack._cmsgpack.Packer._pack\n",
      "  File \"msgpack/_packer.pyx\", line 202, in msgpack._cmsgpack.Packer._pack\n",
      "ValueError: bytes object is too large\n",
      "2023-11-29 12:01:40,532 - distributed.batched - ERROR - Error in batched write\n",
      "Traceback (most recent call last):\n",
      "  File \"/home/brdl/.local/lib/python3.8/site-packages/distributed/batched.py\", line 115, in _background_send\n",
      "    nbytes = yield coro\n",
      "  File \"/home/brdl/.local/lib/python3.8/site-packages/tornado/gen.py\", line 769, in run\n",
      "    value = future.result()\n",
      "  File \"/home/brdl/.local/lib/python3.8/site-packages/distributed/comm/tcp.py\", line 271, in write\n",
      "    frames = await to_frames(\n",
      "  File \"/home/brdl/.local/lib/python3.8/site-packages/distributed/comm/utils.py\", line 70, in to_frames\n",
      "    return await offload(_to_frames)\n",
      "  File \"/home/brdl/.local/lib/python3.8/site-packages/distributed/utils.py\", line 1470, in run_in_executor_with_context\n",
      "    return await loop.run_in_executor(\n",
      "  File \"/usr/lib/python3.8/concurrent/futures/thread.py\", line 57, in run\n",
      "    result = self.fn(*self.args, **self.kwargs)\n",
      "  File \"/home/brdl/.local/lib/python3.8/site-packages/distributed/utils.py\", line 1471, in <lambda>\n",
      "    executor, lambda: context.run(func, *args, **kwargs)\n",
      "  File \"/home/brdl/.local/lib/python3.8/site-packages/distributed/comm/utils.py\", line 55, in _to_frames\n",
      "    return list(protocol.dumps(msg, **kwargs))\n",
      "  File \"/home/brdl/.local/lib/python3.8/site-packages/distributed/protocol/core.py\", line 109, in dumps\n",
      "    frames[0] = msgpack.dumps(msg, default=_encode_default, use_bin_type=True)\n",
      "  File \"/home/brdl/.local/lib/python3.8/site-packages/msgpack/__init__.py\", line 38, in packb\n",
      "    return Packer(**kwargs).pack(o)\n",
      "  File \"msgpack/_packer.pyx\", line 294, in msgpack._cmsgpack.Packer.pack\n",
      "  File \"msgpack/_packer.pyx\", line 300, in msgpack._cmsgpack.Packer.pack\n",
      "  File \"msgpack/_packer.pyx\", line 297, in msgpack._cmsgpack.Packer.pack\n",
      "  File \"msgpack/_packer.pyx\", line 264, in msgpack._cmsgpack.Packer._pack\n",
      "  File \"msgpack/_packer.pyx\", line 231, in msgpack._cmsgpack.Packer._pack\n",
      "  File \"msgpack/_packer.pyx\", line 264, in msgpack._cmsgpack.Packer._pack\n",
      "  File \"msgpack/_packer.pyx\", line 202, in msgpack._cmsgpack.Packer._pack\n",
      "ValueError: bytes object is too large\n"
     ]
    },
    {
     "ename": "CancelledError",
     "evalue": "('mul-b37b33a9591eb9a315259809b4df2d1f', 909, 0)",
     "output_type": "error",
     "traceback": [
      "\u001b[0;31m---------------------------------------------------------------------------\u001b[0m",
      "\u001b[0;31mCancelledError\u001b[0m                            Traceback (most recent call last)",
      "\u001b[1;32m/home/brdl/iman/dev/sofaProjects/anguilliformOptimalControl/src/compareROMMethods_fullAssembly.ipynb Cell 52\u001b[0m line \u001b[0;36m3\n\u001b[1;32m      <a href='vscode-notebook-cell:/home/brdl/iman/dev/sofaProjects/anguilliformOptimalControl/src/compareROMMethods_fullAssembly.ipynb#Y102sZmlsZQ%3D%3D?line=0'>1</a>\u001b[0m \u001b[39m# Execute computations for dmdc system matrices\u001b[39;00m\n\u001b[1;32m      <a href='vscode-notebook-cell:/home/brdl/iman/dev/sofaProjects/anguilliformOptimalControl/src/compareROMMethods_fullAssembly.ipynb#Y102sZmlsZQ%3D%3D?line=1'>2</a>\u001b[0m \u001b[39mprint\u001b[39m(\u001b[39m\"\u001b[39m\u001b[39mComputing System Matrices\u001b[39m\u001b[39m\"\u001b[39m)\n\u001b[0;32m----> <a href='vscode-notebook-cell:/home/brdl/iman/dev/sofaProjects/anguilliformOptimalControl/src/compareROMMethods_fullAssembly.ipynb#Y102sZmlsZQ%3D%3D?line=2'>3</a>\u001b[0m A_dmdc, B_dmdc, C_dmdc,U_hat \u001b[39m=\u001b[39m da\u001b[39m.\u001b[39;49mcompute(A_dmdc, B_dmdc, C_dmdc,U_hat)\n\u001b[1;32m      <a href='vscode-notebook-cell:/home/brdl/iman/dev/sofaProjects/anguilliformOptimalControl/src/compareROMMethods_fullAssembly.ipynb#Y102sZmlsZQ%3D%3D?line=3'>4</a>\u001b[0m \u001b[39m# A_dmdc = A_dmdc.compute()\u001b[39;00m\n\u001b[1;32m      <a href='vscode-notebook-cell:/home/brdl/iman/dev/sofaProjects/anguilliformOptimalControl/src/compareROMMethods_fullAssembly.ipynb#Y102sZmlsZQ%3D%3D?line=4'>5</a>\u001b[0m \u001b[39m# print(\"Computing B_dmdc\")\u001b[39;00m\n\u001b[1;32m      <a href='vscode-notebook-cell:/home/brdl/iman/dev/sofaProjects/anguilliformOptimalControl/src/compareROMMethods_fullAssembly.ipynb#Y102sZmlsZQ%3D%3D?line=5'>6</a>\u001b[0m \u001b[39m# B_dmdc = B_dmdc.compute()\u001b[39;00m\n\u001b[1;32m      <a href='vscode-notebook-cell:/home/brdl/iman/dev/sofaProjects/anguilliformOptimalControl/src/compareROMMethods_fullAssembly.ipynb#Y102sZmlsZQ%3D%3D?line=6'>7</a>\u001b[0m \u001b[39m# print(\"Computing C_dmdc\")\u001b[39;00m\n\u001b[1;32m      <a href='vscode-notebook-cell:/home/brdl/iman/dev/sofaProjects/anguilliformOptimalControl/src/compareROMMethods_fullAssembly.ipynb#Y102sZmlsZQ%3D%3D?line=7'>8</a>\u001b[0m \u001b[39m# C_dmdc = C_dmdc.compute()\u001b[39;00m\n\u001b[1;32m      <a href='vscode-notebook-cell:/home/brdl/iman/dev/sofaProjects/anguilliformOptimalControl/src/compareROMMethods_fullAssembly.ipynb#Y102sZmlsZQ%3D%3D?line=8'>9</a>\u001b[0m \u001b[39m# print(\"Done\")\u001b[39;00m\n",
      "File \u001b[0;32m~/.local/lib/python3.8/site-packages/dask/base.py:599\u001b[0m, in \u001b[0;36mcompute\u001b[0;34m(traverse, optimize_graph, scheduler, get, *args, **kwargs)\u001b[0m\n\u001b[1;32m    596\u001b[0m     keys\u001b[39m.\u001b[39mappend(x\u001b[39m.\u001b[39m__dask_keys__())\n\u001b[1;32m    597\u001b[0m     postcomputes\u001b[39m.\u001b[39mappend(x\u001b[39m.\u001b[39m__dask_postcompute__())\n\u001b[0;32m--> 599\u001b[0m results \u001b[39m=\u001b[39m schedule(dsk, keys, \u001b[39m*\u001b[39;49m\u001b[39m*\u001b[39;49mkwargs)\n\u001b[1;32m    600\u001b[0m \u001b[39mreturn\u001b[39;00m repack([f(r, \u001b[39m*\u001b[39ma) \u001b[39mfor\u001b[39;00m r, (f, a) \u001b[39min\u001b[39;00m \u001b[39mzip\u001b[39m(results, postcomputes)])\n",
      "File \u001b[0;32m~/.local/lib/python3.8/site-packages/distributed/client.py:3226\u001b[0m, in \u001b[0;36mClient.get\u001b[0;34m(self, dsk, keys, workers, allow_other_workers, resources, sync, asynchronous, direct, retries, priority, fifo_timeout, actors, **kwargs)\u001b[0m\n\u001b[1;32m   3224\u001b[0m         should_rejoin \u001b[39m=\u001b[39m \u001b[39mFalse\u001b[39;00m\n\u001b[1;32m   3225\u001b[0m \u001b[39mtry\u001b[39;00m:\n\u001b[0;32m-> 3226\u001b[0m     results \u001b[39m=\u001b[39m \u001b[39mself\u001b[39;49m\u001b[39m.\u001b[39;49mgather(packed, asynchronous\u001b[39m=\u001b[39;49masynchronous, direct\u001b[39m=\u001b[39;49mdirect)\n\u001b[1;32m   3227\u001b[0m \u001b[39mfinally\u001b[39;00m:\n\u001b[1;32m   3228\u001b[0m     \u001b[39mfor\u001b[39;00m f \u001b[39min\u001b[39;00m futures\u001b[39m.\u001b[39mvalues():\n",
      "File \u001b[0;32m~/.local/lib/python3.8/site-packages/distributed/client.py:2361\u001b[0m, in \u001b[0;36mClient.gather\u001b[0;34m(self, futures, errors, direct, asynchronous)\u001b[0m\n\u001b[1;32m   2359\u001b[0m \u001b[39melse\u001b[39;00m:\n\u001b[1;32m   2360\u001b[0m     local_worker \u001b[39m=\u001b[39m \u001b[39mNone\u001b[39;00m\n\u001b[0;32m-> 2361\u001b[0m \u001b[39mreturn\u001b[39;00m \u001b[39mself\u001b[39;49m\u001b[39m.\u001b[39;49msync(\n\u001b[1;32m   2362\u001b[0m     \u001b[39mself\u001b[39;49m\u001b[39m.\u001b[39;49m_gather,\n\u001b[1;32m   2363\u001b[0m     futures,\n\u001b[1;32m   2364\u001b[0m     errors\u001b[39m=\u001b[39;49merrors,\n\u001b[1;32m   2365\u001b[0m     direct\u001b[39m=\u001b[39;49mdirect,\n\u001b[1;32m   2366\u001b[0m     local_worker\u001b[39m=\u001b[39;49mlocal_worker,\n\u001b[1;32m   2367\u001b[0m     asynchronous\u001b[39m=\u001b[39;49masynchronous,\n\u001b[1;32m   2368\u001b[0m )\n",
      "File \u001b[0;32m~/.local/lib/python3.8/site-packages/distributed/utils.py:351\u001b[0m, in \u001b[0;36mSyncMethodMixin.sync\u001b[0;34m(self, func, asynchronous, callback_timeout, *args, **kwargs)\u001b[0m\n\u001b[1;32m    349\u001b[0m     \u001b[39mreturn\u001b[39;00m future\n\u001b[1;32m    350\u001b[0m \u001b[39melse\u001b[39;00m:\n\u001b[0;32m--> 351\u001b[0m     \u001b[39mreturn\u001b[39;00m sync(\n\u001b[1;32m    352\u001b[0m         \u001b[39mself\u001b[39;49m\u001b[39m.\u001b[39;49mloop, func, \u001b[39m*\u001b[39;49margs, callback_timeout\u001b[39m=\u001b[39;49mcallback_timeout, \u001b[39m*\u001b[39;49m\u001b[39m*\u001b[39;49mkwargs\n\u001b[1;32m    353\u001b[0m     )\n",
      "File \u001b[0;32m~/.local/lib/python3.8/site-packages/distributed/utils.py:418\u001b[0m, in \u001b[0;36msync\u001b[0;34m(loop, func, callback_timeout, *args, **kwargs)\u001b[0m\n\u001b[1;32m    416\u001b[0m \u001b[39mif\u001b[39;00m error:\n\u001b[1;32m    417\u001b[0m     typ, exc, tb \u001b[39m=\u001b[39m error\n\u001b[0;32m--> 418\u001b[0m     \u001b[39mraise\u001b[39;00m exc\u001b[39m.\u001b[39mwith_traceback(tb)\n\u001b[1;32m    419\u001b[0m \u001b[39melse\u001b[39;00m:\n\u001b[1;32m    420\u001b[0m     \u001b[39mreturn\u001b[39;00m result\n",
      "File \u001b[0;32m~/.local/lib/python3.8/site-packages/distributed/utils.py:391\u001b[0m, in \u001b[0;36msync.<locals>.f\u001b[0;34m()\u001b[0m\n\u001b[1;32m    389\u001b[0m         future \u001b[39m=\u001b[39m wait_for(future, callback_timeout)\n\u001b[1;32m    390\u001b[0m     future \u001b[39m=\u001b[39m asyncio\u001b[39m.\u001b[39mensure_future(future)\n\u001b[0;32m--> 391\u001b[0m     result \u001b[39m=\u001b[39m \u001b[39myield\u001b[39;00m future\n\u001b[1;32m    392\u001b[0m \u001b[39mexcept\u001b[39;00m \u001b[39mException\u001b[39;00m:\n\u001b[1;32m    393\u001b[0m     error \u001b[39m=\u001b[39m sys\u001b[39m.\u001b[39mexc_info()\n",
      "File \u001b[0;32m~/.local/lib/python3.8/site-packages/tornado/gen.py:769\u001b[0m, in \u001b[0;36mRunner.run\u001b[0;34m(self)\u001b[0m\n\u001b[1;32m    766\u001b[0m exc_info \u001b[39m=\u001b[39m \u001b[39mNone\u001b[39;00m\n\u001b[1;32m    768\u001b[0m \u001b[39mtry\u001b[39;00m:\n\u001b[0;32m--> 769\u001b[0m     value \u001b[39m=\u001b[39m future\u001b[39m.\u001b[39;49mresult()\n\u001b[1;32m    770\u001b[0m \u001b[39mexcept\u001b[39;00m \u001b[39mException\u001b[39;00m:\n\u001b[1;32m    771\u001b[0m     exc_info \u001b[39m=\u001b[39m sys\u001b[39m.\u001b[39mexc_info()\n",
      "File \u001b[0;32m~/.local/lib/python3.8/site-packages/distributed/client.py:2225\u001b[0m, in \u001b[0;36mClient._gather\u001b[0;34m(self, futures, errors, direct, local_worker)\u001b[0m\n\u001b[1;32m   2223\u001b[0m     \u001b[39melse\u001b[39;00m:\n\u001b[1;32m   2224\u001b[0m         \u001b[39mraise\u001b[39;00m exception\u001b[39m.\u001b[39mwith_traceback(traceback)\n\u001b[0;32m-> 2225\u001b[0m     \u001b[39mraise\u001b[39;00m exc\n\u001b[1;32m   2226\u001b[0m \u001b[39mif\u001b[39;00m errors \u001b[39m==\u001b[39m \u001b[39m\"\u001b[39m\u001b[39mskip\u001b[39m\u001b[39m\"\u001b[39m:\n\u001b[1;32m   2227\u001b[0m     bad_keys\u001b[39m.\u001b[39madd(key)\n",
      "\u001b[0;31mCancelledError\u001b[0m: ('mul-b37b33a9591eb9a315259809b4df2d1f', 909, 0)"
     ]
    }
   ],
   "source": [
    "# Execute computations for dmdc system matrices\n",
    "print(\"Computing System Matrices\")\n",
    "A_dmdc, B_dmdc, C_dmdc,U_hat = da.compute(A_dmdc, B_dmdc, C_dmdc,U_hat)\n",
    "# A_dmdc = A_dmdc.compute()\n",
    "# print(\"Computing B_dmdc\")\n",
    "# B_dmdc = B_dmdc.compute()\n",
    "# print(\"Computing C_dmdc\")\n",
    "# C_dmdc = C_dmdc.compute()\n",
    "# print(\"Done\")\n",
    "\n"
   ]
  },
  {
   "cell_type": "code",
   "execution_count": null,
   "metadata": {},
   "outputs": [],
   "source": [
    "basis_dmdc = U_hat[:,0:n_ROM]\n"
   ]
  },
  {
   "cell_type": "code",
   "execution_count": null,
   "metadata": {},
   "outputs": [],
   "source": [
    "# Compute U_hat for saving\n",
    "# U_hat = U_hat.compute()"
   ]
  },
  {
   "cell_type": "code",
   "execution_count": null,
   "metadata": {},
   "outputs": [],
   "source": [
    "# Save system matrices, projection mappings, and initial offset into file for later use\n",
    "np.savez(filepath+f\"dmdcSystemMatrices_{n_ROM}dim_{n_train}train_{n_test}test.npz\", A_dmdc=A_dmdc, B_dmdc=B_dmdc, C_dmdc=C_dmdc, basis_dmdc = U_hat, x0=x0, y0=y0)\n",
    "# save as .mat file\n",
    "scipy.io.savemat(filepath+f\"dmdcSystemMatrices_{n_ROM}dim_{n_train}train_{n_test}test.mat\", mdict={'A_dmdc': A_dmdc, 'B_dmdc': B_dmdc, 'C_dmdc': C_dmdc, 'basis_dmdc': U_hat, 'x0': x0, 'y0': y0})"
   ]
  },
  {
   "cell_type": "code",
   "execution_count": null,
   "metadata": {},
   "outputs": [],
   "source": [
    "# Clean up memory except for system matrices\n",
    "del  Xprime_train, Upsilon_train, Omega, U_tilde, Sigma_tilde, Vh_tilde, Sigma_hat, V_hat, U_tilde_1, U_tilde_2, X_PI, ys"
   ]
  },
  {
   "attachments": {},
   "cell_type": "markdown",
   "metadata": {},
   "source": [
    "## LOpInf"
   ]
  },
  {
   "cell_type": "code",
   "execution_count": null,
   "metadata": {},
   "outputs": [],
   "source": [
    "# Read in continuous time operators from file\n",
    "mat = scipy.io.loadmat(filepath+'lopinf_rom_11_operators.mat')\n",
    "Bhat_lopinf = mat['Bhat']\n",
    "Chat_lopinf = mat['Chat']\n",
    "Ehat_lopinf = mat['Cphat']\n",
    "Khat_lopinf = mat['Khat']\n",
    "Mhat_lopinf = mat['Mhat']\n",
    "basis_lopinf = np.hstack((mat['v'],np.zeros((mat['v'].shape[0],mat['v'].shape[1]))))\n",
    "# Form continuous time linear state space matrices\n",
    "A_lopinf_ct = np.block([\n",
    "    [np.zeros((n_ROM//2,n_ROM//2)),np.eye(n_ROM//2)],\n",
    "    [-Khat_lopinf, -Chat_lopinf]\n",
    "])\n",
    "B_lopinf_ct = np.block([\n",
    "    [np.zeros((n_ROM//2,l))],\n",
    "    [Bhat_lopinf]\n",
    "])\n",
    "C_lopinf_ct = np.block([\n",
    "    [Ehat_lopinf, np.zeros((m,n_ROM//2))]\n",
    "])\n",
    "D_lopinf_ct = np.zeros((m,l))\n",
    "# Convert continuous time operators to discrete time operators\n",
    "A_lopinf_dt = scipy.linalg.expm(A_lopinf_ct*dt)\n",
    "B_lopinf_dt = (A_lopinf_dt-np.eye(n_ROM))@np.linalg.inv(A_lopinf_ct)@B_lopinf_ct\n",
    "C_lopinf_dt = C_lopinf_ct\n",
    "D_lopinf_dt = D_lopinf_ct\n",
    "\n",
    "# A_lopinf, B_lopinf, C_lopinf, D_lopinf, dt_lopinf = cont2discrete((A_lopinf_ct, B_lopinf_ct, C_lopinf_ct,D_lopinf_ct), dt, method='zoh')"
   ]
  },
  {
   "cell_type": "code",
   "execution_count": null,
   "metadata": {},
   "outputs": [],
   "source": [
    "# Print sizes of A matrices\n",
    "# print('A_dmdc: ', A_dmdc.shape)\n",
    "# print('A_opInf: ', A_opInf.shape)\n",
    "# print('A_lopinf: ', A_lopinf.shape)\n",
    "# Check if lopinf matrices are identical betweeen continuous and discrete time \n",
    "# print(np.equal(C_lopinf_dt,C_lopinf).all())\n",
    "# print(np.equal(D_lopinf_dt,D_lopinf).all())\n",
    "# print(np.equal(A_lopinf_dt,A_lopinf).all())\n",
    "# print(np.equal(B_lopinf_dt,B_lopinf).all())\n",
    "\n"
   ]
  },
  {
   "cell_type": "code",
   "execution_count": null,
   "metadata": {},
   "outputs": [],
   "source": [
    "# Save system matrices, projection mappings, and initial offset into file for later use\n",
    "np.savez(filepath+f\"lopinfSystemMatrices_{n_ROM}dim_{n_train}train_{n_test}test.npz\", A_lopinf=A_lopinf_dt,B_lopinf=B_lopinf_dt,C_lopinf=C_lopinf_dt,D_lopinf = D_lopinf_dt,basis_lopinf = mat[\"v\"], x0=x0, y0=y0)\n",
    "# save as .mat file\n",
    "scipy.io.savemat(filepath+f\"dmdcSystemMatrices_{n_ROM}dim_{n_train}train_{n_test}test.mat\", mdict={'A_lopinf': A_lopinf_dt, 'B_lopinf': B_lopinf_dt, 'C_lopinf': C_lopinf_dt, 'D_lopinf': D_lopinf_dt, 'basis_lopinf':mat[\"v\"], 'x0': x0, 'y0': y0})"
   ]
  },
  {
   "attachments": {},
   "cell_type": "markdown",
   "metadata": {},
   "source": [
    "# Save System Matrices for Control Experiments\n"
   ]
  },
  {
   "cell_type": "code",
   "execution_count": null,
   "metadata": {
    "tags": [
     "parameters"
    ]
   },
   "outputs": [],
   "source": [
    "# Save system matrices, projection mappings, and initial offset into file for later use\n",
    "np.savez(filepath+f\"romSystemMatrices_{n_ROM}dim_{n_train}train_{n_test}test.npz\", A_era=A_era, B_era=B_era, C_era=C_era, D_era=D_era, A_dmdc=A_dmdc, B_dmdc=B_dmdc, C_dmdc=C_dmdc, basis_dmdc = U_hat, A_lopinf=A_lopinf_dt,B_lopinf=B_lopinf_dt,C_lopinf=C_lopinf_dt,D_lopinf = D_lopinf_dt,basis_lopinf = mat[\"v\"], x0=x0, y0=y0)\n",
    "# save as .mat file\n",
    "scipy.io.savemat(filepath+f\"romSystemMatrices_{n_ROM}dim_{n_train}train_{n_test}test.mat\", mdict={'A_era': A_era, 'B_era': B_era, 'C_era': C_era, 'D_era': D_era, 'A_dmdc': A_dmdc, 'B_dmdc': B_dmdc, 'C_dmdc': C_dmdc, 'basis_dmdc': U_hat, 'A_lopinf': A_lopinf_dt, 'B_lopinf': B_lopinf_dt, 'C_lopinf': C_lopinf_dt, 'D_lopinf': D_lopinf_dt, 'basis_lopinf':mat[\"v\"], 'x0': x0, 'y0': y0})"
   ]
  },
  {
   "attachments": {},
   "cell_type": "markdown",
   "metadata": {},
   "source": [
    "# Verification Experiments"
   ]
  },
  {
   "attachments": {},
   "cell_type": "markdown",
   "metadata": {},
   "source": [
    "## Simulate System Responses from Training and Test Episodes"
   ]
  },
  {
   "attachments": {},
   "cell_type": "markdown",
   "metadata": {},
   "source": [
    "### OKID/ERA"
   ]
  },
  {
   "cell_type": "code",
   "execution_count": null,
   "metadata": {},
   "outputs": [],
   "source": [
    "# Initialize data matrices for training and testing responses\n",
    "X_hat_rom_era = np.zeros((n_ROM,n_timesteps,n_train+n_test))\n",
    "Y_hat_rom_era = np.zeros((m,n_timesteps,n_train+n_test))\n",
    "U_fom = U_fom.compute()\n",
    "# Set initial conditions for each episode\n",
    "for i in range(n_train+n_test):\n",
    "    # Set initial states\n",
    "    X_hat_rom_era[:,[0],i] = np.zeros((n_ROM,1)) #X_fom[:,[0],i]\n",
    "    # Compute initial outputs for each episode\n",
    "    Y_hat_rom_era[:,[0],i] = C_era@X_hat_rom_era[:,[0],i] + D_era@U_fom[:,[0],i]\n"
   ]
  },
  {
   "cell_type": "code",
   "execution_count": null,
   "metadata": {},
   "outputs": [],
   "source": [
    "# Simulate ERA ROM for all episodes\n",
    "for i in range(n_train+n_test):\n",
    "    # Simulate ERA ROM\n",
    "    for j in range(n_timesteps-1):\n",
    "        X_hat_rom_era[:,[j+1],i] = A_era@X_hat_rom_era[:,[j],i] + B_era@U_fom[:,[j],i]\n",
    "        Y_hat_rom_era[:,[j+1],i] = C_era@X_hat_rom_era[:,[j+1],i] + D_era@U_fom[:,[j+1],i]\n"
   ]
  },
  {
   "cell_type": "code",
   "execution_count": null,
   "metadata": {},
   "outputs": [],
   "source": [
    "# Uncenter output data with initial conditions for each episode\n",
    "for i in range(n_train+n_test):\n",
    "    Y_hat_rom_era[:,:,i] = Y_hat_rom_era[:,:,i] + Y0[:,i].reshape(m,1)\n"
   ]
  },
  {
   "cell_type": "code",
   "execution_count": null,
   "metadata": {},
   "outputs": [],
   "source": [
    "# Clear some memory\n",
    "del X_hat_rom_era"
   ]
  },
  {
   "attachments": {},
   "cell_type": "markdown",
   "metadata": {},
   "source": [
    "### DMDc"
   ]
  },
  {
   "cell_type": "code",
   "execution_count": null,
   "metadata": {},
   "outputs": [],
   "source": [
    "# Initialize data matrices for training and testing responses\n",
    "X_hat_rom_dmdc = np.zeros((n_ROM,n_timesteps,n_train+n_test))\n",
    "Y_hat_rom_dmdc = np.zeros((m,n_timesteps,n_train+n_test))\n",
    "# Set initial conditions for each episode\n",
    "for i in range(n_train+n_test):\n",
    "    # Set initial states\n",
    "    X_hat_rom_dmdc[:,[0],i] = np.zeros((n_ROM,1)) #X_fom[:,[0],i]\n",
    "    # X_hat_fom_dmdc[:,[0],i] = X_fom[:,[0],i]\n",
    "    # Compute initial outputs for each episode\n",
    "    Y_hat_rom_dmdc[:,[0],i] = C_dmdc@X_hat_rom_dmdc[:,[0],i]"
   ]
  },
  {
   "cell_type": "code",
   "execution_count": null,
   "metadata": {},
   "outputs": [],
   "source": [
    "# Simulate DMDc ROM for all episodes\n",
    "for i in range(n_train+n_test):\n",
    "    # Simulate DMDc ROM\n",
    "    for j in range(n_timesteps-1):\n",
    "        X_hat_rom_dmdc[:,[j+1],i] = A_dmdc@X_hat_rom_dmdc[:,[j],i] + B_dmdc@U_fom[:,[j],i]\n",
    "        Y_hat_rom_dmdc[:,[j+1],i] = C_dmdc@X_hat_rom_dmdc[:,[j+1],i]"
   ]
  },
  {
   "cell_type": "code",
   "execution_count": null,
   "metadata": {},
   "outputs": [],
   "source": [
    "# Uncenter FOM state and output data with initial conditions for each episode\n",
    "for i in range(n_train+n_test):\n",
    "    Y_hat_rom_dmdc[:,:,i] = Y_hat_rom_dmdc[:,:,i] + Y0[:,i].reshape(m,1)"
   ]
  },
  {
   "cell_type": "code",
   "execution_count": null,
   "metadata": {},
   "outputs": [],
   "source": [
    "# Clear some memory\n"
   ]
  },
  {
   "attachments": {},
   "cell_type": "markdown",
   "metadata": {},
   "source": [
    "### LOpInf"
   ]
  },
  {
   "cell_type": "code",
   "execution_count": null,
   "metadata": {},
   "outputs": [],
   "source": [
    "# Read in data from LOpInf Trials\n",
    "\n",
    "# Read in data from LOpInf Trials hdf5 file\n",
    "data = h5py.File(filepath+ \"lopinf_rom_11_training.hdf5\", 'r')\n",
    "print(\"gothere\")\n",
    "Y_hat_rom_lopinf = da.from_array(data[\"outputData_train_approx\"], chunks=(4096, 4096,1))\n",
    "X_hat_rom_lopinf = da.from_array(data[\"stateData_train_approx\"], chunks=(4096, 4096,1))\n",
    "\n",
    "\n",
    "\n",
    "\n",
    "# mat = mat73.loadmat(filepath+'lopinf_rom_r_6.mat')\n",
    "# X_hat_rom_lopinf = mat['stateData_approx']\n",
    "# Y_hat_rom_lopinf = mat['outputData_approx']\n"
   ]
  },
  {
   "cell_type": "code",
   "execution_count": null,
   "metadata": {},
   "outputs": [],
   "source": [
    "# Also generate outputs from LOpInf discrete time model\n",
    "# Initialize data matrices for training and testing responses\n",
    "X_hat_rom_lopinf_dt = np.zeros((n_ROM,n_timesteps,n_train+n_test))\n",
    "X_hat_fom_lopinf_dt = np.zeros((n,n_timesteps,n_train+n_test))\n",
    "Y_hat_rom_lopinf_dt = np.zeros((m,n_timesteps,n_train+n_test))\n",
    "# Set initial conditions for each episode\n",
    "for i in range(n_train+n_test):\n",
    "    # Set initial states\n",
    "    X_hat_rom_lopinf_dt[:,[0],i] = np.zeros((n_ROM,1)) #X_fom[:,[0],i]\n",
    "    # X_hat_fom_lopinf_dt[:,[0],i] = X_fom[:,[0],i]\n",
    "    # Compute initial outputs for each episode\n",
    "    Y_hat_rom_lopinf_dt[:,[0],i] = C_lopinf_dt@X_hat_rom_lopinf_dt[:,[0],i]\n"
   ]
  },
  {
   "cell_type": "code",
   "execution_count": null,
   "metadata": {},
   "outputs": [],
   "source": [
    "# Simulate LOpInf discrete time ROM for all episodes\n",
    "for i in range(n_train+n_test):\n",
    "    # Simulate LOpInf discrete time ROM\n",
    "    for j in range(n_timesteps-1):\n",
    "        X_hat_rom_lopinf_dt[:,[j+1],i] = A_lopinf_dt@X_hat_rom_lopinf_dt[:,[j],i] + B_lopinf_dt@U_fom[:,[j],i]\n",
    "        Y_hat_rom_lopinf_dt[:,[j+1],i] = C_lopinf_dt@X_hat_rom_lopinf_dt[:,[j+1],i]"
   ]
  },
  {
   "cell_type": "code",
   "execution_count": null,
   "metadata": {},
   "outputs": [],
   "source": [
    "# Uncenter FOM state and output data with initial conditions for each episode\n",
    "for i in range(n_train+n_test):\n",
    "    Y_hat_rom_lopinf_dt[:,:,i] = Y_hat_rom_lopinf_dt[:,:,i] + Y0[:,i].reshape(m,1)"
   ]
  },
  {
   "cell_type": "code",
   "execution_count": null,
   "metadata": {},
   "outputs": [],
   "source": [
    "# Compute centered state responses\n",
    "\n",
    "# Allocate space and convert rom responses to dask arrays\n",
    "basis_dmdc = da.from_array(basis_dmdc,chunks = (4096,n_ROM))\n",
    "basis_lopinf = da.from_array(basis_lopinf,chunks = (4096,n_ROM))\n",
    "X_hat_rom_dmdc = da.from_array(X_hat_rom_dmdc,chunks = (4096,n_ROM,1))\n",
    "X_hat_rom_lopinf_dt = da.from_array(X_hat_rom_lopinf_dt,chunks = (4096,n_ROM,1))\n",
    "# Compute full state responses from roms and bases for each trial\n",
    "X_hat_fom_dmdc = da.zeros((n,n_timesteps,n_train+n_test), chunks=(4096, n_timesteps,1))\n",
    "X_hat_fom_lopinf = da.zeros((n,n_timesteps,n_train+n_test), chunks=(4096, n_timesteps,1))\n",
    "for i in range(n_train + n_test):\n",
    "    X_hat_fom_dmdc[:,:,i] = basis_dmdc@X_hat_rom_dmdc[:,:,i].reshape(-1,n_timesteps)\n",
    "    X_hat_fom_lopinf_dt[:,:,i] = basis_lopinf@X_hat_rom_lopinf_dt[:,:,i].reshape(-1,n_timesteps)\n",
    "    print(i)\n"
   ]
  },
  {
   "attachments": {},
   "cell_type": "markdown",
   "metadata": {},
   "source": [
    "### Uncenter Full Order Model"
   ]
  },
  {
   "cell_type": "code",
   "execution_count": null,
   "metadata": {},
   "outputs": [],
   "source": [
    "# # Uncenter FOM state and output data with initial conditions for each episode\n",
    "# for i in range(n_train+n_test):\n",
    "#     X_fom[:,:,i] = X_fom[:,:,i] + X0[:,i].reshape(n,1)\n",
    "#     Y_fom[:,:,i] = Y_fom[:,:,i] + Y0[:,i].reshape(m,1)\n",
    "    \n",
    "\n",
    "# Read in all again data to get uncentered versions\n",
    "data = h5py.File(filepath+ \"trainingSet.hdf5\", 'r')\n",
    "print(\"gothere\")\n",
    "# X_fom = da.from_array(data[\"stateData\"][:,:,n_train+n_test], chunks=(4096, 4096,1))\n",
    "U_fom = da.from_array(data[\"inputData\"][:,:,n_train+n_test], chunks=(4096, 4096,1))\n",
    "Y_fom = da.from_array(data[\"reducedCenterlineData\"][:,:,n_train+n_test], chunks=(4096, 4096,1))"
   ]
  },
  {
   "attachments": {},
   "cell_type": "markdown",
   "metadata": {},
   "source": [
    "## Response Visualizations"
   ]
  },
  {
   "cell_type": "code",
   "execution_count": null,
   "metadata": {},
   "outputs": [],
   "source": [
    "t = np.arange(0,dt*n_timesteps,dt)"
   ]
  },
  {
   "attachments": {},
   "cell_type": "markdown",
   "metadata": {},
   "source": [
    "### First Output Response"
   ]
  },
  {
   "attachments": {},
   "cell_type": "markdown",
   "metadata": {},
   "source": [
    "#### Training Set 1"
   ]
  },
  {
   "cell_type": "code",
   "execution_count": null,
   "metadata": {},
   "outputs": [],
   "source": [
    "# Plot first output from first training episode for all modelling methods\n",
    "plt.figure()\n",
    "plt.plot(t,Y_fom[0,:,0],'k',label='FOM',linewidth=6)\n",
    "\n",
    "plt.plot(t,Y_hat_rom_era[0,:,0],'r',label='ERA',linewidth=2)\n",
    "# plt.plot(t,Y_hat_rom_dmdc[0,:,0],'b',label='DMDc',linewidth=5)\n",
    "#plt.plot(t,Y_hat_rom_opInf[0,:,0],'g',label='OpInf',linewidth=5)\n",
    "plt.plot(t,Y_hat_rom_lopinf[0,:,0],'m',label='LOpInf',linewidth=2)\n",
    "plt.plot(t,Y_hat_rom_lopinf_dt[0,:,0],'c',label='LOpInf DT',linewidth=2)\n",
    "\n",
    "legend = plt.legend(loc='upper right', shadow=False, fontsize='medium')\n",
    "plt.xlabel('Time (s)')\n",
    "plt.ylabel('Output')\n",
    "title = 'First Output from First Training Episode'\n",
    "plt.title(title)"
   ]
  },
  {
   "attachments": {},
   "cell_type": "markdown",
   "metadata": {},
   "source": [
    "#### Test Set 1"
   ]
  },
  {
   "cell_type": "code",
   "execution_count": null,
   "metadata": {},
   "outputs": [],
   "source": [
    "# Plot first output from first testing episode for all modelling methods\n",
    "outputIdx = 3\n",
    "plt.figure()\n",
    "plt.plot(t,Y_fom[outputIdx,:,n_train],'k',label='FOM',linewidth=5)\n",
    "plt.plot(t,Y_hat_rom_era[outputIdx,:,n_train],'r',label='ERA',linewidth=2)\n",
    "# plt.plot(t,Y_hat_rom_dmdc[outputIdx,:,n_train],'b',label='DMDc',linewidth=5)\n",
    "# plt.plot(t,Y_hat_rom_opInf[outputIdx,:,n_train],'g',label='OpInf',linewidth=5)\n",
    "plt.plot(t,Y_hat_rom_lopinf[outputIdx,:,n_train],'m',label='LOpInf',linewidth=2)\n",
    "plt.plot(t,Y_hat_rom_lopinf_dt[outputIdx,:,n_train],'c',label='LOpInf DT',linewidth=2)\n",
    "legend = plt.legend(loc='upper right', shadow=False, fontsize='medium')\n",
    "plt.xlabel('Time (s)')\n",
    "plt.ylabel('Output')\n",
    "title = 'First Output from First Testing Episode'\n",
    "plt.title(title)\n"
   ]
  },
  {
   "attachments": {},
   "cell_type": "markdown",
   "metadata": {},
   "source": [
    "### State Response"
   ]
  },
  {
   "attachments": {},
   "cell_type": "markdown",
   "metadata": {},
   "source": [
    "#### First Training Episode"
   ]
  },
  {
   "cell_type": "code",
   "execution_count": null,
   "metadata": {},
   "outputs": [],
   "source": [
    "# Plot first state from first training episode for all modelling methods except ERA\n",
    "plt.figure()\n",
    "stateIdx = 0\n",
    "plt.plot(t,X_fom[stateIdx,:,0] + x0[stateIdx],'k',label='FOM',linewidth=3)\n",
    "# plt.plot(t,X_hat_fom_dmdc[stateIdx,:,0],'b',label='DMDc',linewidth=5)\n",
    "plt.plot(t,X_hat_rom_lopinf[stateIdx,:,0],'m',label='LOpInf',linewidth=3)\n",
    "plt.plot(t,X_hat_fom_lopinf_dt[stateIdx,:,0] +x0[stateIdx],'g',label='LOpInf DT',linewidth=2)\n",
    "legend = plt.legend(loc='upper right', shadow=False, fontsize='medium')\n",
    "plt.xlabel('Time (s)')\n",
    "plt.ylabel('State')\n",
    "title = 'First State from First Training Episode'\n",
    "plt.title(title)"
   ]
  },
  {
   "attachments": {},
   "cell_type": "markdown",
   "metadata": {},
   "source": [
    "#### First Test Episode"
   ]
  },
  {
   "cell_type": "code",
   "execution_count": null,
   "metadata": {},
   "outputs": [],
   "source": [
    "# Plot first state from first testing episode for all modelling methods except ERA\n",
    "plt.figure()\n",
    "stateIdx = 1000\n",
    "plt.plot(t,X_fom[stateIdx,:,n_train]+ x0[stateIdx],'k',label='FOM',linewidth=3)\n",
    "# plt.plot(t,X_hat_fom_dmdc[stateIdx,:,n_train],'b',label='DMDc',linewidth=5)\n",
    "#plt.plot(t,X_hat_fom_opInf[stateIdx,:,n_train],'g',label='OpInf',linewidth=5)\n",
    "plt.plot(t,X_hat_rom_lopinf[stateIdx,:,n_train],'m',label='LOpInf',linewidth=3)\n",
    "plt.plot(t,X_hat_fom_lopinf_dt[stateIdx,:,n_train]+ x0[stateIdx],'g',label='LOpInf DT',linewidth=2)\n",
    "legend = plt.legend(loc='upper right', shadow=False, fontsize='medium')\n",
    "plt.xlabel('Time (s)')\n",
    "plt.ylabel('State')\n",
    "title = 'First State from First Testing Episode'\n",
    "plt.title(title)"
   ]
  },
  {
   "attachments": {},
   "cell_type": "markdown",
   "metadata": {},
   "source": [
    "### Centerline Videos"
   ]
  },
  {
   "cell_type": "code",
   "execution_count": null,
   "metadata": {},
   "outputs": [],
   "source": [
    "# Setup save path for videos\n",
    "video_path = config[\"currentDirectory\"] +\"data/videos/\"\n",
    "videoName_test = 'test_episode_3segment.mp4'\n",
    "videoName_train = 'train_episode_3segment.mp4'\n",
    "# Number of frames and playspeed for video\n",
    "numFrames = n_timesteps\n",
    "fps = 30\n",
    "duration = numFrames/fps\n",
    "# Axis limits for video\n",
    "xlim_max = 1150\n",
    "xlim_min =  -300\n",
    "zlim_max = -500\n",
    "zlim_min = 500\n",
    "ulim_max = 0.2\n",
    "ulim_min = -0.2\n",
    "# # Parameters for centerline reduction \n",
    "# n_seg = 10 # number of discrete points to use for centerline\n",
    "# N_local = 20 # number of local points to use when averaging around each discrete point\n",
    "\n"
   ]
  },
  {
   "attachments": {},
   "cell_type": "markdown",
   "metadata": {},
   "source": [
    "#### Training Set 1"
   ]
  },
  {
   "attachments": {},
   "cell_type": "markdown",
   "metadata": {},
   "source": [
    "Generate animation of centerline motion using output data from all modelling methods for the first training set\n"
   ]
  },
  {
   "cell_type": "code",
   "execution_count": null,
   "metadata": {},
   "outputs": [],
   "source": [
    "# # Set up figure\n",
    "# fig, ax = plt.subplots()\n",
    "# # Define animation callback\n",
    "# def animate(t):\n",
    "#     # Bring in global variables for output data of fom and each method\n",
    "#     global Y_fom, Y_hat_rom_era, Y_hat_rom_dmdc, Y_hat_rom_opInf, Y_hat_rom_lopinf\n",
    "#     # Get frame index\n",
    "#     i = int(round(t*fps))\n",
    "#     # Reshape centerline data for each method for the given timestep of the first training episode\n",
    "#     centerline_fom = Y_fom[:,i,0].reshape(-1,2)\n",
    "#     centerline_era = Y_hat_rom_era[:,i,0].reshape(-1,2)\n",
    "#     centerline_dmdc = Y_hat_rom_dmdc[:,i,0].reshape(-1,2)\n",
    "#     #centerline_opInf = Y_hat_rom_opInf[:,i,0].reshape(-1,2)\n",
    "#     centerline_lopinf = Y_hat_rom_lopinf[:,i,0].reshape(-1,2)\n",
    "#     # Compute reduced centerlines for each method\n",
    "#     centerline_fom_red = centerline_fom\n",
    "#     centerline_era_red = centerline_era\n",
    "#     centerline_dmdc_red = centerline_dmdc\n",
    "#     centerline_lopinf_red = centerline_lopinf\n",
    "#     #centerline_opInf_red = reduceCenterline(n_seg,centerline_opInf,N_local)\n",
    "#     # centerline_lopinf_red = reduceCenterline(n_seg,centerline_lopinf,N_local)\n",
    "#     # Plot reduced centerlines\n",
    "#     ax.clear()\n",
    "#     ax.plot(centerline_fom_red[:,1],centerline_fom_red[:,0],'k',label='FOM',linewidth=5)\n",
    "#     ax.plot(centerline_era_red[:,1],centerline_era_red[:,0],'r',label='ERA',linewidth=5)\n",
    "#     ax.plot(centerline_dmdc_red[:,1],centerline_dmdc_red[:,0],'b',label='DMDc',linewidth=5)\n",
    "#     #ax.plot(centerline_opInf_red[:,0],centerline_opInf_red[:,1],'g',label='OpInf',linewidth=5)\n",
    "#     ax.plot(centerline_lopinf_red[:,1],centerline_lopinf_red[:,0],'m',label='LOpInf',linewidth=5)\n",
    "#     ax.set_xlim(xlim_min,xlim_max)\n",
    "#     ax.set_ylim(zlim_min,zlim_max)\n",
    "#     ax.set_xlabel('x (mm)')\n",
    "#     ax.set_ylabel('z (mm)')\n",
    "#     ax.set_title('Centerline at timestep '+str(i))\n",
    "#     legend = plt.legend(loc='upper right', shadow=False, fontsize='medium')\n",
    "#     return mplfig_to_npimage(fig)\n",
    "\n",
    "# animation = VideoClip(animate, duration=duration)\n",
    "# animation.write_videofile(video_path+videoName_train, fps=fps)\n",
    "\n"
   ]
  },
  {
   "attachments": {},
   "cell_type": "markdown",
   "metadata": {},
   "source": [
    "#### Test Set 1"
   ]
  },
  {
   "cell_type": "code",
   "execution_count": null,
   "metadata": {},
   "outputs": [],
   "source": [
    "# # Set up figure\n",
    "# fig, ax = plt.subplots()\n",
    "# # Define animation callback \n",
    "# def animate(t):\n",
    "#     # Bring in global variables for output data of fom and each method\n",
    "#     global Y_fom, Y_hat_rom_era, Y_hat_rom_dmdc, Y_hat_rom_opInf, Y_hat_rom_lopinf\n",
    "#     # Get frame index\n",
    "#     i = int(round(t*fps))\n",
    "#     # Reshape centerline data for each method for the given timestep of the first testing episode\n",
    "#     centerline_fom = Y_fom[:,i,n_train].reshape(-1,2)\n",
    "#     centerline_era = Y_hat_rom_era[:,i,n_train].reshape(-1,2)\n",
    "#     centerline_dmdc = Y_hat_rom_dmdc[:,i,n_train].reshape(-1,2)\n",
    "#     #centerline_opInf = Y_hat_rom_opInf[:,i,0].reshape(-1,2)\n",
    "#     centerline_lopinf = Y_hat_rom_lopinf[:,i,n_train].reshape(-1,2)\n",
    "#     # Compute reduced centerlines for each method\n",
    "#     centerline_fom_red = centerline_fom\n",
    "#     centerline_era_red = centerline_era\n",
    "#     centerline_dmdc_red = centerline_dmdc\n",
    "#     centerline_lopinf_red = centerline_lopinf\n",
    "#     #centerline_opInf_red = reduceCenterline(n_seg,centerline_opInf,N_local)\n",
    "#     # centerline_lopinf_red = reduceCenterline(n_seg,centerline_lopinf,N_local)\n",
    "#     # Plot reduced centerlines\n",
    "#     ax.clear()\n",
    "#     ax.plot(centerline_fom_red[:,1],centerline_fom_red[:,0],'k',label='FOM',linewidth=5)\n",
    "#     ax.plot(centerline_era_red[:,1],centerline_era_red[:,0],'r',label='ERA',linewidth=5)\n",
    "#     ax.plot(centerline_dmdc_red[:,1],centerline_dmdc_red[:,0],'b',label='DMDc',linewidth=5)\n",
    "#     #ax.plot(centerline_opInf_red[:,0],centerline_opInf_red[:,1],'g',label='OpInf',linewidth=5)\n",
    "#     ax.plot(centerline_lopinf_red[:,1],centerline_lopinf_red[:,0],'m',label='LOpInf',linewidth=5)\n",
    "#     ax.set_xlim(xlim_min,xlim_max)\n",
    "#     ax.set_ylim(zlim_min,zlim_max)\n",
    "#     ax.set_xlabel('x (mm)')\n",
    "#     ax.set_ylabel('z (mm)')\n",
    "#     ax.set_title('Centerline at timestep '+str(i))\n",
    "#     legend = plt.legend(loc='upper right', shadow=False, fontsize='medium')\n",
    "#     return mplfig_to_npimage(fig)\n",
    "\n",
    "# animation = VideoClip(animate, duration=duration)\n",
    "# animation.write_videofile(video_path+videoName_test, fps=fps)\n",
    "\n"
   ]
  },
  {
   "attachments": {},
   "cell_type": "markdown",
   "metadata": {},
   "source": [
    "## Relative Error Computations"
   ]
  },
  {
   "attachments": {},
   "cell_type": "markdown",
   "metadata": {},
   "source": [
    "### Relative Output Errors"
   ]
  },
  {
   "attachments": {},
   "cell_type": "markdown",
   "metadata": {},
   "source": [
    "#### Training Episodes"
   ]
  },
  {
   "cell_type": "code",
   "execution_count": null,
   "metadata": {},
   "outputs": [],
   "source": [
    "# # Compute relative error in frobenius norm for all training episodes\n",
    "# rel_err_era_train = np.zeros((n_train,1))\n",
    "# rel_err_dmdc_train = np.zeros((n_train,1))\n",
    "# rel_err_lopinf_train = np.zeros((n_train,1))\n",
    "# for i in range(n_train):\n",
    "#     rel_err_era_train[i] = np.linalg.norm(Y_fom[:,:,i]-Y_hat_rom_era[:,:,i])/np.linalg.norm(Y_fom[:,:,i])\n",
    "#     rel_err_dmdc_train[i] = np.linalg.norm(Y_fom[:,:,i]-Y_hat_rom_dmdc[:,:,i])/np.linalg.norm(Y_fom[:,:,i])\n",
    "#     rel_err_lopinf_train[i] = np.linalg.norm(Y_fom[:,:,i]-Y_hat_rom_lopinf[:,:,i])/np.linalg.norm(Y_fom[:,:,i])"
   ]
  },
  {
   "attachments": {},
   "cell_type": "markdown",
   "metadata": {},
   "source": [
    "#### Test Episodes\n"
   ]
  },
  {
   "cell_type": "code",
   "execution_count": null,
   "metadata": {},
   "outputs": [],
   "source": [
    "# # Compute relative error in frobenius norm for all testing episodes\n",
    "# rel_err_era_test = np.zeros((n_test,1))\n",
    "# rel_err_dmdc_test = np.zeros((n_test,1))\n",
    "# rel_err_opInf_test = np.zeros((n_test,1))\n",
    "# rel_err_lopinf_test = np.zeros((n_test,1))\n",
    "# for i in range(n_test):\n",
    "#     rel_err_era_test[i] = np.linalg.norm(Y_fom[:,:,i+n_train]-Y_hat_rom_era[:,:,i+n_train])/np.linalg.norm(Y_fom[:,:,i+n_train])\n",
    "#     rel_err_dmdc_test[i] = np.linalg.norm(Y_fom[:,:,i+n_train]-Y_hat_rom_dmdc[:,:,i+n_train])/np.linalg.norm(Y_fom[:,:,i+n_train])\n",
    "#     rel_err_lopinf_test[i] = np.linalg.norm(Y_fom[:,:,i+n_train]-Y_hat_rom_lopinf[:,:,i+n_train])/np.linalg.norm(Y_fom[:,:,i+n_train])"
   ]
  },
  {
   "cell_type": "code",
   "execution_count": null,
   "metadata": {},
   "outputs": [],
   "source": [
    "# # Make bar plot with error bars for training and testing episodes for each method\n",
    "# fig, ax = plt.subplots()\n",
    "# ax.bar(np.arange(0,8,2)-0.45,[np.mean(rel_err_era_train),np.mean(rel_err_dmdc_train),np.mean(rel_err_opInf_train),np.mean(rel_err_lopinf_train)],yerr=[np.std(rel_err_era_train),np.std(rel_err_dmdc_train),np.std(rel_err_opInf_train),np.std(rel_err_lopinf_train)],color=['r','b','g','m'],align='center',alpha=0.5,ecolor='black',capsize=10)\n",
    "# ax.bar(np.arange(0,8,2)+0.45,[np.mean(rel_err_era_test),np.mean(rel_err_dmdc_test),np.mean(rel_err_opInf_test),np.mean(rel_err_lopinf_test)],yerr=[np.std(rel_err_era_test),np.std(rel_err_dmdc_test),np.std(rel_err_opInf_test),np.std(rel_err_lopinf_test)],color=['r','b','g','m'],align='center',alpha=0.5,ecolor='black',capsize=10,hatch='//')\n",
    "# ax.set_ylabel('Relative error')\n",
    "# ax.set_xticks(np.arange(0,8,2))\n",
    "# ax.set_xticklabels(['ERA','DMDc','OpInf','LOpInf'])\n",
    "# ax.set_title('Relative output error for training and testing episodes')\n",
    "# ax.yaxis.grid(True)\n",
    "# ax.legend(['Training','Testing'])\n",
    "# # plt.tight_layout()\n"
   ]
  },
  {
   "attachments": {},
   "cell_type": "markdown",
   "metadata": {},
   "source": [
    "### Relative State Errors"
   ]
  },
  {
   "cell_type": "code",
   "execution_count": null,
   "metadata": {},
   "outputs": [],
   "source": [
    "# # Compute relative error in frobenius norm for all training episodes of full order states for each method except ERA\n",
    "# rel_err_dmdc_train_full = np.zeros((n_train,1))\n",
    "# rel_err_opInf_train_full = np.zeros((n_train,1))\n",
    "# rel_err_lopinf_train_full = np.zeros((n_train,1))\n",
    "# for i in range(n_train):\n",
    "#     rel_err_dmdc_train_full[i] = np.linalg.norm(X_fom[:,:,i]-X_hat_fom_dmdc[:,:,i])/np.linalg.norm(X_fom[:,:,i])\n",
    "#     rel_err_opInf_train_full[i] = np.linalg.norm(X_fom[:,:,i]-X_hat_fom_opInf[:,:,i])/np.linalg.norm(X_fom[:,:,i])\n",
    "#     # rel_err_lopinf_train_full[i] = np.linalg.norm(X_fom[:,:,i]-X_hat_rom_lopinf[:,:,i])/np.linalg.norm(X_fom[:,:,i])\n",
    "    \n"
   ]
  },
  {
   "cell_type": "code",
   "execution_count": null,
   "metadata": {},
   "outputs": [],
   "source": [
    "# # Compute relative error in frobenius norm for all testing episodes of full order states for each method except ERA\n",
    "# rel_err_dmdc_test_full = np.zeros((n_test,1))\n",
    "# rel_err_opInf_test_full = np.zeros((n_test,1))\n",
    "# rel_err_lopinf_test_full = np.zeros((n_test,1))\n",
    "# for i in range(n_test):\n",
    "#     rel_err_dmdc_test_full[i] = np.linalg.norm(X_fom[:,:,i+n_train]-X_hat_fom_dmdc[:,:,i+n_train])/np.linalg.norm(X_fom[:,:,i+n_train])\n",
    "#     rel_err_opInf_test_full[i] = np.linalg.norm(X_fom[:,:,i+n_train]-X_hat_fom_opInf[:,:,i+n_train])/np.linalg.norm(X_fom[:,:,i+n_train])\n",
    "#     # rel_err_lopinf_test_full[i] = np.linalg.norm(X_fom[:,:,i+n_train]-X_hat_rom_lopinf[:,:,i+n_train])/np.linalg.norm(X_fom[:,:,i+n_train])\n",
    "\n"
   ]
  },
  {
   "cell_type": "code",
   "execution_count": null,
   "metadata": {},
   "outputs": [],
   "source": [
    "# # Make bar plot with error bars for training and testing episodes for each method\n",
    "# fig, ax = plt.subplots()\n",
    "# ax.bar(np.arange(0,6,2)-0.45,[np.mean(rel_err_dmdc_train_full),np.mean(rel_err_opInf_train_full),np.mean(rel_err_lopinf_train_full)],yerr=[np.std(rel_err_dmdc_train_full),np.std(rel_err_opInf_train_full),np.std(rel_err_lopinf_train_full)],color=['b','g','m'],align='center',alpha=0.5,ecolor='black',capsize=10)\n",
    "# ax.bar(np.arange(0,6,2)+0.45,[np.mean(rel_err_dmdc_test_full),np.mean(rel_err_opInf_test_full),np.mean(rel_err_lopinf_test_full)],yerr=[np.std(rel_err_dmdc_test_full),np.std(rel_err_opInf_test_full),np.std(rel_err_lopinf_test_full)],color=['b','g','m'],align='center',alpha=0.5,ecolor='black',capsize=10,hatch='//')\n",
    "# ax.set_ylabel('Relative error')\n",
    "# ax.set_xticks(np.arange(0,6,2))\n",
    "# ax.set_xticklabels(['DMDc','OpInf','LOpInf'])\n",
    "# ax.set_title('Relative full state error for training and testing episodes')\n",
    "# ax.yaxis.grid(True)\n",
    "# ax.legend(['Training','Testing'])\n",
    "# # plt.tight_layout()\n",
    "\n"
   ]
  }
 ],
 "metadata": {
  "kernelspec": {
   "display_name": "Python 3",
   "language": "python",
   "name": "python3"
  },
  "language_info": {
   "codemirror_mode": {
    "name": "ipython",
    "version": 3
   },
   "file_extension": ".py",
   "mimetype": "text/x-python",
   "name": "python",
   "nbconvert_exporter": "python",
   "pygments_lexer": "ipython3",
   "version": "3.8.10"
  },
  "orig_nbformat": 4
 },
 "nbformat": 4,
 "nbformat_minor": 2
}
